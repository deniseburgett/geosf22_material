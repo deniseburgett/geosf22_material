{
 "cells": [
  {
   "cell_type": "markdown",
   "metadata": {},
   "source": [
    "Geo Data Science with Python,\n",
    "Prof. Susanna Werth, VT Geosciences\n",
    "\n",
    "---\n",
    "### Reading - Lecture 6\n",
    " \n",
    "# Tuples, Sets, Files\n",
    "\n",
    "This lesson discusses the Python object types **Tuples**, **Sets** and **Files** as well as how to **read and write** files. \n",
    "\n",
    "### Content\n",
    "\n",
    "- A. <a href='#intro'> Introduction </a>\n",
    "- B. <a href='#tuples'> Tuples </a>\n",
    "- C. <a href='#sets'> Sets </a>\n",
    "- D. <a href='#files'> Files </a>\n",
    "\n",
    "### Sources\n",
    "Part B of this lesson was inspired by the page [Understanding Tuples in Python 3](https://www.digitalocean.com/community/tutorials/understanding-tuples-in-python-3) of the [Digital Ocean Community](https://www.digitalocean.com/community). Part D of this notebook is an adaption of the lesson [How To Handle Plain Text Files in Python 3](https://www.digitalocean.com/community/tutorials/how-to-handle-plain-text-files-in-python-3) of the [Digital Ocean Community](https://www.digitalocean.com/community).\n",
    "\n",
    "\n",
    "---"
   ]
  },
  {
   "cell_type": "markdown",
   "metadata": {},
   "source": [
    "<a id='intro'></a>\n",
    "# A. Introduction"
   ]
  },
  {
   "cell_type": "markdown",
   "metadata": {},
   "source": [
    "Table 1 summarizes categories and literals of complex data containers in Python. That gives a first idea how *Tuples* and *Sets* distinguish from *Lists* and *Dictionaries*.\n",
    "\n",
    "Table 1. *Literals of Composite Complex Data Containers in Python*\n",
    "\n",
    "| Container      | Category   |  Denotation  |  Feature    |  Examples  | \n",
    "| ---------:    | :---------:|  :---------: | :---------: | :--------: |\n",
    "| **List**       | Sequence   | `( [ ] )`    | mutable     | `[‘a’, ‘b’, ‘c’]` |\n",
    "| **Dictionary** |  Mapping   | `{'key: value', ...}` | mutable | `{‘Alice’: ‘38’, ‘Beth’: ‘35’}` |\n",
    "| **Tuple**      | Sequence   | `( ( ) )`    | immutable   | `(‘a’, ‘b’, ‘c’)` |\n",
    "| **Set**        | Set        | `set()`   |  mutable   | `set(['a', 'c', 'e'])` |\n",
    "\n",
    "Tuples are immutable sequences, they are used for grouping data. Sets are mutable, but they are a completely new category, which derives from mathematical set theories. Below, both object types are introduced separately."
   ]
  },
  {
   "cell_type": "markdown",
   "metadata": {},
   "source": [
    "---\n",
    "<a id='tuples'></a>\n",
    "# B. Tuples\n",
    "\n",
    "\n",
    "A tuple is a data structure that is an immutable, or unchangeable, ordered sequence of elements. A tuple is similar to a list, except for their mutability. Because tuples are immutable, their values cannot be modified and they do not come with methods that would change these objects in place. \n",
    "\n",
    "A tuple in Python looks like this:"
   ]
  },
  {
   "cell_type": "code",
   "execution_count": 1,
   "metadata": {},
   "outputs": [],
   "source": [
    "coral = ('blue coral', 'staghorn coral', 'pillar coral', 'elkhorn coral')"
   ]
  },
  {
   "cell_type": "markdown",
   "metadata": {},
   "source": [
    "Tuples have values between parentheses `( )` separated by commas `,`. Each element or value that is inside of a tuple is called an item.\n",
    "\n",
    "Empty tuples will appear as `coral = ()`, but tuples with even one value must use a comma as in `coral = ('blue coral',)`. This is because, if a tuple sequence is assigned with only one number, the respective literal could not be distingisued from assigning an integer number:"
   ]
  },
  {
   "cell_type": "code",
   "execution_count": 2,
   "metadata": {},
   "outputs": [
    {
     "data": {
      "text/plain": [
       "(int, tuple)"
      ]
     },
     "execution_count": 2,
     "metadata": {},
     "output_type": "execute_result"
    }
   ],
   "source": [
    "a=(40)\n",
    "b=(40,)\n",
    "type(a), type(b)"
   ]
  },
  {
   "cell_type": "markdown",
   "metadata": {},
   "source": [
    "Now, if we `print()` the tuple above, we’ll receive the following output, with the tuple still typed by parentheses:"
   ]
  },
  {
   "cell_type": "code",
   "execution_count": 3,
   "metadata": {},
   "outputs": [
    {
     "name": "stdout",
     "output_type": "stream",
     "text": [
      "('blue coral', 'staghorn coral', 'pillar coral', 'elkhorn coral')\n"
     ]
    }
   ],
   "source": [
    "print(coral)"
   ]
  },
  {
   "cell_type": "markdown",
   "metadata": {},
   "source": [
    "When thinking about Python tuples and other data structures that are types of collections, it is useful to consider all the different collections you have on your computer: your assortment of files, your song playlists, your browser bookmarks, your emails, the collection of videos you can access on a streaming service, and more.\n",
    "\n",
    "Tuples are similar to lists, but their values can’t be modified. Because of this, when you use tuples in your code, you are conveying to others that you don’t intend for there to be changes to that sequence of values. Additionally, because the values do not change, your code can be optimized through the use of tuples in Python, as the code will be slightly faster for tuples than for lists.\n",
    "\n",
    "### Indexing Tuples\n",
    "\n",
    "As an ordered sequence of elements, each item in a tuple can be called individually, through indexing. This is done based on sequence operations and it done in congruence to lists. \n",
    "\n",
    "Each item corresponds to an index number, which is an integer value, starting with the index number `0`. Because each item in a Python tuple has a corresponding index number, we can call a discrete item of the tuple by referring to its index number:\n",
    "\n",
    "`coral[0]` calls the item `'blue coral'`       <br>\n",
    "`coral[1]` calls the item  `'staghorn coral'`  <br>\n",
    "`coral[2]` calls the item `'pillar coral'`     <br>\n",
    "`coral[3]` calls the item `'elkhorn coral'`\n",
    "\n",
    "If we call the tuple coral with an index number of any that is greater than `3`, it will be out of range as it will not be valid. Instead, an `IndexError` will be raised. Try by uncommenting the line below:"
   ]
  },
  {
   "cell_type": "code",
   "execution_count": 4,
   "metadata": {},
   "outputs": [],
   "source": [
    "# print(coral[22])"
   ]
  },
  {
   "cell_type": "markdown",
   "metadata": {},
   "source": [
    "In addition to positive index numbers, we can also access items from the tuple with a negative index number, by counting backwards from the end of the tuple, starting at `-1`. This is especially useful if we have a long tuple and we want to pinpoint an item towards the end of a tuple.\n",
    "\n",
    "For the same tuple coral, the negative index breakdown looks like this:\n",
    "\n",
    "\n",
    "`coral[-4]` calls the item `'blue coral'`       <br>\n",
    "`coral[-3]` calls the item  `'staghorn coral'`  <br>\n",
    "`coral[-2]` calls the item `'pillar coral'`     <br>\n",
    "`coral[-1]` calls the item `'elkhorn coral'`\n"
   ]
  },
  {
   "cell_type": "markdown",
   "metadata": {},
   "source": [
    "### Further Sequence Operations with Tuples\n",
    "\n",
    "Since tuples are sequences, most sequence operations that are relevant for lists are also relevant for tuples, as long as they do not mutate the sequence.\n",
    "\n",
    "#### Slicing\n",
    "\n",
    "Slices allow us to call multiple values by creating a range of index numbers separated by a colon `[x:y]`. To just print the middle items of coral, we can do so by creating a slice. Remember, the first index number is where the slice starts (inclusive), and the second index number is where the slice ends (exclusive), which is why the following example prints the items at position 1 and 2: "
   ]
  },
  {
   "cell_type": "code",
   "execution_count": 5,
   "metadata": {},
   "outputs": [
    {
     "name": "stdout",
     "output_type": "stream",
     "text": [
      "('staghorn coral', 'pillar coral')\n"
     ]
    }
   ],
   "source": [
    "coral = ('blue coral', 'staghorn coral', 'pillar coral', 'elkhorn coral')\n",
    "\n",
    "print(coral[1:3])"
   ]
  },
  {
   "cell_type": "markdown",
   "metadata": {},
   "source": [
    "If we want to include either end of the list, we can omit one of the numbers in the tuple slicing syntax. And we can also use negative index numbers when slicing tuples, just like with positive index numbers:"
   ]
  },
  {
   "cell_type": "code",
   "execution_count": 6,
   "metadata": {},
   "outputs": [
    {
     "name": "stdout",
     "output_type": "stream",
     "text": [
      "('blue coral', 'staghorn coral', 'pillar coral')\n"
     ]
    }
   ],
   "source": [
    "print(coral[:-1])"
   ]
  },
  {
   "cell_type": "markdown",
   "metadata": {},
   "source": [
    "One last parameter that we can use with slicing of sequences, including tuples, is called **stride**, which refers to how many items to move forward after the first item is retrieved from the tuple. So far, we have omitted the stride parameter, and Python defaults to the stride of 1, so that every item between two index numbers is retrieved.\n",
    "\n",
    "The syntax for this construction is `tuple[x:y:z]`, with z referring to stride. Let’s make a larger list, then slice it, and give the stride a value of 2. The example below prints only every second item from `1` (inclusive) until `11` (exclusive):"
   ]
  },
  {
   "cell_type": "code",
   "execution_count": 7,
   "metadata": {},
   "outputs": [
    {
     "name": "stdout",
     "output_type": "stream",
     "text": [
      "(1, 3, 5, 7, 9)\n"
     ]
    }
   ],
   "source": [
    "numbers = tuple(range(0,13))\n",
    "print(numbers[1:11:2])"
   ]
  },
  {
   "cell_type": "markdown",
   "metadata": {},
   "source": [
    "We can omit the first two parameters and use stride alone as a parameter with the syntax `tuple[::z]`. Here an example to print every third tuple item:"
   ]
  },
  {
   "cell_type": "code",
   "execution_count": 8,
   "metadata": {},
   "outputs": [
    {
     "name": "stdout",
     "output_type": "stream",
     "text": [
      "(0, 3, 6, 9, 12)\n"
     ]
    }
   ],
   "source": [
    "print(numbers[::3])"
   ]
  },
  {
   "cell_type": "markdown",
   "metadata": {},
   "source": [
    "#### Concatenating and Multiplying Tuples\n",
    "\n",
    "Operators can be used to concatenate or multiply tuples. Concatenation is done with the `+` operator, and multiplication is done with the `*` operator. \n",
    "\n",
    "We can concatenate string items in a tuple with other strings using the `+` operator:"
   ]
  },
  {
   "cell_type": "code",
   "execution_count": 9,
   "metadata": {},
   "outputs": [
    {
     "name": "stdout",
     "output_type": "stream",
     "text": [
      "This reef is made up of staghorn coral\n"
     ]
    }
   ],
   "source": [
    "print('This reef is made up of ' + coral[1])"
   ]
  },
  {
   "cell_type": "markdown",
   "metadata": {},
   "source": [
    "We were able to concatenate the string item at index number `0` with the string `'This reef is made up of '`. We can also use the `+` operator to concatenate two or more tuples together."
   ]
  },
  {
   "cell_type": "code",
   "execution_count": 10,
   "metadata": {},
   "outputs": [
    {
     "name": "stdout",
     "output_type": "stream",
     "text": [
      "('blue coral', 'staghorn coral', 'pillar coral', 'elkhorn coral', 'wakame', 'alaria', 'deep-sea tangle', 'macrocystis')\n"
     ]
    }
   ],
   "source": [
    "coral = ('blue coral', 'staghorn coral', 'pillar coral', 'elkhorn coral')\n",
    "kelp = ('wakame', 'alaria', 'deep-sea tangle', 'macrocystis')\n",
    "coral_kelp = (coral + kelp)\n",
    "print(coral_kelp)"
   ]
  },
  {
   "cell_type": "markdown",
   "metadata": {},
   "source": [
    "Because the `+` operator can concatenate, it can be used to combine tuples to form a new tuple, though it cannot modify an existing tuple.\n",
    "\n",
    "The `*` operator can be used to multiply tuples. Perhaps you need to make copies of all the files in a directory onto a server or share a playlist with friends — in these cases you would need to multiply collections of data.\n",
    "\n",
    "Let’s multiply the `coral` tuple by `2` and the kelp tuple by `3`, and assign those to new tuples:"
   ]
  },
  {
   "cell_type": "code",
   "execution_count": 11,
   "metadata": {},
   "outputs": [],
   "source": [
    "multiplied_coral = coral * 2\n",
    "multiplied_kelp = kelp * 3"
   ]
  },
  {
   "cell_type": "code",
   "execution_count": 12,
   "metadata": {},
   "outputs": [
    {
     "name": "stdout",
     "output_type": "stream",
     "text": [
      "('blue coral', 'staghorn coral', 'pillar coral', 'elkhorn coral', 'blue coral', 'staghorn coral', 'pillar coral', 'elkhorn coral')\n"
     ]
    }
   ],
   "source": [
    "print(multiplied_coral)"
   ]
  },
  {
   "cell_type": "code",
   "execution_count": 13,
   "metadata": {},
   "outputs": [
    {
     "name": "stdout",
     "output_type": "stream",
     "text": [
      "('wakame', 'alaria', 'deep-sea tangle', 'macrocystis', 'wakame', 'alaria', 'deep-sea tangle', 'macrocystis', 'wakame', 'alaria', 'deep-sea tangle', 'macrocystis')\n"
     ]
    }
   ],
   "source": [
    "print(multiplied_kelp)"
   ]
  },
  {
   "cell_type": "markdown",
   "metadata": {},
   "source": [
    "By using the `*` operator we can replicate our tuples by the number of times we specify, creating new tuples based on the original data sequence.\n",
    "\n",
    "### How Tuples Differ from Lists\n",
    "\n",
    "The primary way in which tuples are different from lists is that they cannot be modified. This means that items cannot be added to or removed from tuples, and items cannot be replaced within tuples. (You can, however, concatenate two or more tuples to form a new tuple, as we have seen in the examples above.)\n",
    "\n",
    "Let’s consider our coral tuple. Say we want to replace the item 'blue coral' with a different item called 'black coral'. If we try to change that output the same way we do with a list, ..."
   ]
  },
  {
   "cell_type": "code",
   "execution_count": 14,
   "metadata": {},
   "outputs": [],
   "source": [
    "# coral[0] = 'black coral'"
   ]
  },
  {
   "cell_type": "markdown",
   "metadata": {},
   "source": [
    "... if you uncomment and execute the code line above, you will receive a `TypeError`. This is because tuples cannot be modified.\n",
    "\n",
    "#### Literals & Type Conversion\n",
    "\n",
    "If we create a tuple and decide what we really need is a list, we can convert it to a list. To convert a tuple to a list, we can do so with `list()`. After that, the `coral` object type will be a list:"
   ]
  },
  {
   "cell_type": "code",
   "execution_count": 15,
   "metadata": {},
   "outputs": [
    {
     "data": {
      "text/plain": [
       "['blue coral', 'staghorn coral', 'pillar coral', 'elkhorn coral']"
      ]
     },
     "execution_count": 15,
     "metadata": {},
     "output_type": "execute_result"
    }
   ],
   "source": [
    "list(coral)"
   ]
  },
  {
   "cell_type": "markdown",
   "metadata": {},
   "source": [
    "We can see that the tuple was converted to a list because the parentheses changed to square brackets.\n",
    "\n",
    "Likewise, we can convert lists to tuples with tuple()."
   ]
  },
  {
   "cell_type": "code",
   "execution_count": 16,
   "metadata": {},
   "outputs": [
    {
     "data": {
      "text/plain": [
       "(25, 26, 19, 39)"
      ]
     },
     "execution_count": 16,
     "metadata": {},
     "output_type": "execute_result"
    }
   ],
   "source": [
    "a_list = [25, 26, 19, 39]\n",
    "tuple(a_list)         # converting a list into a tuple, "
   ]
  },
  {
   "cell_type": "code",
   "execution_count": 17,
   "metadata": {},
   "outputs": [
    {
     "data": {
      "text/plain": [
       "[25, 26, 19, 39]"
      ]
     },
     "execution_count": 17,
     "metadata": {},
     "output_type": "execute_result"
    }
   ],
   "source": [
    "list(tuple(a_list))   # ... then back into a list"
   ]
  },
  {
   "cell_type": "markdown",
   "metadata": {},
   "source": [
    "#### Nesting\n",
    "Similarly to lists and dictionaries, tuples can be nested. For example a tuple can be nested in a tuple:"
   ]
  },
  {
   "cell_type": "code",
   "execution_count": 18,
   "metadata": {},
   "outputs": [
    {
     "name": "stdout",
     "output_type": "stream",
     "text": [
      "(1, 2, 3, (1, 2, 3))\n"
     ]
    }
   ],
   "source": [
    "at=(1,2,3,(1,2,3))\n",
    "print(at)"
   ]
  },
  {
   "cell_type": "markdown",
   "metadata": {},
   "source": [
    "#### Tuples as Keys in Dictionaries\n",
    "In contrast to lists, tuples can also be used as keys in dictionaries. The following cell creates a dictionary `dict1` with three entries, where the last contains a tuple as a key. Then the dictionary is print to screen. Study the example and how tuples can be used as key's:"
   ]
  },
  {
   "cell_type": "code",
   "execution_count": 19,
   "metadata": {},
   "outputs": [
    {
     "data": {
      "text/plain": [
       "{5: 'number', 'to': 'string', (1, 'a'): 'tuple'}"
      ]
     },
     "execution_count": 19,
     "metadata": {},
     "output_type": "execute_result"
    }
   ],
   "source": [
    "dict1 = {    5   : \"number\",\n",
    "          \"to\"   : \"string\",\n",
    "         (1,\"a\") : \"tuple\"}\n",
    "dict1"
   ]
  },
  {
   "cell_type": "markdown",
   "metadata": {},
   "source": [
    "#### List comprehensions\n",
    "Tuples can be processed by list comprehensions. Now, let's use *list comprehensions*. Try to generate a new list that bases on the tuple `a_tuple` and returns the square of each item. What object type does the operation return, a tuple or a list? And why is that so?"
   ]
  },
  {
   "cell_type": "code",
   "execution_count": 20,
   "metadata": {},
   "outputs": [],
   "source": [
    "a_tuple = (15.6, 2.7, 3.9, 61.4, 32.9, 100.2, 55.3)"
   ]
  },
  {
   "cell_type": "code",
   "execution_count": 21,
   "metadata": {},
   "outputs": [],
   "source": [
    "             # add your list comprehension on a_tuple here"
   ]
  },
  {
   "cell_type": "markdown",
   "metadata": {},
   "source": [
    "### Tuple Built-in Functions & Methods\n",
    "\n",
    "There are a few built-in functions that work with tuples. In general, most built-in functions that work with sequences, do work with tuples. For sequence methods, however, only few of them work, because often methods alter a sequence and tuples are not mutable. Some examples are given in Table 2:\n",
    "\n",
    "Table 2: *Built-in Tuple Functions & Methods*\n",
    "\n",
    "| Built-in Functions & Methods | Description |\n",
    "| :-: | :-: |\n",
    "| len()               | Gives the total length of the tuple. |\n",
    "| min()               | Returns item from the tuple with min value. |\n",
    "| max()               | Returns item from the tuple with max value. |\n",
    "| sum()               | Add items. |\n",
    "| tuple(seq)          | Converts a list into tuple. |\n",
    "| .index()            | Returns the position at the first occurrence. |\n",
    "| .count()            | Return the number of times a value appears. |\n",
    "\n",
    "Experiment executing these functions using the tuples `numbers`, `coral` and `kelp` in the following cells."
   ]
  },
  {
   "cell_type": "code",
   "execution_count": 22,
   "metadata": {},
   "outputs": [
    {
     "name": "stdout",
     "output_type": "stream",
     "text": [
      "(15.6, 2.7, 3.9, 61.4, 32.9, 100.2, 55.3)\n"
     ]
    }
   ],
   "source": [
    "a_list = [15.6, 2.7, 3.9, 61.4, 32.9, 100.2, 55.3]\n",
    "a_tuple = tuple(a_list)      # converts the a list into a tuple\n",
    "print(a_tuple)"
   ]
  },
  {
   "cell_type": "code",
   "execution_count": 23,
   "metadata": {},
   "outputs": [],
   "source": [
    "              # try the function len()"
   ]
  },
  {
   "cell_type": "code",
   "execution_count": 24,
   "metadata": {},
   "outputs": [],
   "source": [
    "              # try the function min()"
   ]
  },
  {
   "cell_type": "code",
   "execution_count": 25,
   "metadata": {},
   "outputs": [],
   "source": [
    "              # try the function max()"
   ]
  },
  {
   "cell_type": "code",
   "execution_count": 52,
   "metadata": {},
   "outputs": [],
   "source": [
    "              # try the method .index()"
   ]
  },
  {
   "cell_type": "code",
   "execution_count": 27,
   "metadata": {},
   "outputs": [],
   "source": [
    "              # try the method .count()"
   ]
  },
  {
   "cell_type": "markdown",
   "metadata": {},
   "source": [
    "### Tuple Summary\n",
    "\n",
    "Tuples are an ordered and immutable collection of arbitrary objects that has a fixed-length.\n",
    "The fact that the tuple data type is a sequenced data type that cannot be modified, offers optimization to your programs. Tuples are a somewhat faster type than lists for Python to process. When others collaborate with you on your code, your use of tuples will convey to them that you don’t intend for those sequences of values to be modified. Besides that, tuples might have advantages for certain data types. Due to their immutability, they can take over the rolse of a *constant* declaration. Most commonly they are used as dictionary keys (in contrast to lists), as keys must be immutable, too. This is helpful, when generating larger dictionaries and to use entire datasets as keys. \n",
    "\n",
    "Most sequence operations that work on strings and lists, work also on tuples: \n",
    "* Values/items are indexed by integers \n",
    "* Slicing, concatenating, repetition  \n",
    "* List comprehensions are applicable\n",
    "* Nesting\n",
    " \n",
    "The following page provides a comprehensive overview of tuple operands and functions:\n",
    "https://www.tutorialspoint.com/python3/python_tuples.htm    "
   ]
  },
  {
   "cell_type": "markdown",
   "metadata": {},
   "source": [
    "---\n",
    "<a id='sets'></a>\n",
    "# C. Sets"
   ]
  },
  {
   "cell_type": "markdown",
   "metadata": {},
   "source": [
    "### Introduction\n",
    "\n",
    "As one of the most fundamental concepts in mathematics, set theory is a branch of mathematical logic that studies sets. Therein, a set is an \"*unordered collection of unique and immutable objects that supports operations corresponding to* ***mathematical set theory***\". \n",
    "\n",
    "<img src=\"./Image_SetExample.png\" alt=\"Illustrating Sets.\" title=\"A Set\" width=\"300\" />\n",
    "Figure 1: *A Set of Geometric Objects*\n",
    "\n",
    "For example, the graphic above shows a collection of geometric objects, with each being distinctly different from the other. Such an collection of distinct objects is considered as an object in its own right. \n",
    "Sets can be derived from data lists. For example, a list of numbers may contain repeating entries. However, we can generate a set from a list, if we select each item only once from the original list:\n",
    "\n",
    "Table 3: *Example for a Set of a List of Numbers*\n",
    "\n",
    "| Type / Member | 1 | 2 | 3 | 4 | 5 | 6 |\n",
    "| -:            |:-:|:-:|:-:|:-:|:-:|:-:|\n",
    "|List:          | 0 | 7 | 2 | 7 | 0 | 4 |\n",
    "|Set:           | 7 | 0 | 4 | 2 | 1 |   |\n",
    "\n",
    "Table 4: *Example for a Set of a List of Animals (Strings)*\n",
    "\n",
    "| Type / Member | 1     | 2   |  3    |  4  |   5  |   6   |\n",
    "| -:            | :-:   | :-: | :-:   | :-: |  :-: |  :-  :|\n",
    "| List:         | dog   | cat | mouse | cat | duck | mouse |\n",
    "| Set:          | mouse | dog | cat   | duck|      |       |\n",
    "\n",
    "\n",
    "\n",
    "### Sets in Python\n",
    "\n",
    "As the examples illustrate, sets are unordered, they contain no duplicates. Hence, they are neither maps nor sequences, but they present us with a completely separate category of objects. Consequently, Python provides an object type for *Sets*. \n",
    "\n",
    "To generate a set from any sequence, the literal `set()` is used:\n"
   ]
  },
  {
   "cell_type": "code",
   "execution_count": 28,
   "metadata": {},
   "outputs": [
    {
     "name": "stdout",
     "output_type": "stream",
     "text": [
      "{'e', 'd', 'c', 'a', 'b'}\n"
     ]
    }
   ],
   "source": [
    "x = set('abcde')\n",
    "print(x)"
   ]
  },
  {
   "cell_type": "code",
   "execution_count": 29,
   "metadata": {},
   "outputs": [
    {
     "data": {
      "text/plain": [
       "set"
      ]
     },
     "execution_count": 29,
     "metadata": {},
     "output_type": "execute_result"
    }
   ],
   "source": [
    "type(x)"
   ]
  },
  {
   "cell_type": "markdown",
   "metadata": {},
   "source": [
    "Note that sets contain immutable objects, but sets themselves are mutable. Therefore, sets can embed tuples and strings (which are immutable), but once sets are created, they cannot contain any lists or dictionaries (because they are mutable). However, lists can be used to create a set, exactly like illustrated by the examples of Table 4 and 5, above."
   ]
  },
  {
   "cell_type": "code",
   "execution_count": 30,
   "metadata": {},
   "outputs": [
    {
     "name": "stdout",
     "output_type": "stream",
     "text": [
      "{0, 2, 4, 7}\n"
     ]
    }
   ],
   "source": [
    "numberList = [0, 7, 2, 7, 0, 4]\n",
    "numberSet = set(numberList)\n",
    "print(numberSet)"
   ]
  },
  {
   "cell_type": "code",
   "execution_count": 31,
   "metadata": {},
   "outputs": [
    {
     "data": {
      "text/plain": [
       "{'cat', 'dog', 'duck', 'mouse'}"
      ]
     },
     "execution_count": 31,
     "metadata": {},
     "output_type": "execute_result"
    }
   ],
   "source": [
    "set(['dog', 'cat', 'mouse', 'cat', 'duck', 'mouse'])"
   ]
  },
  {
   "cell_type": "markdown",
   "metadata": {},
   "source": [
    "But the following does not work (uncomment and try):"
   ]
  },
  {
   "cell_type": "code",
   "execution_count": 32,
   "metadata": {},
   "outputs": [],
   "source": [
    "# set(['dog', 'cat', 'mouse', 'cat', 'duck', 'mouse',[1,2,3] ])"
   ]
  },
  {
   "cell_type": "markdown",
   "metadata": {},
   "source": [
    "### Set Theory Concepts in Python\n",
    "\n",
    "The purpose of sets is to construct and manipulate unsorted collections of unique elements, in order to support mathematical applications or to analyze complex data structures. For the set in Figure 1, we might be interested in finding geometrical objects that have four corners and are of color green. For such an analysis set theory concept *Intersection* would help us (Figure 2). \n",
    "\n",
    "<img src=\"./Image_SetTheoryOperation.png\" alt=\"Illustrating Set Theory.\" title=\"Set Theory\" width=\"300\" />\n",
    "\n",
    "Figure 2: *A Venn Diagram Ilustrating the Intersection of two Sets.* [Source: Wikipedia](https://en.wikipedia.org/wiki/Set_theory) \n",
    "\n",
    "In geographical data analysis, the concepts of sets and set theory can help to find spatial objects that match two conditions, for example:\n",
    "* Combining two regions' animal species to get a collection\n",
    "* Receiving coordinates of certain buildings in a certain region\n",
    "* Finding a French style restaurant near a park\n",
    "\n",
    "Major concepts in set theory are explained in Table 5.\n",
    "\n",
    "Table 5: *Set Theory Concepts* [Source: Wikipedia](https://en.wikipedia.org/wiki/Set_theory) \n",
    "\n",
    "| Set Theory Concept | Description |\n",
    "| :-: | :- |\n",
    "| Membership | Set theory begins with a fundamental binary relation between an object o and a set A. If o is a member (or element) of A, the notation o ∈ A is used. |\n",
    "| Subset / Superset | A derived binary relation between two sets is the subset relation, also called set inclusion. If all the members of set A are also members of set B, then A is a subset of B, denoted A ⊆ B. For example, {1, 2} is a subset of {1, 2, 3} , and so is {2} but {1, 4} is not. B is also called superset of A.|\n",
    "| Union | Union of the sets A and B, denoted A ∪ B, is the set of all objects that are a member of A, or B, or both. The union of {1, 2, 3} and {2, 3, 4} is the set {1, 2, 3, 4}. |\n",
    "| Intersection | Intersection of the sets A and B, denoted A ∩ B, is the set of all objects that are members of both A and B. The intersection of {1, 2, 3} and {2, 3, 4} is the set {2, 3}. |\n",
    "| Difference | Set difference of U and A, denoted U \\ A, is the set of all members of U that are not members of A. The set difference {1, 2, 3} \\ {2, 3, 4} is {1} , while, conversely, the set difference {2, 3, 4} \\ {1, 2, 3} is {4}.\n",
    "\n",
    "\n",
    "\n",
    "The following literals are used to perform set theory concepts:"
   ]
  },
  {
   "cell_type": "code",
   "execution_count": 33,
   "metadata": {},
   "outputs": [],
   "source": [
    "x = set('abcde')\n",
    "y = set('bdxyz')"
   ]
  },
  {
   "cell_type": "code",
   "execution_count": 34,
   "metadata": {},
   "outputs": [
    {
     "data": {
      "text/plain": [
       "True"
      ]
     },
     "execution_count": 34,
     "metadata": {},
     "output_type": "execute_result"
    }
   ],
   "source": [
    "'e' in x        # Membership of 'e' in set x      "
   ]
  },
  {
   "cell_type": "code",
   "execution_count": 35,
   "metadata": {},
   "outputs": [
    {
     "data": {
      "text/plain": [
       "False"
      ]
     },
     "execution_count": 35,
     "metadata": {},
     "output_type": "execute_result"
    }
   ],
   "source": [
    "x < y           # Subset: is x subset of y"
   ]
  },
  {
   "cell_type": "code",
   "execution_count": 36,
   "metadata": {},
   "outputs": [
    {
     "data": {
      "text/plain": [
       "False"
      ]
     },
     "execution_count": 36,
     "metadata": {},
     "output_type": "execute_result"
    }
   ],
   "source": [
    "x > y           # Superset: is x superset of y"
   ]
  },
  {
   "cell_type": "code",
   "execution_count": 37,
   "metadata": {},
   "outputs": [
    {
     "data": {
      "text/plain": [
       "{'a', 'b', 'c', 'd', 'e', 'x', 'y', 'z'}"
      ]
     },
     "execution_count": 37,
     "metadata": {},
     "output_type": "execute_result"
    }
   ],
   "source": [
    "x | y           # Union of x and y"
   ]
  },
  {
   "cell_type": "code",
   "execution_count": 38,
   "metadata": {},
   "outputs": [
    {
     "data": {
      "text/plain": [
       "{'b', 'd'}"
      ]
     },
     "execution_count": 38,
     "metadata": {},
     "output_type": "execute_result"
    }
   ],
   "source": [
    "x & y           # Intersection of x and y"
   ]
  },
  {
   "cell_type": "code",
   "execution_count": 39,
   "metadata": {},
   "outputs": [
    {
     "data": {
      "text/plain": [
       "{'a', 'c', 'e'}"
      ]
     },
     "execution_count": 39,
     "metadata": {},
     "output_type": "execute_result"
    }
   ],
   "source": [
    "x - y           # Difference of x and y"
   ]
  },
  {
   "cell_type": "markdown",
   "metadata": {},
   "source": [
    "#### Geographical Example\n",
    "\n",
    "Now let's make a bit sense of these concepts and use our geographical examples for a restaurant search. We have a list of restaurants in our town, some larger restaurant chains have two branches:"
   ]
  },
  {
   "cell_type": "code",
   "execution_count": 40,
   "metadata": {},
   "outputs": [],
   "source": [
    "# %load sampleCode_L04c.py\n",
    "restaurantsInOurTown = [\n",
    "    'La Madeleine',\n",
    "    'Pont Blanc',\n",
    "    'Olive Garden',\n",
    "    'Pommes de Terre',\n",
    "    'Jean\"s''LaBoca', \n",
    "    'Pont Blanc', \n",
    "    'La Madeleine', \n",
    "    'Berliner Kueche', \n",
    "    'La Madeleine',\n",
    "    'Olive Garden']"
   ]
  },
  {
   "cell_type": "markdown",
   "metadata": {},
   "source": [
    "Additional information is given in the form of two set. Once contains all french style restaurants:"
   ]
  },
  {
   "cell_type": "code",
   "execution_count": 41,
   "metadata": {},
   "outputs": [],
   "source": [
    "setFrench = set(['La Madeleine','Pont Blanc','Jean\"s'])"
   ]
  },
  {
   "cell_type": "markdown",
   "metadata": {},
   "source": [
    "The other one contains all restaurants near a park:"
   ]
  },
  {
   "cell_type": "code",
   "execution_count": 1,
   "metadata": {},
   "outputs": [],
   "source": [
    "setPark = set(['LaBoca', 'Pont Blanc', 'La Madeleine', 'Berliner Kueche', 'Olive Garden'])"
   ]
  },
  {
   "cell_type": "markdown",
   "metadata": {},
   "source": [
    "Each of the set theory concepts can solve a different question. Use set operations to answer the questions below:"
   ]
  },
  {
   "cell_type": "code",
   "execution_count": 2,
   "metadata": {},
   "outputs": [],
   "source": [
    "# Is the restaurant 'Madeleine' located near a park?\n"
   ]
  },
  {
   "cell_type": "code",
   "execution_count": 3,
   "metadata": {},
   "outputs": [],
   "source": [
    "# Are french restaurants a category of park restaurants?\n"
   ]
  },
  {
   "cell_type": "code",
   "execution_count": 4,
   "metadata": {},
   "outputs": [],
   "source": [
    "# Are park restaurants a category of french restaurants?\n"
   ]
  },
  {
   "cell_type": "code",
   "execution_count": 5,
   "metadata": {},
   "outputs": [],
   "source": [
    "# We are just hungry, any restaurant is fine!\n"
   ]
  },
  {
   "cell_type": "code",
   "execution_count": 6,
   "metadata": {},
   "outputs": [],
   "source": [
    "# Find a french restaurant near a park!\n"
   ]
  },
  {
   "cell_type": "code",
   "execution_count": 7,
   "metadata": {},
   "outputs": [],
   "source": [
    "# Find a restaurant that is near a park but not french style!\n"
   ]
  },
  {
   "cell_type": "markdown",
   "metadata": {},
   "source": [
    "### Sets and List Comprehensions\n",
    "\n",
    "List comprehensions are applicable for sets."
   ]
  },
  {
   "cell_type": "code",
   "execution_count": 49,
   "metadata": {},
   "outputs": [
    {
     "data": {
      "text/plain": [
       "['ee', 'dd', 'cc', 'aa', 'bb']"
      ]
     },
     "execution_count": 49,
     "metadata": {},
     "output_type": "execute_result"
    }
   ],
   "source": [
    "[e*2 for e in x]"
   ]
  },
  {
   "cell_type": "markdown",
   "metadata": {},
   "source": [
    "### Set Methods\n",
    "\n",
    "Find a list of built-in set methods. Study the list and experiment with the methods in the cells below.\n",
    "\n",
    "Table 6: *Set Operations and Methods*\n",
    "\n",
    "| Operation | Equivalent | Result |\n",
    "| :- | :-: | :- |\n",
    "|`len(s)`            |           | Number of elements in set s (cardinality) |\n",
    "|`.issubset(t)`      |  `s <= t` | Test whether every element in s is in t   |\n",
    "|`.issuperset(t)`    | `s >= t`  | Test whether every element in t is in s   |\n",
    "|`.union(t)`         |`s | t`    | New set with elements from both s and t   |\n",
    "|`.intersection(t)`  | `s & t`   | New set with elements common to s and t   |\n",
    "|`.difference(t)`    | `s - t`   | New set with elements in s but not in t   |\n",
    "|`.symmetric_difference(t)` |`s ^ t` | New set with elements in either s or t but not both |\n",
    "|`.copy()`    | | New set with a shallow copy of s   |\n",
    "|`.add(x)`    | | Add element x to set s   |\n",
    "|`.remove(x)` | | Remove x from set s   |\n",
    "|`.pop(x)`    | | Remove and return element from s   |\n",
    "|`.clear()`   | | Remove all elements from set s   |"
   ]
  },
  {
   "cell_type": "code",
   "execution_count": null,
   "metadata": {},
   "outputs": [],
   "source": []
  },
  {
   "cell_type": "code",
   "execution_count": null,
   "metadata": {},
   "outputs": [],
   "source": []
  },
  {
   "cell_type": "code",
   "execution_count": null,
   "metadata": {},
   "outputs": [],
   "source": []
  },
  {
   "cell_type": "code",
   "execution_count": null,
   "metadata": {},
   "outputs": [],
   "source": []
  },
  {
   "cell_type": "markdown",
   "metadata": {},
   "source": [
    "### `frozensets()`\n",
    "\n",
    "Frozenset is a class with the characteristics of a set, but once its elements have been assigned, they cannot be changed. Tuples can be seen as immutable lists, while frozensets can be seen as immutable sets.\n",
    "\n",
    "Sets are mutable and unhashable, which means we cannot use them as dictionary keys. Frozensets are hashable and we can use them as dictionary keys.\n",
    "\n",
    "To create frozensets, we use the `frozenset()` method. Let us create two frozensets, X and Y:"
   ]
  },
  {
   "cell_type": "code",
   "execution_count": 50,
   "metadata": {},
   "outputs": [
    {
     "name": "stdout",
     "output_type": "stream",
     "text": [
      "frozenset({'z', 'd', 'x', 'y', 'b'})\n"
     ]
    }
   ],
   "source": [
    "z = frozenset('bdxyz')\n",
    "print(z)"
   ]
  },
  {
   "cell_type": "code",
   "execution_count": 51,
   "metadata": {},
   "outputs": [
    {
     "data": {
      "text/plain": [
       "{'cat', 'dog', 'duck', frozenset({1, 2, 3}), 'mouse'}"
      ]
     },
     "execution_count": 51,
     "metadata": {},
     "output_type": "execute_result"
    }
   ],
   "source": [
    "# this did not work earlier:\n",
    "# set(['dog', 'cat', 'mouse', 'cat', 'duck', 'mouse',[1,2,3] ])\n",
    "\n",
    "# compare to:\n",
    "set(['dog', 'cat', 'mouse', 'cat', 'duck', 'mouse', frozenset([1,2,3]) ])"
   ]
  },
  {
   "cell_type": "markdown",
   "metadata": {},
   "source": [
    "The frozensets support the use of Python set methods like `copy()`, `difference()`, `symmetric_difference()`, `isdisjoint()`, `issubset()`, `intersection()`, `issuperset()`, and `union()`."
   ]
  },
  {
   "cell_type": "markdown",
   "metadata": {},
   "source": [
    "---\n",
    "<a id='files'></a>\n",
    "# D. File Objects, File Input and Output"
   ]
  },
  {
   "cell_type": "markdown",
   "metadata": {},
   "source": [
    "## Introduction\n",
    "\n",
    "Python is a great tool for processing data. It is likely that any program you write will involve reading, writing, or manipulating data. For this reason, it’s especially useful to know how to handle different file formats, which store different types of data.\n",
    "\n",
    "For example, consider a Python program that checks a list of users for access control. Your list of users will likely be stored and saved in a text file. Perhaps you are not working with text, but instead have a program that does financial analysis. In order to do some number crunching, you will likely have to input those numbers from a saved spreadsheet. Regardless of your application, it is almost guaranteed that inputting or outputting data will be involved.\n",
    "\n",
    "This tutorial will briefly describe some of the format types Python is able to handle. After a brief introduction to file formats, we’ll go through how to open, read, and write a text file in Python 3.\n",
    "\n",
    "When you’re finished with this tutorial, you’ll be able to handle any text file in Python."
   ]
  },
  {
   "cell_type": "markdown",
   "metadata": {},
   "source": [
    "## Background\n",
    "\n",
    "Python is super accommodating and can, with relative ease, handle a number of different file formats, including but not limited to the following:\n",
    "\n",
    "\n",
    "| File type |\tDescription |\n",
    "| :-: | :- | \n",
    "| `txt`  |\tPlain text file stores data that represents only characters (or strings) and excludes any structured metadata |\n",
    "| `csv`  |\tComma-separated values file uses commas (or other delimiters) to structure stored data, allowing data to be saved in a table format |\n",
    "| `html` |\tHyperText Markup Language file stores structured data and is commonly used with most websites    |\n",
    "| `json` |\tJavaScript Object Notation is a simple and efficient format, making it one of the most commonly used formats to store and transfer data |\n",
    "| `jpg` | JPEG is a commonly used method of lossy compression for digital images, particularly for those images produced by digital photography. |\n",
    "\n",
    "This tutorial will focus on the `txt` file format. Technically `csv` files are also textfiles."
   ]
  },
  {
   "cell_type": "markdown",
   "metadata": {},
   "source": [
    "<div class=\"alert alert-info\">\n",
    "\n",
    "**Note**\n",
    "\n",
    "The JupyterHub includes a texteditor. To create, open and edit a textfile: go to your dashboard and click on \"New\" (button to the top right) > \"Text File\". This will create and open a textfile with the name \"untitled.txt\". Rename the file as you want, by clicking on the filename at the top of the texteditor. Once you are done with editing the file content, save and close it. \n",
    "\n",
    "</div>"
   ]
  },
  {
   "cell_type": "markdown",
   "metadata": {},
   "source": [
    "## Step 1 — Creating a Text File\n",
    "\n",
    "Before we can begin working in Python, we need to make sure we have a file to work with. To do this, open up the texteditor of the JupyterHub and create a new textfile, let’s call it `days.txt`. \n",
    "\n",
    "<div class=\"alert alert-success\">\n",
    "    \n",
    "**`~/$home/days.txt`**\n",
    "\n",
    "Monday <br> Tuesday <br> Wednesday <br> Thursday <br> Friday <br> Saturday <br> Sunday <br>\n",
    "\n",
    "</div>"
   ]
  },
  {
   "cell_type": "markdown",
   "metadata": {},
   "source": [
    "Next, save your file. Make sure that the file is located in the folder from where you want to read it. If neccessary move it to the correct folder using the JupyterLab file explorer.\n",
    "In our example, our user sammy, saved the file here: `~/geosf21_material/Lessons/days.txt`. The path will be relevant, when we open the file in Python.\n",
    "\n",
    "Now that we have a txt file to process, we can begin our code!"
   ]
  },
  {
   "cell_type": "markdown",
   "metadata": {},
   "source": [
    "## Step 2 — Opening a File\n",
    "\n",
    "To open a file in Python, we first need some way to associate the file on disk with a variable in Python. This process is called opening a file. We begin by telling Python where the file is. The location of your file is often referred to as the file path. In order for Python to open your file, it requires the path. The path to our `days.txt` file is: `/home/jupyter-YourGithubUsername/days.txt`. In Python, we will create a string variable to store this information."
   ]
  },
  {
   "cell_type": "code",
   "execution_count": 2,
   "metadata": {},
   "outputs": [],
   "source": [
    "path = './days.txt'  # update your file path if necessary"
   ]
  },
  {
   "cell_type": "markdown",
   "metadata": {},
   "source": [
    "We will then use Python’s `open()` function to open our `days.txt` file. The `open()` function requires as its first argument the file path. The function also allows for many other parameters. However, most important is the optional *mode* parameter. Mode is an optional string that specifies the mode in which the file is opened. The mode you choose will depend on what you wish to do with the file. Here are some of our mode options:\n",
    "\n",
    "* `'r'` : use for reading\n",
    "* `'w'` : use for writing\n",
    "* `'x'` : use for creating and writing to a new file\n",
    "* `'a'` : use for appending to a file\n",
    "* `'r+'` : use for reading and writing to the same file\n",
    "\n",
    "In this example, we only want to read from the file, so we will use the `'r'` mode. We will use the `open()` function to open the `days.txt` file and assign it to the variable `days_file`."
   ]
  },
  {
   "cell_type": "code",
   "execution_count": 2,
   "metadata": {},
   "outputs": [
    {
     "ename": "FileNotFoundError",
     "evalue": "[Errno 2] No such file or directory: '/home/jupyter-YourGithubUsername/days.txt'",
     "output_type": "error",
     "traceback": [
      "\u001b[0;31m---------------------------------------------------------------------------\u001b[0m",
      "\u001b[0;31mFileNotFoundError\u001b[0m                         Traceback (most recent call last)",
      "\u001b[0;32m<ipython-input-2-4737d6264ebf>\u001b[0m in \u001b[0;36m<module>\u001b[0;34m\u001b[0m\n\u001b[0;32m----> 1\u001b[0;31m \u001b[0mdays_file\u001b[0m \u001b[0;34m=\u001b[0m \u001b[0mopen\u001b[0m\u001b[0;34m(\u001b[0m\u001b[0mpath\u001b[0m\u001b[0;34m,\u001b[0m\u001b[0;34m'r'\u001b[0m\u001b[0;34m)\u001b[0m\u001b[0;34m\u001b[0m\u001b[0;34m\u001b[0m\u001b[0m\n\u001b[0m",
      "\u001b[0;31mFileNotFoundError\u001b[0m: [Errno 2] No such file or directory: '/home/jupyter-YourGithubUsername/days.txt'"
     ]
    }
   ],
   "source": [
    "days_file = open(path,'r')"
   ]
  },
  {
   "cell_type": "markdown",
   "metadata": {},
   "source": [
    "If you get an `FileNotFoundError`, make sure that you have entered the path correctly, including your Github usere name. After we have opened the file, we can then read from it, which we will do in the next step."
   ]
  },
  {
   "cell_type": "markdown",
   "metadata": {},
   "source": [
    "## Step 3 — Reading a File\n",
    "\n",
    "Since our file has been opened, we can now manipulate it (i.e. read from it) through the variable we assigned to it. Python provides three related operations for reading information from a file. We’ll show how to use all three operations as examples that you can try out to get an understanding of how they work.\n",
    "\n",
    "The first operation `<file>.read()` returns the entire contents of the file as a single string."
   ]
  },
  {
   "cell_type": "code",
   "execution_count": null,
   "metadata": {},
   "outputs": [],
   "source": [
    "days_file = open(path,'r')\n",
    "days_file.read()"
   ]
  },
  {
   "cell_type": "markdown",
   "metadata": {},
   "source": [
    "Remember `\\n` from string formatting?! This backslash character codes a new line in strings and it represents a new line in the file.\n",
    "\n",
    "The second operation `<file>.readline()` returns the next line of the file, returning the text up to and including the next newline character. More simply put, this operation will read a file line-by-line. "
   ]
  },
  {
   "cell_type": "code",
   "execution_count": null,
   "metadata": {},
   "outputs": [],
   "source": [
    "days_file.readline()"
   ]
  },
  {
   "cell_type": "markdown",
   "metadata": {},
   "source": [
    "Oh, what happened ?!!\n",
    "\n",
    "You have received an empty object!. When reading a file, a file pointer is moving through the file and always stops at the position after the last read entry. Therefore, after executin the operation `<file>.read()`, a file pointer has reached the end of the file (`EOF`). If we continue reading the file after `EOF` was reached, we receive an empty string object.\n",
    "\n",
    "<div class=\"alert alert-info\">\n",
    "\n",
    "**Note**\n",
    "\n",
    "You have to be very careful with the order of file handling operations in a Jupyter Notebook, since it is possible to execute cells in any order. Meanwhile, the Python interpreter has to first receive a command to open the file, then it can read through it step by step from beginning to end. Therefore, if you want to read a file from the beginning, we advise to always re-open a file before reading it in one Jupyter Notebook code cell.  \n",
    "\n",
    "</div>\n",
    "\n",
    "So, let's first reopen the file and then read it with the `<file>.readline()` method."
   ]
  },
  {
   "cell_type": "code",
   "execution_count": null,
   "metadata": {},
   "outputs": [],
   "source": [
    "days_file = open(path,'r')\n",
    "days_file.readline()"
   ]
  },
  {
   "cell_type": "markdown",
   "metadata": {},
   "source": [
    "At this point, we will not close the file yet, because we want to continue reading the file. If you read a line with the readline operation it will pass to the next line. So if you were to call this operation again, it would return the next line in the file, as shown."
   ]
  },
  {
   "cell_type": "code",
   "execution_count": null,
   "metadata": {},
   "outputs": [],
   "source": [
    "days_file.readline()"
   ]
  },
  {
   "cell_type": "markdown",
   "metadata": {},
   "source": [
    "Now let's try another option. The last operation, `<file>.readlines()` returns a list of the lines in the file, where each item of the list represents a single line."
   ]
  },
  {
   "cell_type": "code",
   "execution_count": null,
   "metadata": {},
   "outputs": [],
   "source": [
    "days_file = open(path,'r')\n",
    "days_file.readlines()"
   ]
  },
  {
   "cell_type": "markdown",
   "metadata": {},
   "source": [
    "Yet another option allows us to apply list comprehensions to read a file's content line by line into a list:"
   ]
  },
  {
   "cell_type": "code",
   "execution_count": null,
   "metadata": {},
   "outputs": [],
   "source": [
    "days_file = open(path,'r')\n",
    "[line for line in open(path,'r')]"
   ]
  },
  {
   "cell_type": "markdown",
   "metadata": {},
   "source": [
    "Again, keep in mind when you are reading from files, once a file has been read using one of the read operations, it cannot be read again. For example, if you were to first run `days_file.read()` followed by `days_file.readlines()` the second operation would return an empty string. Therefore, anytime you wish to read from a file you will have to first open a new file variable. Now that we have read from a file, let’s learn how to write to a new file.\n",
    "\n",
    "Python provides also some functions to control the position of the file pointer. We are not going to discuss these here, however, if you are interested, you can research the file object methods `.tell()` or `.seek()`.\n",
    "\n",
    "## Step 4 — Writing a File\n",
    "\n",
    "In this step, we are going to write a new file that includes the title *Days of the Week* followed by the days of the week. First, let’s create our `title` variable."
   ]
  },
  {
   "cell_type": "code",
   "execution_count": null,
   "metadata": {},
   "outputs": [],
   "source": [
    "title = 'Days of the Week\\n'"
   ]
  },
  {
   "cell_type": "markdown",
   "metadata": {},
   "source": [
    "We also need to store the days of the week in a string variable, which we’ll call `days`. To make it easier to follow, we include the code from the steps above. We open the file in read mode, read the file, and store the returned output from the read operation in our new variable `days`."
   ]
  },
  {
   "cell_type": "code",
   "execution_count": null,
   "metadata": {},
   "outputs": [],
   "source": [
    "path = './days.txt'  # update your file path if necessary\n",
    "days_file = open(path,'r')\n",
    "days = days_file.read()"
   ]
  },
  {
   "cell_type": "markdown",
   "metadata": {},
   "source": [
    "Now that we have variables for title and days of the week, we can begin writing to our new file. First, we need to specify the location of the file. Again, we will use the file `days.txt`. We will have to specify the new file we wish to create `new_days.txt`. Make sure to enter the path you intend to use. \n",
    "\n",
    "Now we can open our new file in write mode, using the `open()` function with the `'w'` mode specified."
   ]
  },
  {
   "cell_type": "code",
   "execution_count": 4,
   "metadata": {},
   "outputs": [],
   "source": [
    "new_path = './new_days.txt' # update your file path if necessary\n",
    "new_days = open(new_path,'w')"
   ]
  },
  {
   "cell_type": "markdown",
   "metadata": {},
   "source": [
    "Important to note, if `new_days.txt` already existed before opening the file its old contents would have been destroyed, so be careful when using the `'w'` mode.\n",
    "\n",
    "Once our new file is opened, we can put data into the file, using the write operation, `<file>.write()`. The write operation takes a single parameter, which must be a string, and writes that string to the file. If you want to start a new line in the file, you must explicitly provide the newline character. First, we write the title to the file followed by the days of the week. Let’s also add in some print statements of what we are writing out, which is often good practice for tracking your scripts’ progress."
   ]
  },
  {
   "cell_type": "code",
   "execution_count": null,
   "metadata": {
    "scrolled": true
   },
   "outputs": [],
   "source": [
    "new_days.write(title)\n",
    "print(title)\n",
    "\n",
    "new_days.write(days)\n",
    "print(days)"
   ]
  },
  {
   "cell_type": "markdown",
   "metadata": {},
   "source": [
    "In analogy to readlines, a list of strings can be written to a file at onces using the file object method `<file>.writelines().`\n",
    "\n",
    "Lastly, whenever we are finished with a file, we need to make sure to close it. We show this in our final step.\n",
    "\n",
    "\n",
    "## Step 5 — Closing a File\n",
    "\n",
    "Closing a file makes sure that the connection between the file on disk and the file variable is finished. Closing files also ensures that other programs are able to access them and keeps your data safe. So, always make sure to close your files. Now, let’s close all our files using the `<file>.close()` function."
   ]
  },
  {
   "cell_type": "code",
   "execution_count": 6,
   "metadata": {},
   "outputs": [],
   "source": [
    "days_file.close()\n",
    "new_days.close()"
   ]
  },
  {
   "cell_type": "markdown",
   "metadata": {},
   "source": [
    "We’re now finished processing files in Python and can move on to looking over our code."
   ]
  },
  {
   "cell_type": "code",
   "execution_count": 5,
   "metadata": {},
   "outputs": [
    {
     "name": "stdout",
     "output_type": "stream",
     "text": [
      "Days of the Week\n",
      "\n",
      "Monday\n",
      "Tuesday\n",
      "Wednesday\n",
      "Thursday\n",
      "Friday\n",
      "Saturday\n",
      "Sunday\n",
      "\n"
     ]
    }
   ],
   "source": [
    "path = './days.txt'  # update your file path if necessary\n",
    "days_file = open(path,'r')\n",
    "days = days_file.read()\n",
    "\n",
    "new_path = './new_days.txt' # update your file path if necessary\n",
    "new_days = open(new_path,'w')\n",
    "\n",
    "title = 'Days of the Week\\n'\n",
    "new_days.write(title)\n",
    "print(title)\n",
    "\n",
    "new_days.write(days)\n",
    "print(days)\n",
    "\n",
    "days_file.close()\n",
    "new_days.close()"
   ]
  },
  {
   "cell_type": "markdown",
   "metadata": {},
   "source": [
    "With that we covered the bulit-in functions to handle textfiles in Python. For more sophisticated file operations, including renaming, deleting, moving files or folder, external module packages have to be used. We will get back to that later. "
   ]
  },
  {
   "cell_type": "markdown",
   "metadata": {},
   "source": [
    "## Receiving User Input\n",
    "\n",
    "Another very useful tool in Python, not to actually handle files but to receive user input from the keyboard, is the function `input()` (note in Python2, this would be the function `raw_input()`).\n",
    "\n",
    "You can request user input in Jupyter Notebook or in a Python script like the one above. For that, Python 2 and 3 differ in reading user input:\n",
    "* `text = raw_input(\"prompt\")`  # Python 2\n",
    "* `text = input(\"prompt\")`  # Python 3\n",
    "\n",
    "Since, the Kernel on the JupyterHub is running Python 3, you have to use the function `input()`. If you are unsure, which Python version you are running on your computer, just execute the following command in your terminal or command window:\n",
    "\n",
    "`python --version`"
   ]
  },
  {
   "cell_type": "markdown",
   "metadata": {},
   "source": [
    "<div class=\"alert alert-warning\">\n",
    "    \n",
    "**Note**\n",
    "\n",
    "If you run the `input()` function in a Jupyter Notebook a prompt field opens. After entering text, you have to hit `<Enter>`. Do not execute the cell again, before hitting a plain `<Enter>`. If you execute the cell again (e.g. by hitting `<Shift>+<Enter>` or the `Run` butoon at the top), without actually filling the prompt field, the Kernel get's stuck in an infinite loop that you cannot interrupt through cell controls, since the original prompt is hidden. Therefore, once the prompt field is open, enter something into it before executing the cell again, then hit a plain `<Enter>` on your keyboard. However, if you get stuck in such an infinite loop, you can force the Kernel to stop the loop by clicking on the following menue item above: `Kernel` > `Interupt`.\n",
    "\n",
    "</div>\n"
   ]
  },
  {
   "cell_type": "markdown",
   "metadata": {},
   "source": [
    "Now, let's try to get some user input and assign it to a variable. For that, execute the cell below. The cell will prompt you to enter any string and it would display the same string on the screen. Enter your text and hit a plain `<Enter>`. Then execute the cell below, to see your result!"
   ]
  },
  {
   "cell_type": "code",
   "execution_count": null,
   "metadata": {},
   "outputs": [],
   "source": [
    "print('Write something, you like to see printed below!!!')\n",
    "yourText = input()\n"
   ]
  },
  {
   "cell_type": "code",
   "execution_count": null,
   "metadata": {},
   "outputs": [],
   "source": [
    "print(\"You entered: \", yourText)"
   ]
  },
  {
   "cell_type": "markdown",
   "metadata": {},
   "source": [
    "Add the following code to the end of your Python script you generated in the exercise above. Then execute the script again and try the user input!"
   ]
  },
  {
   "cell_type": "code",
   "execution_count": null,
   "metadata": {},
   "outputs": [],
   "source": [
    "print('Which is your favorite day?!!!')\n",
    "yourText = input()\n",
    "print('')\n",
    "print('Great choice, your favorite day : ')\n",
    "print(yourText)\n",
    "print('')"
   ]
  },
  {
   "cell_type": "markdown",
   "metadata": {},
   "source": [
    "## Conclusions: File Objects\n",
    "\n",
    "File objects are the main interface to external files on your computer. With that files are also a core object type. There is no specific literal syntax for creating or reading files. Instead built-in functions are used for handling files. File objects are created  using the `open()` function. A summary of File I/O in Python, mentioning a few more useful methods and functions, can be accessed here: https://www.tutorialspoint.com/python/python_files_io.htm. \n",
    "Now you can open, read, write, and close textfiles in Python!\n",
    "\n",
    "You should also be able to read user input from the keyboard. And you can even write a small program (script) and execute it on the terminal of the JupyterHub. If you install Python on your own computer, this way you can run any Python script from the terminal (on Apple desktops) or from the command window (on Windows desktops). \n"
   ]
  }
 ],
 "metadata": {
  "kernelspec": {
   "display_name": "Python 3",
   "language": "python",
   "name": "python3"
  },
  "language_info": {
   "codemirror_mode": {
    "name": "ipython",
    "version": 3
   },
   "file_extension": ".py",
   "mimetype": "text/x-python",
   "name": "python",
   "nbconvert_exporter": "python",
   "pygments_lexer": "ipython3",
   "version": "3.8.5"
  }
 },
 "nbformat": 4,
 "nbformat_minor": 4
}
