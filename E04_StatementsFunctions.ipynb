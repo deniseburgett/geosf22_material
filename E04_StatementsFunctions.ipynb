{
 "cells": [
  {
   "cell_type": "markdown",
   "id": "ba686ffb",
   "metadata": {},
   "source": [
    "Geo Data Science with Python,\n",
    "Prof. Susanna Werth, VT Geosciences\n",
    "\n",
    "---\n",
    "### Exercise 4\n",
    "\n",
    "# Statements and Functions\n",
    "\n",
    "### Content & Grading\n",
    "\n",
    "You will receive the following points for this exercise:\n",
    "\n",
    "- \n",
    "- A. <a href='#selections'>  Selections </a> - 30 Points\n",
    "- B. <a href='#loops'>     Loops and Iterations </a> - 30 Points\n",
    "- C. <a href='#functions'> Functions </a> - 40 Points\n",
    "- D. <a href='#tuples'>  Tuples and Sets </a> - 20 Extra Credit Points\n",
    "\n",
    "Total: 100 + 20\n",
    "\n",
    "---"
   ]
  },
  {
   "cell_type": "markdown",
   "id": "9d89e40e",
   "metadata": {},
   "source": [
    "### Name and Collaborator\n",
    "Add your name and the name of any collaborator in the code cell below."
   ]
  },
  {
   "cell_type": "code",
   "execution_count": 1,
   "id": "ade92c9d",
   "metadata": {},
   "outputs": [],
   "source": [
    "Name = ''\n",
    "Collaborators = [''] "
   ]
  },
  {
   "cell_type": "markdown",
   "id": "920051df-d2d5-43b9-8da4-a5301c25ad4d",
   "metadata": {},
   "source": [
    "---\n",
    "<a id='selections'></a>\n",
    "# A. Classifying Temperature Data (Selections & Iteration)\n",
    "\n",
    "In this assignment, we drafted a geoscience problem which you can already solve with Python knowledge studied so far.\n",
    "\n",
    "### Overview\n",
    "\n",
    "This problem introduces you to a useful concept of data classification. Your aim is to classify daily temperatures stored in the list variable `temperatures`, provided in the code cell below, into four different classes:\n",
    "\n",
    "  - **Cold**: Temperatures below -2 degrees Celsius\n",
    "  - **Slippery**: Temperatures warmer or equal to -2 degrees and up to +2 degrees Celsius\n",
    "  - **Comfortable**: Temperatures warmer or equal to +2 degrees and up to +15 degrees Celsius\n",
    "  - **Warm**: Temperatures warmer or equal to +15 degrees Celsius\n",
    "  \n",
    "  \n",
    "### Data"
   ]
  },
  {
   "cell_type": "code",
   "execution_count": null,
   "id": "39656c7d",
   "metadata": {},
   "outputs": [],
   "source": [
    "''' DATA: Run this cell to get values into the server memory)'''\n",
    "\n",
    "# A list of night-time, day-time and evening temperatures for April 2013 measured in Helsinki Malmi Airport. \n",
    "# The list contains 90 values since there are 3 values for each day (April has 30 days).\n",
    "# The first value of a single day represents night, the second one day-time, and the third one evening temperature.\n",
    "\n",
    "temperatures = [-5.4, 1.0, -1.3, -4.8, 3.9, 0.1, -4.4, 4.0, -2.2, -3.9, 4.4,\n",
    "                -2.5, -4.6, 5.1, 2.1, -2.4, 1.9, -3.3, -4.8, 1.0, -0.8, -2.8,\n",
    "                -0.1, -4.7, -5.6, 2.6, -2.7, -4.6, 3.4, -0.4, -0.9, 3.1, 2.4,\n",
    "                1.6, 4.2, 3.5, 2.6, 3.1, 2.2, 1.8, 3.3, 1.6, 1.5, 4.7, 4.0,\n",
    "                3.6, 4.9, 4.8, 5.3, 5.6, 4.1, 3.7, 7.6, 6.9, 5.1, 6.4, 3.8,\n",
    "                4.0, 8.6, 4.1, 1.4, 8.9, 3.0, 1.6, 8.5, 4.7, 6.6, 8.1, 4.5,\n",
    "                4.8, 11.3, 4.7, 5.2, 11.5, 6.2, 2.9, 4.3, 2.8, 2.8, 6.3, 2.6,\n",
    "                -0.0, 7.3, 3.4, 4.7, 9.3, 6.4, 5.4, 7.6, 5.2]"
   ]
  },
  {
   "cell_type": "markdown",
   "id": "46261243-b67e-4e08-be12-e1f01bd46202",
   "metadata": {},
   "source": [
    "### Task\n",
    "\n",
    "To solve this problem, fill in code in the second code cell below. Your code should include:\n",
    "\n",
    "1. Create four empty lists for different temperature classes. Please use **exactly** the same class names for the list variables as provided above (`cold`, `slippery`, `comfortable`, and `warm`). You can create an empty list with the code: ```emptyList = []```.\n",
    "\n",
    "2. Iterate over the values in the dataset `temperatures` and add each temperature value to its respective lists (corresponding with the temperature classifications `cold`, `slippery`, `comfortable`, and `warm`).\n",
    "\n",
    "3. Use the temperature classifying lists to write code that answer the following questions:\n",
    "    * a.) How many times was it slippery during the study period?\n",
    "    * b.) Was it ever warm during the study period?\n",
    "    * c.) What is the mean cold temperature during the study period?\n",
    "    * d.) What is the highest comfortable temperature during the study period?\n",
    "\n",
    "\n",
    "### Grading Criteria\n",
    "\n",
    " - Use a for-loop to iterate over the temperature values.\n",
    " - Use conditional statements to find out if a value is within certain value range.\n",
    " - Print out resulting information for the user.\n",
    " - Include comments in the code that explain what most lines in the code do."
   ]
  },
  {
   "cell_type": "code",
   "execution_count": 12,
   "id": "28944ea9",
   "metadata": {},
   "outputs": [],
   "source": [
    "### ADD YOUR CODE BELOW THIS LINE FOR 1)\n",
    "\n",
    "\n",
    "### ADD YOUR CODE BELOW THIS LINE FOR 2)\n",
    "\n",
    "\n",
    "### ADD YOUR CODE BELOW THIS LINE FOR 3)\n",
    "\n"
   ]
  },
  {
   "cell_type": "markdown",
   "id": "1a67c977-bd23-48bb-826b-ee98654247d9",
   "metadata": {},
   "source": [
    "---\n",
    "<a id='loop'></a>\n",
    "# B. Allocating Locations (Loops)\n",
    "\n",
    "### Overview \n",
    "Following map shows the locations of the weather stations (as blue points) in Finland that are more than 70 years old [1].\n",
    "In this problem we are interested to find out whether the station network was equally distributed across Finland\n",
    "seventy years ago. We have divided Finland into four geographical zones (i.e. North West, North East, South West, South East)\n",
    "according the approximate center point of Finnish mainland located at `26.3, 64.5` (lon-lat in decimal degrees).\n",
    "\n",
    "[1] The locations and the age of weather stations were obtained from: http://en.ilmatieteenlaitos.fi/observation-stations\n",
    "\n",
    "<img src=\"./E04_Image_FMI_stations_70_years_older.png\" title=\"FMI_stations_70_years_older. (Lutz 2013, Table 5-2)\" width=\"200\" />\n",
    "\n",
    "Below, we have given you the coordinates of 34 weather stations. The station names are stored in the list `stations`. The location of a single station is given with a pair of latitude and longitude coordinates, stored in two separate lists (`lat` and `lon`). \n",
    "\n",
    "That means, for example, to get the name and location of the first station, you need to request the first item of each variable, hence, stored at index[0].\n",
    "\n",
    "### Problem Statement\n",
    "\n",
    "In this problem your job is to print the names of weather stations located in the different geographical zones. To solve this problem, you should modify and fill in the missing parts in the code cells below. \n",
    "\n",
    "The tasks will include several steps 1-4 below.\n",
    "\n",
    "### Grading Criteria\n",
    "\n",
    "* Use for loop to iterate over the stations\n",
    "* Use combined conditional statements to find out in which region the station is located\n",
    "* Print out resulting information for the user\n",
    "* Include comments to the code that explain what most lines in the code do"
   ]
  },
  {
   "cell_type": "markdown",
   "id": "fb6b30e5",
   "metadata": {},
   "source": [
    "### Data\n",
    "\n",
    "Below the station data for the problem (run the cell to get values into the memory of your computer):"
   ]
  },
  {
   "cell_type": "code",
   "execution_count": 5,
   "id": "2b6f7413",
   "metadata": {},
   "outputs": [],
   "source": [
    "''' DATA: Run this cell to get values into the server memory)'''\n",
    "\n",
    "# Station names\n",
    "stations = ['Hanko Russarö', 'Heinola Asemantaus', 'Helsinki Kaisaniemi', \n",
    "            'Helsinki Malmi airfield', 'Hyvinkää Hyvinkäänkylä', 'Joutsa Savenaho', \n",
    "            'Juuka Niemelä', 'Jyväskylä airport', 'Kaarina Yltöinen', 'Kauhava airfield', \n",
    "            'Kemi Kemi-Tornio airport', 'Kotka Rankki', 'Kouvola Anjala', \n",
    "            'Kouvola Utti airport', 'Kuopio Maaninka', 'Kuusamo airport', \n",
    "            'Lieksa Lampela', 'Mustasaari Valassaaret', 'Parainen Utö', 'Pori airport', \n",
    "            'Rovaniemi Apukka', 'Salo Kärkkä', 'Savonlinna Punkaharju Laukansaari', \n",
    "            'Seinäjoki Pelmaa', 'Siikajoki Ruukki', 'Siilinjärvi Kuopio airport', \n",
    "            'Tohmajärvi Kemie', 'Utsjoki Nuorgam', 'Vaala Pelso', 'Vaasa airport', \n",
    "            'Vesanto Sonkari', 'Vieremä Kaarakkala', 'Vihti Maasoja', 'Ylitornio Meltosjärvi']\n",
    "\n",
    "# Latitude coordinates of Weather stations  \n",
    "lats = [59.77, 61.2, 60.18, 60.25, 60.6, 61.88, 63.23, 62.4,\n",
    "       60.39, 63.12, 65.78, 60.38, 60.7, 60.9, 63.14, 65.99,\n",
    "       63.32, 63.44, 59.78, 61.47, 66.58, 60.37, 61.8, 62.94,\n",
    "       64.68, 63.01, 62.24, 70.08, 64.51, 63.06, 62.92, 63.84,\n",
    "       60.42, 66.53]\n",
    "\n",
    "# Longitude coordinates of Weather stations \n",
    "lons = [22.95, 26.05, 24.94, 25.05, 24.8, 26.09, 29.23, 25.67, \n",
    "       22.55, 23.04, 24.58, 26.96, 26.81, 26.95, 27.31, 29.23, \n",
    "       30.05, 21.07, 21.37, 21.79, 26.01, 23.11, 29.32, 22.49, \n",
    "       25.09, 27.8, 30.35, 27.9, 26.42, 21.75, 26.42, 27.22, \n",
    "       24.4, 24.65]\n",
    "\n",
    "# Cutoff values that correspond to the centroid of Finnish mainland\n",
    "# North - South\n",
    "north_south_cutoff = 64.5\n",
    "\n",
    "# East-West\n",
    "east_west_cutoff = 26.3"
   ]
  },
  {
   "cell_type": "markdown",
   "id": "603f333e",
   "metadata": {},
   "source": [
    "### Tasks\n",
    "\n",
    "1. Create four empty lists for geographical zones in Finland (i.e. `nort_west`, `north_east`, `south_west`, `south_east`)\n",
    "\n",
    "2. Determine the number of stations and store it in the variable *`N`*.\n",
    "\n",
    "3. Determine geographical zone for all stations: Write a while or for loop that iterates N number of times, and inserts the name of all stations to the lists of geographical zones given their coordinates. Use a conditional statement to find out if the latitude coordinate of a station is either North or South of the center point of Finland (`26.3, 64.5`) **AND** if the longitude location is West or East from that center point.\n",
    "\n",
    "4. Comment your code and print out the names of stations at each geographical zone.\n",
    "\n",
    "5. Calculate and report what portion (share) of weather stations are located in each geographical zone (in percentages, the total number of stations equals to 100 %). This information could be used to evaluate if a certain zone was over/under-represented in the data seventy years ago. You can check your results by printing out the sum of all shares and assign it to the variable `shareAllStations`.\n",
    "\n",
    "**Don't forget to comment your code!**"
   ]
  },
  {
   "cell_type": "code",
   "execution_count": null,
   "id": "7602f33b-6dd2-40f6-9ede-5534496d82a7",
   "metadata": {},
   "outputs": [],
   "source": [
    "### ADD YOUR CODE BELOW THIS LINE FOR 1)\n",
    "\n",
    "\n",
    "### ADD YOUR CODE BELOW THIS LINE FOR 2)\n",
    "\n",
    "\n",
    "### ADD YOUR CODE BELOW THIS LINE FOR 3)\n",
    "\n",
    "\n",
    "### ADD YOUR CODE BELOW THIS LINE FOR 4)\n",
    "\n",
    "\n",
    "### ADD YOUR CODE BELOW THIS LINE FOR 5)\n",
    "\n"
   ]
  },
  {
   "cell_type": "markdown",
   "id": "06043003",
   "metadata": {},
   "source": [
    "---\n",
    "<a id='functions'></a>\n",
    "# C. Temperature Calculator (Functions)\n",
    "\n",
    "During one of the lesssons, we have worked with functions converting temperature values from degree Celsius. The code for this and two other temperature conversion functions are given in the code snippet file `./Lecture08/TempCalculatorSnippets.py`. \n",
    "\n",
    "### Problem Statement\n",
    "\n",
    "The code snippet contains function to convert temperature units from degree Celsius to Fahrenheit, from Kelvin to Celsius and from Kelvin to Fahrenheit. Using provided code for temperature unit conversions, write a more **universal `tempCalculator` function that accepts temperatures in Kelvins and returns either Celsius or Fahrenheit**. Make use of the functions provided in the code snippet file. You can call functions from functions.\n",
    "\n",
    "### Tasks\n",
    "\n",
    "1. Load the python code file 'tempCalculator.py’ (see code cell below).\n",
    "2. Create a new function `tempCalculator`, which accepts two parameter:\n",
    "    - `tempK` = parameter receives temperature values in units of degree Kelvin\n",
    "    - `selection` = determines whether to output should be in Celsius or in Fahrenheit (using letters `C` or `F` accordingly)\n",
    "3. Write the function so that it converts and returns temperature values from Kelvin to either Celsius or Fahrenheit, depending on the value it receives for the second argument. A selection is needed for this. Also, make use of the functions provided in the code snippets to perform the conversions, instead of rewriting the same equations. For that, the provided functions should be called from the new function `tempCalculator`.\n",
    "4. Add the docstring provided in the code snippet file at an appropriate position in the `tempCalculator` function.\n",
    "5. In the code cell defining the `tempCalculator` function, define the following variables in a way so they become **global** variables for the notebook (you have two multiple syntax choices for this, choose any that works):\n",
    "    - tempFreezeK = 0\n",
    "    - tempFreezeC = 0\n",
    "    - tempFreezeF = 32\n",
    "6. Set these global variables as default values for the arguments of the `tempCalculator` function.\n",
    "7. Test/Apply the calculator for once with passed values, once for default values.\n",
    "8. Call the help() function for the calculator. \n",
    "\n",
    "### Grading criteria\n",
    "\n",
    "- coded function with two input and one return arguments\n",
    "- coded selection for different temperature units\n",
    "- default arguments are set to receive values of the correctly defined global variables for freezing points\n",
    "- call the provided functions from the new function `tempCalculator`\n",
    "- added the docstring and comments in the code\n",
    "- called the tempCalculator for two examples and applied the help function\n",
    "\n",
    "### Data / Code\n",
    " \n",
    "In the code cell below, uncomment and use the magic command `%load` to load the content of the python code snippet into the code cell below (simply uncomment the code line and execute the cell).\n"
   ]
  },
  {
   "cell_type": "code",
   "execution_count": 18,
   "id": "72f5cbe7-5f35-4ae3-908e-484481607b5f",
   "metadata": {},
   "outputs": [],
   "source": [
    "# %load ./Lecture08/TempCalculatorSnippets.py\n"
   ]
  },
  {
   "cell_type": "code",
   "execution_count": null,
   "id": "b945ffac",
   "metadata": {},
   "outputs": [],
   "source": [
    "### ADD YOUR CODE FOR the new function here\n",
    "\n",
    "\n",
    "\n"
   ]
  },
  {
   "cell_type": "code",
   "execution_count": null,
   "id": "63aee1e6-84eb-4155-ba95-ead9ec6acfcd",
   "metadata": {},
   "outputs": [],
   "source": [
    "### ADD YOUR CODE FOR for testing/applying the new function and calling the help here\n",
    "\n",
    "\n"
   ]
  },
  {
   "cell_type": "markdown",
   "id": "29cf0def-f8c8-415c-a10d-774c97cf63c4",
   "metadata": {},
   "source": [
    "---\n",
    "<a id='tuples'></a>\n",
    "# D. Tuples and Sets (extra credit / optional)\n",
    "\n",
    "## D.1 Tuples\n",
    "\n",
    "In the code cell below, add the code for the following tasks\n",
    "\n",
    "1. Create a tuple that contains only one number.\n",
    "2. Create a tuple containing numbers 1 to 7.\n",
    "3. Create a tuple containing the strings \"firstName\", \"lastName\" \n",
    "4. Create a dictionary with the previous tuple as key and enter your own names as data."
   ]
  },
  {
   "cell_type": "code",
   "execution_count": null,
   "id": "4c004d87-3f0a-4960-9079-39c1d826b71e",
   "metadata": {},
   "outputs": [],
   "source": [
    "### ADD YOUR CODE BELOW THIS LINE FOR 1)\n",
    "\n",
    "\n",
    "### ADD YOUR CODE BELOW THIS LINE FOR 2)\n",
    "\n",
    "\n",
    "### ADD YOUR CODE BELOW THIS LINE FOR 3)\n",
    "\n",
    "\n",
    "### ADD YOUR CODE BELOW THIS LINE FOR 4)\n",
    "\n"
   ]
  },
  {
   "cell_type": "markdown",
   "id": "67990b75-79b1-48b4-8c3c-2edd04c5dc46",
   "metadata": {},
   "source": [
    "---\n",
    "## D.2 Create Sets from Lists\n",
    "\n",
    "This tasks includes generating and handling various sets. \n",
    "\n",
    "1. Using the function range, create \n",
    "    - a list variable `List1` including numbers 1-15, and\n",
    "    - a second list variable `List2` containing  numbers in the range 10-25. Make sure to convert the number ranges into an actual list.\n",
    "    - *Concatenate* both just created lists and store the result into a third list variable `List3`.\n",
    "\n",
    "2. Convert each of the lists into a set variable: `Set1`, `Set2` and `Set3`, using an appropriate function."
   ]
  },
  {
   "cell_type": "code",
   "execution_count": 4,
   "id": "144fe8c4-dfed-4c08-b05a-33c9e45ad864",
   "metadata": {},
   "outputs": [],
   "source": [
    "### ADD YOUR CODE BELOW THIS LINE FOR 1)\n",
    "\n",
    "\n",
    "### ADD YOUR CODE BELOW THIS LINE FOR 2)\n",
    "\n"
   ]
  },
  {
   "cell_type": "markdown",
   "id": "060c3f75-ca3c-4388-a27d-89080c028aa2",
   "metadata": {},
   "source": [
    "---\n",
    "## D.3 Set Operations\n",
    "\n",
    "Continue with the generated sets from above and add the following in the code cell below:\n",
    "\n",
    "1. Assign the intersection between `Set1` and `Set2` to a variable with the name `intersect_12`.\n",
    "\n",
    "2. Assign the union between `Set1` and `Set2` to a variable with the name `union_12`.\n",
    "\n",
    "3. Assign the difference between `Set3` and `union_12` to a variable with the name `leer`.\n",
    "\n",
    "4. Convert `Set3` into a tuple of the name `Tuple1`.\n"
   ]
  },
  {
   "cell_type": "code",
   "execution_count": null,
   "id": "2975e7f7-097a-4cf2-8035-4eb7e1a54013",
   "metadata": {},
   "outputs": [],
   "source": [
    "### ADD YOUR CODE BELOW THIS LINE FOR 1)\n",
    "\n",
    "\n",
    "### ADD YOUR CODE BELOW THIS LINE FOR 2)\n",
    "\n",
    "\n",
    "### ADD YOUR CODE BELOW THIS LINE FOR 3)\n",
    "\n",
    "\n",
    "### ADD YOUR CODE BELOW THIS LINE FOR 4)\n",
    "\n"
   ]
  }
 ],
 "metadata": {
  "kernelspec": {
   "display_name": "Python 3",
   "language": "python",
   "name": "python3"
  },
  "language_info": {
   "codemirror_mode": {
    "name": "ipython",
    "version": 3
   },
   "file_extension": ".py",
   "mimetype": "text/x-python",
   "name": "python",
   "nbconvert_exporter": "python",
   "pygments_lexer": "ipython3",
   "version": "3.8.8"
  }
 },
 "nbformat": 4,
 "nbformat_minor": 5
}
