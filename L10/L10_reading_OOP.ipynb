{
 "cells": [
  {
   "cell_type": "markdown",
   "metadata": {},
   "source": [
    "Geo Data Science with Python,\n",
    "Prof. Susanna Werth, VT Geosciences\n",
    "\n",
    "---\n",
    "### Reading - Lecture 10\n",
    "\n",
    "# Object-Oriented Programming and Classes in Python\n",
    "\n",
    "<img src=\"./image_shark.png\" width=\"500\" />\n",
    "\n",
    "This lesson discusses object-oriented programming in Python. It also   explains the syntax of creating and using simple **classes**. \n",
    "\n",
    "### Content\n",
    "\n",
    "- A. <a href='#partA'> How to Construct Classes and Define Objects </a>\n",
    "- B. <a href='#partB'> Understanding Class and Instance Variables</a>\n",
    "- C. <a href='#partC'> Handling of Class Attributes and Methods </a>\n",
    "\n",
    "\n",
    "\n",
    "### Sources\n",
    "\n",
    "This notebook implements parts of the lessons [Object-Oriented Programming in Python 3](https://www.digitalocean.com/community/tutorial_series/object-oriented-programming-in-python-3) of the [Digital Ocean Community](https://www.digitalocean.com/community), which is licensed under a Creative Commons Attribution-NonCommercial-ShareAlike 4.0 International License.\n",
    "\n"
   ]
  },
  {
   "cell_type": "markdown",
   "metadata": {},
   "source": [
    "---\n",
    "<a id='partA'></a>\n",
    "# A. How to Construct Classes and Define Objects\n",
    "\n",
    "## Introduction"
   ]
  },
  {
   "cell_type": "markdown",
   "metadata": {},
   "source": [
    "Python is an *object-oriented programming language*. Object-oriented programming (OOP) focuses on creating reusable patterns of code, in contrast to *procedural and structureal programming*, which focuses on explicit sequenced instructions. When working on complex programs in particular, object-oriented programming lets you reuse code and write code that is more readable, which in turn makes it more maintainable.\n",
    "\n",
    "One of the most important concepts in object-oriented programming is the distinction between classes and objects, which are defined as follows:\n",
    "\n",
    "* **Class** — A blueprint created by a programmer for an object. This defines a set of attributes and methods that will characterize any object that is instantiated from this class.\n",
    "* **Object** — An instance of a class. This is the realized version of the class, where the class is manifested in the program.\n",
    "\n",
    "These are used to create patterns (in the case of classes) and then make use of the patterns (in the case of objects). \n",
    "\n",
    "In this notebook you will learn about the basics of coding classes and define objects in Python. We’ll go through creating classes, instantiating objects, initializing attributes with the constructor method, and working with more than one object of the same class. "
   ]
  },
  {
   "cell_type": "markdown",
   "metadata": {},
   "source": [
    "## How To Construct Classes\n",
    "\n",
    "Classes are like a blueprint or a prototype that you can define to use to **create your own object types**. For example, the third-party package NumPy comes with it's own object type numpy array, which we will learn about soon.\n",
    "\n",
    "Python provides a statement related to creating **classes** in Python. You can find the following entry in the Statement cheat sheet:"
   ]
  },
  {
   "cell_type": "markdown",
   "metadata": {},
   "source": [
    "Table 1: *Python class statement*\n",
    "\n",
    "| Statement | Role | Example |\n",
    "| :-        | :- | :- |\n",
    "| class     | Building objects | ```class Subclass(Superclass):```<br>&nbsp;&nbsp;&nbsp;&nbsp;&nbsp;```staticData = [ ]```<br>&nbsp;&nbsp;&nbsp;&nbsp;&nbsp;```def method(self): pass``` |\n",
    "\n",
    "The example in the table might look a bit complex and foreign to you at the moment. For now, let's imagine this with the following simplified structure: \n",
    "\n",
    "```python\n",
    "class className(...):\n",
    "    attribute = value\n",
    "    def methodName(...): \n",
    "        statements\n",
    "```\n",
    "\n",
    "We define classes by using the **class** keyword, similar to how we define functions by using the **def** keyword. The class then receives a set of attributes and methods, which are attached to it. Attributes are values or states. Methods are functions or procedures that do something. Both build the structure of a class (see Figure 1)."
   ]
  },
  {
   "cell_type": "markdown",
   "metadata": {},
   "source": [
    "<img src=\"./image_ClassesPython.png\" width=\"300\" />\n",
    "\n",
    "Figure 1: *A simplified class structure in Python*"
   ]
  },
  {
   "cell_type": "markdown",
   "metadata": {},
   "source": [
    "### Example: Shark class\n",
    "\n",
    "Let's begin with a simple example and define a class called `Shark`. \n",
    "\n",
    "<img src=\"./image_shark.png\" width=\"300\" />\n",
    "\n",
    "Figure 2: *Example: Shark class*\n",
    "\n"
   ]
  },
  {
   "cell_type": "markdown",
   "metadata": {},
   "source": [
    "We start with a simple version of the `Shark` class and built in the variables `animal_type` and `location`:"
   ]
  },
  {
   "cell_type": "code",
   "execution_count": 1,
   "metadata": {},
   "outputs": [],
   "source": [
    "class Shark:\n",
    "    animal_type = 'fish'\n",
    "    location = 'ocean'"
   ]
  },
  {
   "cell_type": "markdown",
   "metadata": {},
   "source": [
    "These variables contain string vallues that are now associated with the class `Shark` and they are called **attributes**.\n",
    "\n",
    "Now let's associate two functions with the class, one for swimming and one for being awesome:"
   ]
  },
  {
   "cell_type": "code",
   "execution_count": 2,
   "metadata": {},
   "outputs": [],
   "source": [
    "class Shark:\n",
    "    animal_type = 'fish'\n",
    "    location = 'ocean'\n",
    "    \n",
    "    def swim(self):\n",
    "        print(\"The shark is swimming.\")\n",
    "\n",
    "    def be_awesome(self):\n",
    "        print(\"The shark is being awesome.\")"
   ]
  },
  {
   "cell_type": "markdown",
   "metadata": {},
   "source": [
    "Because these functions are indented under the class Shark, they are called methods. **Methods** are a special kind of function that are defined within a class. (Congruent to methods available for the object types: numbers, strings, lists, ...).\n",
    "\n",
    "The argument to these functions is the word **```self```**, which is a reference to objects that are made based on this class. To reference instances (or objects) of the class, ```self``` will always be the first parameter, but it need not be the only one. "
   ]
  },
  {
   "cell_type": "markdown",
   "metadata": {},
   "source": [
    "Defining this class did not create any ```Shark``` objects, only the pattern for a ```Shark``` object. We can define the object later. That is, if you run the program above at this stage nothing will be returned."
   ]
  },
  {
   "cell_type": "markdown",
   "metadata": {},
   "source": [
    "<div class=\"alert alert-success\">\n",
    "\n",
    "**Creating the Shark class above provided us with a blueprint for an object.**\n",
    "The word `self` is a reference to objects that are made based on this class.\n",
    "\n",
    "</div>"
   ]
  },
  {
   "cell_type": "markdown",
   "metadata": {},
   "source": [
    "## Objects\n",
    "\n",
    "An object is an instance of a class. We can take the ```Shark``` class defined above, and use it to create an object or instance of it. \n",
    "\n",
    "We’ll make a ```Shark``` object called ```sammy```:"
   ]
  },
  {
   "cell_type": "code",
   "execution_count": 2,
   "metadata": {},
   "outputs": [],
   "source": [
    "sammy = Shark()"
   ]
  },
  {
   "cell_type": "markdown",
   "metadata": {},
   "source": [
    "Here, we initialized the object ```sammy``` as an instance (or object) of the class by setting it equal to ```Shark()```. \n",
    "\n",
    "<div class=\"alert alert-info\">\n",
    "\n",
    "**Note**\n",
    "\n",
    "When working with classes, the term **instance** is used for **objects** that are defined by a **class**.\n",
    "\n",
    "</div>"
   ]
  },
  {
   "cell_type": "markdown",
   "metadata": {},
   "source": [
    "<div class=\"alert alert-info\">\n",
    "\n",
    "**Note**\n",
    "\n",
    "Remind yourself of the difference between object type, object and (variable) name: *Strings* is an **object type**. The assignment ```string1 = 'hello'``` creates an **object** ```'hello'``` of type *strings* that has the **name** ```string1```.\n",
    "    \n",
    "Object types are also different classes (actually subclasses) defined and built-in to Python. Through assingment we create instances of the object type classes.\n",
    "</div>"
   ]
  },
  {
   "cell_type": "markdown",
   "metadata": {},
   "source": [
    "Now, let’s use the two methods with the ```Shark``` object ```sammy```:"
   ]
  },
  {
   "cell_type": "code",
   "execution_count": 3,
   "metadata": {},
   "outputs": [],
   "source": [
    "sammy = Shark()"
   ]
  },
  {
   "cell_type": "code",
   "execution_count": 4,
   "metadata": {},
   "outputs": [
    {
     "name": "stdout",
     "output_type": "stream",
     "text": [
      "The shark is swimming.\n"
     ]
    }
   ],
   "source": [
    "sammy.swim()"
   ]
  },
  {
   "cell_type": "code",
   "execution_count": 5,
   "metadata": {},
   "outputs": [
    {
     "name": "stdout",
     "output_type": "stream",
     "text": [
      "The shark is being awesome.\n"
     ]
    }
   ],
   "source": [
    "sammy.be_awesome()"
   ]
  },
  {
   "cell_type": "markdown",
   "metadata": {},
   "source": [
    "The Shark object ```sammy``` is using the two methods ```swim()``` and ```be_awesome()```. We called these using the dot operator (```.```), which is used to reference an attribute of the object. In this case, the attribute is a method and it’s called with parentheses, like how you would also call with a function.\n",
    "\n",
    "Because the keyword ```self``` was a parameter of the methods as defined in the ```Shark``` class, the ```sammy``` object gets passed to the methods. The ```self``` parameter ensures that the methods have a way of referring to object attributes.\n",
    "\n",
    "When we call the methods ```swim()``` and ```be_awesome()```, however, nothing is passed inside the parentheses, the object ```sammy``` is being automatically passed with the dot operator.\n"
   ]
  },
  {
   "cell_type": "markdown",
   "metadata": {},
   "source": [
    "## The Constructor Method\n",
    "\n",
    "The **constructor method** is used to initialize data (for example attributes) attached to the class. It is run as soon as an object of a class is instantiated. Also known as the ```__init__``` method, it will be the first definition of a class and looks like this:"
   ]
  },
  {
   "cell_type": "code",
   "execution_count": 6,
   "metadata": {},
   "outputs": [],
   "source": [
    "class Shark:\n",
    "    def __init__(self):\n",
    "        print(\"This is the constructor method.\")"
   ]
  },
  {
   "cell_type": "markdown",
   "metadata": {},
   "source": [
    "If you added the above ```__init__``` method to the Shark class in the example above, it would ad to:"
   ]
  },
  {
   "cell_type": "code",
   "execution_count": 7,
   "metadata": {},
   "outputs": [],
   "source": [
    "class Shark:\n",
    "    def __init__(self):\n",
    "        print(\"This is the constructor method.\")    \n",
    "    \n",
    "    def swim(self):\n",
    "        print(\"The shark is swimming.\")\n",
    "\n",
    "    def be_awesome(self):\n",
    "        print(\"The shark is being awesome.\")"
   ]
  },
  {
   "cell_type": "markdown",
   "metadata": {},
   "source": [
    "Now, once you create an instance of this new ```Shark``` class the code would output the following without your modifying anything within the ```sammy``` instantiation:\n",
    "\n",
    "```\n",
    "This is the constructor method.\n",
    "```\n",
    "\n",
    "Now try that, create a new instance (object) of the ```Shark``` class, by running the following cell:"
   ]
  },
  {
   "cell_type": "code",
   "execution_count": 8,
   "metadata": {},
   "outputs": [
    {
     "name": "stdout",
     "output_type": "stream",
     "text": [
      "This is the constructor method.\n"
     ]
    }
   ],
   "source": [
    "sammy = Shark()"
   ]
  },
  {
   "cell_type": "markdown",
   "metadata": {},
   "source": [
    "This is because the constructor method is automatically initialized. You should use this method to carry out any initializing you would like to do with your class objects. The **constructor method** is actually a representative of a larger class of methods called **operator overloading methods** that all have double underscores at the start and end of their names and that are inherited attibutes of classes (which we will discuss at a later point). \n",
    "\n",
    "The constructor method above only prints out a statement. But you can also use it to assign some data to the object instance, once it is created. \n",
    "\n",
    "Let’s create a new constructor method that uses a ```nameStr``` variable to assign names to objects. We’ll pass ```nameStr``` as a parameter and set ```self.name``` equal to name:"
   ]
  },
  {
   "cell_type": "code",
   "execution_count": 9,
   "metadata": {},
   "outputs": [],
   "source": [
    "class Shark:\n",
    "    def __init__(self, nameStr):\n",
    "        self.name = nameStr"
   ]
  },
  {
   "cell_type": "markdown",
   "metadata": {},
   "source": [
    "Next, we can modify the strings in our functions to reference the names, as below:"
   ]
  },
  {
   "cell_type": "code",
   "execution_count": 10,
   "metadata": {},
   "outputs": [],
   "source": [
    "class Shark:\n",
    "    def __init__(self, nameStr):\n",
    "        self.name = nameStr\n",
    "\n",
    "    def swim(self):\n",
    "        # Reference the name using the self keyword\n",
    "        print(self.name + \" is swimming.\")\n",
    "\n",
    "    def be_awesome(self):\n",
    "        # Reference the name using the self keyword\n",
    "        print(self.name + \" is being awesome.\")"
   ]
  },
  {
   "cell_type": "markdown",
   "metadata": {},
   "source": [
    "Finally, we can set the name of the Shark object ```sammy``` as equal to ```\"Sammy\"``` by passing it as a parameter of the Shark class:"
   ]
  },
  {
   "cell_type": "code",
   "execution_count": 11,
   "metadata": {},
   "outputs": [],
   "source": [
    "sammy = Shark(\"Sammy\")"
   ]
  },
  {
   "cell_type": "markdown",
   "metadata": {},
   "source": [
    "Now, if we call the functions inside the object class again, see what happens:"
   ]
  },
  {
   "cell_type": "code",
   "execution_count": 12,
   "metadata": {},
   "outputs": [
    {
     "name": "stdout",
     "output_type": "stream",
     "text": [
      "Sammy is swimming.\n",
      "Sammy is being awesome.\n"
     ]
    }
   ],
   "source": [
    "sammy.swim()\n",
    "sammy.be_awesome()"
   ]
  },
  {
   "cell_type": "markdown",
   "metadata": {},
   "source": [
    "We see that the name we passed to the object is being printed out. We defined the ```__init__``` method so that it receives the parameter nameString (along with the ```self``` keyword) and then assigned that string to an instance attribute name within the ```__init__``` method.\n",
    "\n",
    "Because the constructor method is automatically initialized, we do not need to explicitly call it, only pass the arguments in the parentheses following the class name when we create a new instance of the class."
   ]
  },
  {
   "cell_type": "markdown",
   "metadata": {},
   "source": [
    "If we wanted to add another parameter, such as ```age```, we could do so by also passing it to the ```__init__``` method:"
   ]
  },
  {
   "cell_type": "code",
   "execution_count": 13,
   "metadata": {},
   "outputs": [],
   "source": [
    "class Shark:\n",
    "    def __init__(self, nameStr, age):\n",
    "        self.name = nameStr\n",
    "        self.age = age"
   ]
  },
  {
   "cell_type": "markdown",
   "metadata": {},
   "source": [
    "Then, when we create our object ```sammy```, we can (or actually have to) pass Sammy’s age in our statement:"
   ]
  },
  {
   "cell_type": "code",
   "execution_count": 14,
   "metadata": {},
   "outputs": [],
   "source": [
    "sammy = Shark(\"Sammy\", 5)"
   ]
  },
  {
   "cell_type": "markdown",
   "metadata": {},
   "source": [
    "To make use of ```age```, we could add a method in the class that **calls for it**."
   ]
  },
  {
   "cell_type": "markdown",
   "metadata": {},
   "source": [
    "At last, let's point out a detail: After creating an instance of a class, you could call the constructor method directly. To do that, you need to call the isntructor method for an instance (same as for any other method) and pass the expected constructor arguments:"
   ]
  },
  {
   "cell_type": "code",
   "execution_count": 17,
   "metadata": {},
   "outputs": [
    {
     "name": "stdout",
     "output_type": "stream",
     "text": [
      "Bert\n",
      "4\n"
     ]
    }
   ],
   "source": [
    "sammy.__init__(\"Bert\", 4)\n",
    "print(sammy.name)\n",
    "print(sammy.age)"
   ]
  },
  {
   "cell_type": "markdown",
   "metadata": {},
   "source": [
    "In the example above, the constructor method is called directly for the instance `sammy` of the class `Shark`. However, this simply overwrites content in the `sammy` instance from `\"Sammy\"` of `age` 5 to `\"Bert\"` of `age` 4. "
   ]
  },
  {
   "cell_type": "markdown",
   "metadata": {},
   "source": [
    "<div class=\"alert alert-success\">\n",
    "\n",
    "The **constructor methods** allow us to initialize certain attributes of an object. It is a representative of a larger class of methods called **operator overloading methods**.\n",
    "\n",
    "The word `self` is a reference to objects that are made based on this class. Outside of the class definition, when referencing attributes and methods of a class object (instance), `self` has to be replaced by the object (instance) name.\n",
    "\n",
    "</div>"
   ]
  },
  {
   "cell_type": "markdown",
   "metadata": {},
   "source": [
    "## Working with More Than One Object\n",
    "\n",
    "Classes are useful because they allow us to create many similar objects based on the same blueprint. Here the version of the complete Shark blueprint, that we will continue to work with:"
   ]
  },
  {
   "cell_type": "code",
   "execution_count": null,
   "metadata": {},
   "outputs": [],
   "source": [
    "class Shark:\n",
    "    def __init__(self, name):\n",
    "        self.name = name\n",
    "\n",
    "    def swim(self):\n",
    "        print(self.name + \" is swimming.\")\n",
    "\n",
    "    def be_awesome(self):\n",
    "        print(self.name + \" is being awesome.\")"
   ]
  },
  {
   "cell_type": "markdown",
   "metadata": {},
   "source": [
    "To get a sense for how to work with more than one objects of a class, let’s two Shark object:"
   ]
  },
  {
   "cell_type": "code",
   "execution_count": null,
   "metadata": {},
   "outputs": [],
   "source": [
    "sammy = Shark(\"Sammy\")\n",
    "stevie = Shark(\"Stevie\")"
   ]
  },
  {
   "cell_type": "markdown",
   "metadata": {},
   "source": [
    "We have created a second ```Shark``` object called stevie and passed the name ```\"Stevie\"``` to it. Now, let's used ```be_awesome()``` method with ```sammy``` and the ```swim()``` method with ```stevie```."
   ]
  },
  {
   "cell_type": "code",
   "execution_count": null,
   "metadata": {},
   "outputs": [],
   "source": [
    "sammy.be_awesome()\n",
    "stevie.swim()"
   ]
  },
  {
   "cell_type": "markdown",
   "metadata": {},
   "source": [
    "The output shows that we are using two different objects, the sammy object and the stevie object, both of the Shark class. And, we can add many more objects to this class, as many as we need."
   ]
  },
  {
   "cell_type": "code",
   "execution_count": null,
   "metadata": {},
   "outputs": [],
   "source": [
    "grace = Shark(\"Grace\")\n",
    "layla = Shark(\"Layla\")\n",
    "# ..."
   ]
  },
  {
   "cell_type": "markdown",
   "metadata": {},
   "source": [
    "<div class=\"alert alert-success\">\n",
    "\n",
    "**Classes make it possible to create more than one object inheriting the same data structure without creating each one from scratch.**\n",
    "\n",
    "</div>"
   ]
  },
  {
   "cell_type": "markdown",
   "metadata": {},
   "source": [
    "## Conclusion for part A\n",
    "\n",
    "Object-oriented programming is an important concept to understand because it makes code recycling more straightforward, as objects created for one program can be used in another. Object-oriented programs also make for better program design since complex programs are difficult to write and require careful planning, and this in turn makes it less work to maintain the program over time. "
   ]
  },
  {
   "cell_type": "markdown",
   "metadata": {},
   "source": [
    "---\n",
    "<a id='partB'></a>\n",
    "\n",
    "# B. Understanding Class and Instance Variables\n",
    "\n",
    "## Introduction\n",
    "\n",
    "Object-oriented programming allows for variables to be used at the class level or the instance level. **Variables** are essentially symbols that stand in for a value you’re using in a program. There are two types of variables that we can define with classes:\n",
    "\n",
    "* **Class variables**\n",
    "* **Instance variables**\n",
    "\n",
    "At the class level, variables are referred to as class variables, whereas variables at the instance level are called instance variables.\n",
    "\n",
    "When we expect variables are going to be consistent across instances, or when we would like to initialize a variable, we can define that variable at the class level. When we anticipate the variables will change significantly across instances, we can define them at the instance level.\n",
    "\n",
    "One of the principles of software development is the **DRY** principle, which stands for **don’t repeat yourself**. This principle is geared towards limiting repetition within code, and object-oriented programming adheres to the DRY principle as it reduces redundancy.\n",
    "\n",
    "In this part of the lesson notebook will demonstrate the use of both class and instance variables in object-oriented programming within Python."
   ]
  },
  {
   "cell_type": "markdown",
   "metadata": {},
   "source": [
    "<div class=\"alert alert-success\">\n",
    "\n",
    "There are two types of variables that we can define with classes: **class variables** and **instance variables**.\n",
    "\n",
    "</div>"
   ]
  },
  {
   "cell_type": "markdown",
   "metadata": {},
   "source": [
    "## Class Variables\n",
    "\n",
    "Class variables are defined within the class construction. Because they are owned by the class itself, class variables are shared by all instances of the class. They therefore will generally have the same value for every instance unless you are using the class variable to initialize a variable.\n",
    "\n",
    "Defined outside of all the methods, class variables are, by convention, typically placed right below the class header and before the constructor method and other methods.\n",
    "\n",
    "A class variable alone looks like this:"
   ]
  },
  {
   "cell_type": "code",
   "execution_count": null,
   "metadata": {},
   "outputs": [],
   "source": [
    "class Shark:\n",
    "    animal_type = \"fish\""
   ]
  },
  {
   "cell_type": "markdown",
   "metadata": {},
   "source": [
    "Here, the variable ```animal_type``` is assigned the value ```\"fish\"```.\n",
    "\n",
    "We can now create an instance of the ```Shark``` class (we’ll call it ```new_shark```) and print the variable by using dot notation:"
   ]
  },
  {
   "cell_type": "code",
   "execution_count": null,
   "metadata": {},
   "outputs": [],
   "source": [
    "new_shark = Shark()"
   ]
  },
  {
   "cell_type": "code",
   "execution_count": null,
   "metadata": {},
   "outputs": [],
   "source": [
    "print(new_shark.animal_type)"
   ]
  },
  {
   "cell_type": "markdown",
   "metadata": {},
   "source": [
    "The code returns the value of the variable.\n",
    "\n",
    "Let’s add a few more class variables and print them out:"
   ]
  },
  {
   "cell_type": "code",
   "execution_count": null,
   "metadata": {},
   "outputs": [],
   "source": [
    "class Shark:\n",
    "    animal_type = \"fish\"\n",
    "    location = \"ocean\"\n",
    "    length = 5"
   ]
  },
  {
   "cell_type": "code",
   "execution_count": null,
   "metadata": {},
   "outputs": [],
   "source": [
    "new_shark = Shark()"
   ]
  },
  {
   "cell_type": "code",
   "execution_count": null,
   "metadata": {},
   "outputs": [],
   "source": [
    "print(new_shark.animal_type)\n",
    "print(new_shark.location)\n",
    "print(new_shark.length)"
   ]
  },
  {
   "cell_type": "markdown",
   "metadata": {},
   "source": [
    "In addition, since class variables belong to the class, you can also receive their default content, by using the class name itself as reference. This way, you could access and change the class variable, before creating an instance:"
   ]
  },
  {
   "cell_type": "code",
   "execution_count": null,
   "metadata": {},
   "outputs": [],
   "source": [
    "print(Shark.animal_type)"
   ]
  },
  {
   "cell_type": "code",
   "execution_count": null,
   "metadata": {},
   "outputs": [],
   "source": [
    "Shark.animal_type = 'shark'"
   ]
  },
  {
   "cell_type": "code",
   "execution_count": null,
   "metadata": {},
   "outputs": [],
   "source": [
    "print(Shark.animal_type)"
   ]
  },
  {
   "cell_type": "markdown",
   "metadata": {},
   "source": [
    "This way, we could rewrite the content of class attributes, before using the class.\n",
    "\n",
    "Just like with any other variable, class variables can consist of any data type available to us in Python. In the code above we have added strings and an integer. The instance of ```new_shark``` is able to access all the class variables and print them out when we run the code.\n",
    "\n",
    "Class variables allow us to define variables upon constructing the class. These variables and their associated values are then accessible to each instance of the class.\n",
    "\n",
    "\n",
    "<div class=\"alert alert-success\">\n",
    "\n",
    "**Class variables** are defined within the class construction: typically placed right below the class header and before the constructor method and other methods.\n",
    "They are owned by the class itself and they are shared by all instances of the class. \n",
    "\n",
    "</div>"
   ]
  },
  {
   "cell_type": "markdown",
   "metadata": {},
   "source": [
    "## Instance Variables\n",
    "\n",
    "Instance variables are owned by instances of the class. This means that for each object or instance of a class, the instance variables are different.\n",
    "\n",
    "Unlike class variables, instance variables are **defined within methods** and they are created when the method is called.\n",
    "\n",
    "In the ```Shark``` class example below, ```name``` and ```age``` are instance variables instance variables in the **constructor method** `__init__`:"
   ]
  },
  {
   "cell_type": "code",
   "execution_count": null,
   "metadata": {},
   "outputs": [],
   "source": [
    "class Shark:\n",
    "    def __init__(self, name, age):\n",
    "        self.name = name\n",
    "        self.age = age"
   ]
  },
  {
   "cell_type": "markdown",
   "metadata": {},
   "source": [
    "When we create a ```Shark``` object (an instance of the class ```Shark```), we will have to define these variables. This is because the **constructor method is run immediately as an object of a class is instantiated** (or in other words: as an instance is created).\n",
    "\n",
    "Hence, during instance creation, we pass these variables as parameters within the constructor method (or for another method, once it is called, examples further below):"
   ]
  },
  {
   "cell_type": "code",
   "execution_count": null,
   "metadata": {},
   "outputs": [],
   "source": [
    "new_shark = Shark(\"Sammy\", 5)"
   ]
  },
  {
   "cell_type": "markdown",
   "metadata": {},
   "source": [
    "As with class variables, we can similarly call to print instance variables:"
   ]
  },
  {
   "cell_type": "code",
   "execution_count": null,
   "metadata": {},
   "outputs": [],
   "source": [
    "print(new_shark.name)\n",
    "print(new_shark.age)"
   ]
  },
  {
   "cell_type": "markdown",
   "metadata": {},
   "source": [
    "The output we receive is made up of the values of the variables that we initialized for the object instance of ```new_shark```.\n",
    "\n",
    "Let’s create another object of the ```Shark``` class called ```stevie```:"
   ]
  },
  {
   "cell_type": "code",
   "execution_count": null,
   "metadata": {},
   "outputs": [],
   "source": [
    "stevie = Shark(\"Stevie\", 8)\n",
    "print(stevie.name)\n",
    "print(stevie.age)"
   ]
  },
  {
   "cell_type": "markdown",
   "metadata": {},
   "source": [
    "The stevie object, like the ```new_shark``` object passes the parameters specific for that instance of the ```Shark``` class to assign values to the instance variables.\n",
    "\n",
    "Instance variables, owned by objects of the class, allow for each object or instance to have different values assigned to those variables. "
   ]
  },
  {
   "cell_type": "markdown",
   "metadata": {},
   "source": [
    "\n",
    "\n",
    "\n",
    "<div class=\"alert alert-success\">\n",
    "\n",
    "**Instance variables** are owned by instances of the class. They are defined within methods. \n",
    "Instance variables of the constructor method have to be passed as parameters during instance creation.\n",
    "</div>"
   ]
  },
  {
   "cell_type": "markdown",
   "metadata": {},
   "source": [
    "## Working with Class and Instance Variables Together\n",
    "\n",
    "Class variables and instance variables will often be utilized at the same time, so let’s look at an example of this using the ```Shark``` class we created. The comments in the code below outline each step of the process and note, whether class or isntance variables are defined. \n",
    "\n",
    "Let's merge the previous examples to a new version of the ```Shark``` class and also add another method ```set_length```: "
   ]
  },
  {
   "cell_type": "code",
   "execution_count": null,
   "metadata": {},
   "outputs": [],
   "source": [
    "class Shark:\n",
    "\n",
    "    # Class variables\n",
    "    animal_type = \"fish\"\n",
    "    location = \"Indian Ocean\"\n",
    "\n",
    "    # Constructor method with instance variables name and age\n",
    "    def __init__(self, name, age):\n",
    "        self.name = name\n",
    "        self.age = age\n",
    "\n",
    "    # Method with instance variable length in [meter]\n",
    "    def set_length(self, length):\n",
    "        print(\"This shark has a length of \" + str(length) + \" meter.\")"
   ]
  },
  {
   "cell_type": "markdown",
   "metadata": {},
   "source": [
    "Now let's use the ```Shark``` class and create some instances with it:"
   ]
  },
  {
   "cell_type": "code",
   "execution_count": null,
   "metadata": {},
   "outputs": [],
   "source": [
    "# Create a Shark instance, pass instance variables to constructor method\n",
    "\n",
    "# Print out instance variable name\n",
    "\n",
    "# Print out class variable location (in a sentence)\n",
    "\n",
    "# Create a second Shark instance\n",
    "\n",
    "# Print out instance variable name\n",
    "\n",
    "# Use set_length method and pass length instance variable\n",
    "\n",
    "# Print out class variable animal_type\n"
   ]
  },
  {
   "cell_type": "markdown",
   "metadata": {},
   "source": [
    "Here, we have made use of both class and instance variables in two objects of the `Shark` class, `sammy` and `stevie`. We have also set up instance variables in the constructor method `__init__`, which are passed during instance creation. And instance variables in the method `set_length` are passed, when it is first called. \n",
    "\n",
    "\n",
    "<div class=\"alert alert-success\">\n",
    "Class variables and instance variables will often be utilized at the same time.\n",
    "</div>\n"
   ]
  },
  {
   "cell_type": "markdown",
   "metadata": {},
   "source": [
    "## Conclusion for part B\n",
    "\n",
    "In object-oriented programming, variables at the class level are referred to as class variables, whereas variables at the object level are called instance variables.\n",
    "\n",
    "This differentiation allows us to use class variables to initialize objects with a specific value assigned to variables, and use different variables for each object with instance variables.\n",
    "\n",
    "Making use of class- and instance-specific variables can ensure that our code adheres to the DRY principle to reduce repetition within code."
   ]
  },
  {
   "cell_type": "markdown",
   "metadata": {},
   "source": [
    "---\n",
    "<a id='partC'></a>\n",
    "# C. Handling of Class Attributes and Methods\n",
    "\n",
    "Now let's continue to look into some details on how to work with class attributes (variables) and methods. Below a few options that highlight the flexibility of classes and their instances.\n"
   ]
  },
  {
   "cell_type": "markdown",
   "metadata": {},
   "source": [
    "## C.1 You can set default values for arguments\n",
    "\n",
    "When you create an instance with the constructor method (or work with another method) that requests an argument, you can pre-define default values for those arguments (parameter). This works congruent to setting default arguments in functions. See the example below:"
   ]
  },
  {
   "cell_type": "code",
   "execution_count": 1,
   "metadata": {},
   "outputs": [],
   "source": [
    "class Fish:\n",
    "    \n",
    "    # constructor method with first_name and last_name :\n",
    "    # ... the argument last_name is set to \"Fish\" by default\n",
    "    def __init__(self, first_name, last_name=\"Fish\"):  \n",
    "        self.first_name = first_name # defines argument last_name as instance variable\n",
    "        self.last_name = last_name   # defines argument first_name as instance variable\n",
    "        print(\"The name of your fish is: \" + first_name + \" \" + last_name)\n"
   ]
  },
  {
   "cell_type": "markdown",
   "metadata": {},
   "source": [
    "The constructor method of the class `Fish` above, accepts two parameter, however, only one has to be defined. The parameter `first_name` has to be defined when creating the instance. The second parameter `last_name` will be set to the default value `'Fish'`, except if a second argument is provided during instance creation. \n",
    "\n",
    "Let's first create an instance, passing only one parameter:"
   ]
  },
  {
   "cell_type": "code",
   "execution_count": 2,
   "metadata": {},
   "outputs": [
    {
     "name": "stdout",
     "output_type": "stream",
     "text": [
      "The name of your fish is: Bass Fish\n"
     ]
    }
   ],
   "source": [
    "bass = Fish('Bass')"
   ]
  },
  {
   "cell_type": "markdown",
   "metadata": {},
   "source": [
    "In the example, the instance `bass` automatically aquired the `last_name` `'Fish'`.\n",
    "\n",
    "Now let's create a second instance, with two parameter:"
   ]
  },
  {
   "cell_type": "code",
   "execution_count": 3,
   "metadata": {},
   "outputs": [
    {
     "name": "stdout",
     "output_type": "stream",
     "text": [
      "The name of your fish is: Bluefin Tuna\n"
     ]
    }
   ],
   "source": [
    "bluef = Fish('Bluefin', 'Tuna')"
   ]
  },
  {
   "cell_type": "markdown",
   "metadata": {},
   "source": [
    "This time, the `last_name` received the value that was passed during instance creation, it is now `'Tuna'`, instead of `'Fish'`"
   ]
  },
  {
   "cell_type": "markdown",
   "metadata": {},
   "source": [
    "<div class=\"alert alert-success\">\n",
    "\n",
    "When passing arguments to a class methods, default values can be defined by using the syntax:\n",
    "\n",
    "``` python\n",
    "class ClassName:\n",
    "    def method(self, variableName = content):\n",
    "        ...\n",
    "```\n",
    "\n",
    "</div>"
   ]
  },
  {
   "cell_type": "markdown",
   "metadata": {},
   "source": [
    "## C.2 A class method can reference other class or instance attributes\n",
    "\n",
    "This was already covered in the previous notebook, but we like to empphasize on it further. Class variables as well as instance variables can be addressed from any method in the class.\n",
    "\n",
    "In the example below, we have moved the `print(...)` statement printing the fish names from the constructor method to a new function called `printName()`. This function does not receive any arguments (parameter), however, it does make use of the instance attributes `first_name` and `last_name`. For that, the attributes have to be referenced with `self`, otherwise a `NameError` (for not defined variables) will be raised."
   ]
  },
  {
   "cell_type": "code",
   "execution_count": 4,
   "metadata": {},
   "outputs": [],
   "source": [
    "class Fish:\n",
    "        \n",
    "    def __init__(self, first_name, last_name=\"Fish\"):\n",
    "        self.first_name = first_name  # defines argument last_name as instance variable\n",
    "        self.last_name = last_name    # defines argument last_name as instance var\n",
    "\n",
    "    def printName(self):\n",
    "        # print statement references instance variables\n",
    "        print(\"The name of your fish is: \" + self.first_name + \" \" + self.last_name)\n",
    "        "
   ]
  },
  {
   "cell_type": "markdown",
   "metadata": {},
   "source": [
    "Now, when creating an instance of this new version of class `Fish`, it will not result in any print out. This constructor method only receives the arguments and defines them as instance variables `self.first_name` and `self.last_name`."
   ]
  },
  {
   "cell_type": "code",
   "execution_count": 5,
   "metadata": {},
   "outputs": [],
   "source": [
    "bluef = Fish('Bluefin', 'Tuna')"
   ]
  },
  {
   "cell_type": "markdown",
   "metadata": {},
   "source": [
    "For getting the name printed to screen, we have to call the function `printName()`."
   ]
  },
  {
   "cell_type": "code",
   "execution_count": 6,
   "metadata": {},
   "outputs": [
    {
     "name": "stdout",
     "output_type": "stream",
     "text": [
      "The name of your fish is: Bluefin Tuna\n"
     ]
    }
   ],
   "source": [
    "bluef.printName()"
   ]
  },
  {
   "cell_type": "markdown",
   "metadata": {},
   "source": [
    "This function is now successfully printing out the instance attributes `first_name` and `last_name`, that were defined by another method (the constructor method). To achieve that, the instance variables have to be defined as such in the method they are created:\n",
    "```python\n",
    "self.first_name = first_name\n",
    "```\n",
    "\n",
    "Then they can be addressed in any other function by the syntax.\n",
    "```python\n",
    "self.first_name\n",
    "```\n"
   ]
  },
  {
   "cell_type": "markdown",
   "metadata": {},
   "source": [
    "## C.3 A class method can call other methods of the class\n",
    "\n",
    "Similar to attributes, a method can also call another method defined in the class. For illustrating that, we have again slightly redefined the previous `Fish` class:"
   ]
  },
  {
   "cell_type": "code",
   "execution_count": 7,
   "metadata": {},
   "outputs": [],
   "source": [
    "class Fish:\n",
    "        \n",
    "    def __init__(self, first_name, last_name=\"Fish\"):\n",
    "        self.first_name = first_name\n",
    "        self.last_name = last_name\n",
    "        self.printName()     # calls the method printName() from the method doPrint\n",
    "\n",
    "    def printName(self):\n",
    "        print(\"The name of your fish is: \" + self.first_name + \" \" + self.last_name)  \n",
    "        "
   ]
  },
  {
   "cell_type": "markdown",
   "metadata": {},
   "source": [
    "The function `printName()` is now called from the constructor method. To call the method from inside class, it has to be referenced with the `self` keyword functioning as placeholder for the name of later created class instances (objects).\n",
    "\n",
    "Now, let's see what happens when we create an instance of the updated class `Fish`."
   ]
  },
  {
   "cell_type": "code",
   "execution_count": 8,
   "metadata": {},
   "outputs": [
    {
     "name": "stdout",
     "output_type": "stream",
     "text": [
      "The name of your fish is: Bluefin Tuna\n"
     ]
    }
   ],
   "source": [
    "bluef = Fish('Bluefin', 'Tuna')"
   ]
  },
  {
   "cell_type": "markdown",
   "metadata": {},
   "source": [
    "Since the function `printName()` is now called by the constructor method, the print statement is again given at instance creation!\n",
    "\n",
    "By the way, you can create an infinite \"self-call loop\" within a method by calling a method in itself: Add the method call `self.printName()` to the block of the method `printName()` and execute the updated class definition. Then, see what happens, once you call the method with `bluef.printName()`. (After that hit the stop button at the top to interrupt the kernel and stop your infinite \"self-call loop\").\n",
    "\n",
    "Let's summariz the syntax: to be able to reference methods from outside and inside the class, the methods are written in a way that they always receive the instance of a class as first argument. Since the code for the method is written before creating any instances of the class, a placeholder keyword `self` is used instead:\n",
    "\n",
    "```python\n",
    "class className:\n",
    "    def method(self, ...):\n",
    "        ...\n",
    "```\n",
    "\n",
    "To call the method from inside class, it has to be referenced with the placeholder keyword `self`:\n",
    "```python\n",
    "self.method()\n",
    "```\n"
   ]
  },
  {
   "cell_type": "markdown",
   "metadata": {},
   "source": [
    "## C.4 Private attributes & methods\n",
    "\n",
    "In a class, you can also create special methods and attributes that are **private**. Private means these class contents are only available for the members of the class not for the outside of the class. Attributes and methods can be made private by naming them with **two leading underscores** and **no trailing underscores**. \n",
    "\n",
    "Let's again adjust the previous `Fish` class. This time, we are replacing the print method by a private method `__printSize()` that prints a privat attribute `__size`. "
   ]
  },
  {
   "cell_type": "code",
   "execution_count": 9,
   "metadata": {},
   "outputs": [],
   "source": [
    "class Fish:\n",
    "        \n",
    "    def __init__(self, first_name, last_name=\"Fish\"):\n",
    "        self.first_name = first_name\n",
    "        self.last_name = last_name\n",
    "        self.__size = 'large'      # added private attribute\n",
    "\n",
    "    def __printSize(self):         # added private method\n",
    "        print(\"Your fish's size is: \" + self.__size)  \n",
    "\n",
    "    def askSize(self):\n",
    "        self.__printSize()\n"
   ]
  },
  {
   "cell_type": "markdown",
   "metadata": {},
   "source": [
    "In our example, the privat attribute is simpy set to the value `'large'` (in more realistic scenarios, for example, it could be derived from instance variables). Now, if we create an instance of the updated `Fish` class ..."
   ]
  },
  {
   "cell_type": "code",
   "execution_count": 10,
   "metadata": {},
   "outputs": [],
   "source": [
    "bluef = Fish('Bluefin', 'Tuna')"
   ]
  },
  {
   "cell_type": "markdown",
   "metadata": {},
   "source": [
    "... and call the function `askSize()` ..."
   ]
  },
  {
   "cell_type": "code",
   "execution_count": 11,
   "metadata": {},
   "outputs": [
    {
     "name": "stdout",
     "output_type": "stream",
     "text": [
      "Your fish's size is: large\n"
     ]
    }
   ],
   "source": [
    "bluef.askSize()"
   ]
  },
  {
   "cell_type": "markdown",
   "metadata": {},
   "source": [
    "... we get a printout to the screen, which was defined in the private `__printeSize()` method. However, this private method was called from the `askSize()` method, not from outside the class."
   ]
  },
  {
   "cell_type": "markdown",
   "metadata": {},
   "source": [
    "If you would try to access either the private attribute `__size` or the private method `__printSize()` from outside the class, you would receive an `AttributeError`. Private attributes and methods are not accessible from outside the class. You can try this below, by uncommenting one of the lines at a time:"
   ]
  },
  {
   "cell_type": "code",
   "execution_count": 12,
   "metadata": {},
   "outputs": [],
   "source": [
    "#bluef.__size\n",
    "#bluef.__printSize()"
   ]
  },
  {
   "cell_type": "markdown",
   "metadata": {},
   "source": [
    "## C.5 A class method can receive an instance of its own class as argument\n",
    "\n",
    "One very powerfull desing for classes creation, is the possibility of passing the instance of a class as argument to a method of a class. This can be the instance of any class, but it can also be an instance of the same class. Now you may start realizing, how complex OOP can become and that it may take a while to both design and read such data structures.\n",
    "\n",
    "Let's look at a simple example for illustrating this:"
   ]
  },
  {
   "cell_type": "code",
   "execution_count": 13,
   "metadata": {},
   "outputs": [],
   "source": [
    "class Fish:\n",
    "        \n",
    "    def __init__(self, first_name):\n",
    "        self.first_name = first_name\n",
    "\n",
    "    def makeFishFriends(self, fishfriend):\n",
    "        print(\"The fish \" + self.first_name + \" and \" + fishfriend.first_name + \" have become really good friends!\")\n"
   ]
  },
  {
   "cell_type": "markdown",
   "metadata": {},
   "source": [
    "We have added a new method `makeFishFriends()` to the class `Fish`. This method receives one argument (after self): `fishfriend`. Now, this could be any object type, if looking only at the `def` line. But when inspecting the `print()` statement below, it should be more clear, what kind of object type this has to be. The syntax for using the `fishfriend` variable in the `print()` statement ist:\n",
    "```python\n",
    "fishfriend.first_name\n",
    "```\n",
    "This is likel a class-related object, which is hinted by the `.` operator. After the `.`, a variable `first_name` is referenced. And, our class `Fish` has exactly such an instance variable. So we could pass an second instance of the class `Fish` to the method `makeFishFriends()` and that would use the variable `first_name` of the instance `fishfriend` in the `print()`  statement. In addition, the `print()` statements also contains the `self.first_name`, which prints the `last_name` from the instance that the method `makeFishFriends()` is called from.\n",
    "\n",
    "Let's look at an example, if that becomes to make this more clear. First, we define two instances of the new `Fish` class:"
   ]
  },
  {
   "cell_type": "code",
   "execution_count": 14,
   "metadata": {},
   "outputs": [],
   "source": [
    "bass = Fish('Bass')\n",
    "bluef = Fish('Bluefin')"
   ]
  },
  {
   "cell_type": "markdown",
   "metadata": {},
   "source": [
    "Now we can call the function `makeFishFriends()` for one of the instances and pass the other instances."
   ]
  },
  {
   "cell_type": "code",
   "execution_count": 15,
   "metadata": {},
   "outputs": [
    {
     "name": "stdout",
     "output_type": "stream",
     "text": [
      "The fish Bass and Bluefin have become really good friends!\n"
     ]
    }
   ],
   "source": [
    "bass.makeFishFriends(bluef)"
   ]
  },
  {
   "cell_type": "markdown",
   "metadata": {},
   "source": [
    "You could also perform this the other way around:"
   ]
  },
  {
   "cell_type": "code",
   "execution_count": 16,
   "metadata": {},
   "outputs": [
    {
     "name": "stdout",
     "output_type": "stream",
     "text": [
      "The fish Bluefin and Bass have become really good friends!\n"
     ]
    }
   ],
   "source": [
    "bluef.makeFishFriends(bass)"
   ]
  },
  {
   "cell_type": "markdown",
   "metadata": {},
   "source": [
    "So, what again exactly happens here?\n",
    "\n",
    "Both `Fish` instances get a `first_name` during instance creation. The class `Fish` also contains the method `makeFishFriends()`. This method expects one argument (after self), which has the name `fishfriend`. Then, the method `makeFishFriends()` calls a `print()` statement, which references the argument `fishfriend` as instance of the same class `Fish`. \n",
    "\n",
    "This allows us to pass the instance `bluef` to the instance `bass` (or the other way around). This allows for the method `makeFishFriends()` to  address both of their names in one `print()`.\n",
    "\n",
    "You can also let a fish make friend with itself. Not that this would make any sense for our example - except if the fish has a twin - but it can be useful in other examples:"
   ]
  },
  {
   "cell_type": "code",
   "execution_count": 17,
   "metadata": {},
   "outputs": [
    {
     "name": "stdout",
     "output_type": "stream",
     "text": [
      "The fish Bass and Bass have become really good friends!\n"
     ]
    }
   ],
   "source": [
    "bass.makeFishFriends(bass)"
   ]
  },
  {
   "cell_type": "markdown",
   "metadata": {},
   "source": [
    "---\n",
    "# Summary \n",
    "\n",
    "- **class** statement creates and names a class object\n",
    "- **def** defines class methods (function inside a class)\n",
    "- **Class** methods have a special first argument *self*, to receive the implied subject instance\n",
    "- Assignments (of names) at the top (class level) create class attributes (variables)\n",
    "    - Initialize objects with a specific common value for all objects\n",
    "- Assignments in methods (at the object level) create instance attributes (variables)\n",
    "    - Have different values for each object (instance) \n",
    "- Each instance object inherits class attributes, and gets its own namespace, and it receives instance attributes when methods are called.\n",
    "- Making use of class- and instance-specific variables reduces repetition within code.\n"
   ]
  },
  {
   "cell_type": "code",
   "execution_count": null,
   "metadata": {},
   "outputs": [],
   "source": []
  }
 ],
 "metadata": {
  "kernelspec": {
   "display_name": "Python 3",
   "language": "python",
   "name": "python3"
  },
  "language_info": {
   "codemirror_mode": {
    "name": "ipython",
    "version": 3
   },
   "file_extension": ".py",
   "mimetype": "text/x-python",
   "name": "python",
   "nbconvert_exporter": "python",
   "pygments_lexer": "ipython3",
   "version": "3.8.8"
  }
 },
 "nbformat": 4,
 "nbformat_minor": 4
}
