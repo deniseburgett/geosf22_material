{
 "cells": [
  {
   "cell_type": "markdown",
   "metadata": {},
   "source": [
    "Geo Data Science with Python,\n",
    "Prof. Susanna Werth, VT Geosciences\n",
    "\n",
    "---\n",
    "### Reading - Lecture 4\n",
    " \n",
    "# Basic Object Types\n",
    "\n",
    "This lesson discusses more details of the basic Python object types **Numbers**, **Boolean** and **Strings**. It also shows how data can be stored in Python ***lists***, and then deepen some concepts of objects in programming. \n",
    "\n",
    "\n",
    "### Content\n",
    "\n",
    "- <a href='#numbers'> ***Numbers*** </a>\n",
    "- <a href='#boolean'> ***Boolean*** </a>\n",
    "- <a href='#strings'> ***Strings*** </a>\n",
    "- <a href='#lists'> ***Lists and Sequences*** </a>\n",
    "\n",
    "\n",
    "### Sources\n",
    "Some elements of Section A-C of this notebook source from Chapter 5 and Chapter 7 of Lutz (2013).\n",
    "Part D is an adaption of Lesson 2 from the [Geo-Python](https://geo-python.github.io/site/2018/index.html), which is licensed under CC (Attribution-ShareAlike 4.0 International).\n",
    "\n",
    "\n",
    "\n",
    "<div class=\"alert alert-info\">\n",
    "\n",
    "**Note**\n",
    "\n",
    "For any cell in the notebook to run correctly, you have to run all previous Python code cells that define the respective variables. You just need to press **Shift**-**Enter** to run any cell, or click on the \"Run\" button in the tool bar at the top of the notebook. You can see if a cell has been executed, if a running number appears in the square brackets at the beginning of the cell. If those brackets are empty, the cell has not been executed. To start over, you can restart the Kernel (Menu item *Kernel* > *Restart*)\n",
    "\n",
    "</div>\n",
    "\n",
    "\n",
    "\n",
    "---\n"
   ]
  },
  {
   "cell_type": "markdown",
   "metadata": {},
   "source": [
    "<a id='numbers'></a>\n",
    "# A. Numeric Object Types in Python\n",
    "\n",
    "Effective data-driven science and computation requires understanding how data is stored and manipulated (VanderPlas, 2016).\n",
    "\n",
    "Most of Python's number types are typical and will seem familiar if you have used other programming languages before. However, numbers are not really a single object type but rather a category. Python supports the usual numeric types (integers and floating point) as well as literals for creating numbers, expressions for processing them and some built-in functions and modules. \n",
    "Python also allows to write integers using hexadecimal, octal and binary literals; offers complex number types Python and allows integers to have unlimited precision - they can grow to have as many ditigs as your memory space allows. Lutz (2013) gives the following overview for numeric object types in Python:\n",
    "\n",
    "Table 1: *Numeric literals and constructors (Lutz, 2013, Table 5.1).*\n",
    "\n",
    "<img src=\"./Image_Table_NumericObjects.jpg\" alt=\"Numeric literals and constructors.\" title=\"Lutz (2013), Figure 5-1\" width=\"400\" />\n"
   ]
  },
  {
   "cell_type": "markdown",
   "metadata": {},
   "source": [
    "Built-in numbers are enough to represent most numeric quantities - from your age to your bank balance - but more types are available from external (third-party) Python packages.\n",
    "Below we briefly introduce the most important ones for this course. These are integer and floating numbers as well as Boolean types. The latter allows for logic operations."
   ]
  },
  {
   "cell_type": "markdown",
   "metadata": {},
   "source": [
    "## Integers\n",
    "\n",
    "Integers are written as strings of decimal digits. These numbers have no fractional component. The size of integer numbers is only limited by your computer's memory. \n",
    "\n",
    "Python's basic number types support the normal mathematical operations, like addition and substraction with the plus and minus signs ```+/-```, multiplication with the star sign ```*```, and two stars are used for exponentiation ```**```. Try to edit and execute the following example performing substractions, multiplications and divisions. What happens? Are the results of all of these operations also of type integer?"
   ]
  },
  {
   "cell_type": "code",
   "execution_count": 316,
   "metadata": {},
   "outputs": [
    {
     "data": {
      "text/plain": [
       "345"
      ]
     },
     "execution_count": 316,
     "metadata": {},
     "output_type": "execute_result"
    }
   ],
   "source": [
    "123 + 222"
   ]
  },
  {
   "cell_type": "code",
   "execution_count": 317,
   "metadata": {},
   "outputs": [
    {
     "data": {
      "text/plain": [
       "int"
      ]
     },
     "execution_count": 317,
     "metadata": {},
     "output_type": "execute_result"
    }
   ],
   "source": [
    "type(123 + 222)"
   ]
  },
  {
   "cell_type": "markdown",
   "metadata": {},
   "source": [
    "Indeed, most mathematical operations involving two integer numbers, will also return an integer number. However, divisions do not return an integer number. This is holds even for divisions without remainder. Instead, thanks to the dynamic typing in Python, we get a floating point number:"
   ]
  },
  {
   "cell_type": "code",
   "execution_count": 318,
   "metadata": {},
   "outputs": [
    {
     "data": {
      "text/plain": [
       "float"
      ]
     },
     "execution_count": 318,
     "metadata": {},
     "output_type": "execute_result"
    }
   ],
   "source": [
    "type(4/2)"
   ]
  },
  {
   "cell_type": "markdown",
   "metadata": {},
   "source": [
    "In Python 3 (which we are using here, as you can see from the Kernel type at the top right), if you want to specifically perform an integer division, you have to mark this by using a double division symbol: ```//```."
   ]
  },
  {
   "cell_type": "code",
   "execution_count": 319,
   "metadata": {},
   "outputs": [
    {
     "data": {
      "text/plain": [
       "2"
      ]
     },
     "execution_count": 319,
     "metadata": {},
     "output_type": "execute_result"
    }
   ],
   "source": [
    "4//2         # integer division"
   ]
  },
  {
   "cell_type": "code",
   "execution_count": 320,
   "metadata": {},
   "outputs": [
    {
     "data": {
      "text/plain": [
       "int"
      ]
     },
     "execution_count": 320,
     "metadata": {},
     "output_type": "execute_result"
    }
   ],
   "source": [
    "type(4//2)"
   ]
  },
  {
   "cell_type": "markdown",
   "metadata": {},
   "source": [
    "Just as a side note: The integer division ```//``` in Python 3 is actually a floor division, provided by the Python module math. We will discuss Python modules, at a later point in the course."
   ]
  },
  {
   "cell_type": "code",
   "execution_count": 321,
   "metadata": {},
   "outputs": [
    {
     "data": {
      "text/plain": [
       "0"
      ]
     },
     "execution_count": 321,
     "metadata": {},
     "output_type": "execute_result"
    }
   ],
   "source": [
    "import math\n",
    "math.floor(123/222)"
   ]
  },
  {
   "cell_type": "markdown",
   "metadata": {},
   "source": [
    "## Floating-point Numbers\n",
    "\n",
    "Floating-point numbers have a fractional component. A decimal point and/or an optional signed exponent introduced by an ```e``` or ```E``` and followed by an optional sign are used to write floating-point numbers.\n"
   ]
  },
  {
   "cell_type": "code",
   "execution_count": 322,
   "metadata": {},
   "outputs": [
    {
     "data": {
      "text/plain": [
       "float"
      ]
     },
     "execution_count": 322,
     "metadata": {},
     "output_type": "execute_result"
    }
   ],
   "source": [
    "type(3.14)    # literal for a floating-point number"
   ]
  },
  {
   "cell_type": "code",
   "execution_count": 323,
   "metadata": {},
   "outputs": [
    {
     "data": {
      "text/plain": [
       "3.14"
      ]
     },
     "execution_count": 323,
     "metadata": {},
     "output_type": "execute_result"
    }
   ],
   "source": [
    "314e-2        # literal for a floating-point number in scientific notation"
   ]
  },
  {
   "cell_type": "markdown",
   "metadata": {},
   "source": [
    "Floating-point numbers are implemented as C \"doubles\", therefore they get as much precision as the C compiler used to build the Python interpreter gives to doubles (usually that is 15 decimal digits of precision). For more precision, external Python packages have to be used. \n",
    "In addition, Python 3 automatically handles a user-friendly output of floating-point numbers. For example, if we define the mathematical constant π to a numeric object, the unformatted output on screen will have the same length."
   ]
  },
  {
   "cell_type": "code",
   "execution_count": 324,
   "metadata": {},
   "outputs": [
    {
     "name": "stdout",
     "output_type": "stream",
     "text": [
      "3.14\n",
      "3.141592653589793\n"
     ]
    }
   ],
   "source": [
    "pi_approximate = 3.14\n",
    "pi_accurate = 3.141592653589793\n",
    "print(pi_approximate)\n",
    "print(pi_accurate)"
   ]
  },
  {
   "cell_type": "markdown",
   "metadata": {},
   "source": [
    "However, when printing the variable to the screen, you can also change the precision of the output, by using the modulus operator ```%```. If you want to print out 4 digits after the comma, indicate this with ```%.4f``` in the following way:"
   ]
  },
  {
   "cell_type": "code",
   "execution_count": 325,
   "metadata": {},
   "outputs": [
    {
     "name": "stdout",
     "output_type": "stream",
     "text": [
      "3.1416\n"
     ]
    }
   ],
   "source": [
    "print('%.4f'%pi_accurate)   # formated screen output using print() for floating-point numbers"
   ]
  },
  {
   "cell_type": "markdown",
   "metadata": {},
   "source": [
    "Alternatively, the output can be formatted in scientific notation or as ingeter number, thought the indicators ```e``` and ```i```:"
   ]
  },
  {
   "cell_type": "code",
   "execution_count": 326,
   "metadata": {},
   "outputs": [
    {
     "name": "stdout",
     "output_type": "stream",
     "text": [
      "3.1416e+00\n"
     ]
    }
   ],
   "source": [
    "print('%.4e'%pi_accurate)   # formated screen output using print() for numbers in scientific notation"
   ]
  },
  {
   "cell_type": "code",
   "execution_count": 327,
   "metadata": {},
   "outputs": [
    {
     "name": "stdout",
     "output_type": "stream",
     "text": [
      "3\n"
     ]
    }
   ],
   "source": [
    "print('%i'%pi_accurate)     # formated screen output using print() for integer numbers"
   ]
  },
  {
   "cell_type": "markdown",
   "metadata": {},
   "source": [
    "We will discuss further details of formatted output using the print function, further below in the section about strings. \n",
    "\n",
    "Furthermore, since variables are strongly typed in Python, you cannot change their type, but you can change the output to the screen or assign a changed output to another variable.\n",
    "For example, the function ```int()``` truncates a floating-point number into an integer number:"
   ]
  },
  {
   "cell_type": "code",
   "execution_count": 328,
   "metadata": {},
   "outputs": [
    {
     "data": {
      "text/plain": [
       "3"
      ]
     },
     "execution_count": 328,
     "metadata": {},
     "output_type": "execute_result"
    }
   ],
   "source": [
    "int(3.141)"
   ]
  },
  {
   "cell_type": "markdown",
   "metadata": {},
   "source": [
    "And the function ```float()``` does the opposite:"
   ]
  },
  {
   "cell_type": "code",
   "execution_count": 329,
   "metadata": {},
   "outputs": [
    {
     "data": {
      "text/plain": [
       "3.0"
      ]
     },
     "execution_count": 329,
     "metadata": {},
     "output_type": "execute_result"
    }
   ],
   "source": [
    "float(3)"
   ]
  },
  {
   "cell_type": "markdown",
   "metadata": {},
   "source": [
    "Take notice what happens, if an operation is performed that involves both number types floating-point and integer. In that case, before the Python intepreter performs the operation, it converts the elements of the operation up to the most complicated type. Hence, the output object type of a mathematical operation that includes integer and floating-point numbers will be of floating-point type:"
   ]
  },
  {
   "cell_type": "code",
   "execution_count": 330,
   "metadata": {},
   "outputs": [
    {
     "data": {
      "text/plain": [
       "float"
      ]
     },
     "execution_count": 330,
     "metadata": {},
     "output_type": "execute_result"
    }
   ],
   "source": [
    "type(40 + 3.141)"
   ]
  },
  {
   "cell_type": "markdown",
   "metadata": {},
   "source": [
    "## Built-in Numeric Tools\n",
    "\n",
    "We have already mentioned some basic mathematic operations. Now let's discuss more expressions available for processing numeric object types and some built-in functions and modules. We will meet many of these as we go along.\n",
    "\n",
    "### *Expression operators:*\n",
    "```+```, ```-```, ```/```, ```*```, ```**```, ```%```, etc.\n",
    "\n",
    "Expressions operators are used for mathematical operations between two numbers. Above listed are the operands of an addition, substraction, division, multiplication, exponent, and modulus. Go to this website to find a comprehensive list of expression operators: https://www.tutorialspoint.com/python/python_basic_operators.htm\n",
    "\n",
    "It is important to keep in mind that:\n",
    "* Mixed operators follow operator precedence (similar to mathematical operations: multiplications precede additions, hence, ```5+1*10=50```. For a full list of precedence orders see section 6.17 in the Python documentation: https://docs.python.org/3/reference/expressions.html#operator-precedence)\n",
    "* Parantheses group subexpressions (exactly like in mathematics: ```(5+1)*10=60``` but ```5+(1*10)=50```)\n",
    "* Mixed types are converted up (as already discussed for the last example in the section about floating-point numbers)\n",
    "\n",
    "### *Built-in functions:*\n",
    "Python has some built-in functions and some of them are useful for basic numeric processing. Examples are:\n",
    "```pow()```, ```abs()```, ```round()```, ```int()```, ```hex()```, ```bin()```, etc. The documentation pages of the Python language provides a comprehensive list: https://docs.python.org/3/library/functions.html\n",
    "\n",
    "### *Utility modules:*\n",
    "The packages (modules) ```random``` and ```math``` provide further functions useful for mathematical operations. The documentation pages of the Python language provides a comprehenisve overview of functions coming with the math module: https://docs.python.org/3/library/math.html \n",
    "\n",
    "Such modules have to be imported before first, and then functions in that module can be accessed by combining their names with a literal ```.``` (similar to the example above using the ```math``` function ```floor()``` ):"
   ]
  },
  {
   "cell_type": "code",
   "execution_count": 331,
   "metadata": {},
   "outputs": [
    {
     "data": {
      "text/plain": [
       "3"
      ]
     },
     "execution_count": 331,
     "metadata": {},
     "output_type": "execute_result"
    }
   ],
   "source": [
    "import math\n",
    "math.floor(3.14)"
   ]
  },
  {
   "cell_type": "markdown",
   "metadata": {},
   "source": [
    "The ```math``` module contains more advanced numeric tools as functions. Conveniently, the math module comes also with some mathematical constants and trigonometric functions:"
   ]
  },
  {
   "cell_type": "code",
   "execution_count": 332,
   "metadata": {},
   "outputs": [
    {
     "data": {
      "text/plain": [
       "9.9498743710662"
      ]
     },
     "execution_count": 332,
     "metadata": {},
     "output_type": "execute_result"
    }
   ],
   "source": [
    "math.sqrt(99)"
   ]
  },
  {
   "cell_type": "code",
   "execution_count": 333,
   "metadata": {},
   "outputs": [
    {
     "data": {
      "text/plain": [
       "(3.141592653589793, 2.718281828459045)"
      ]
     },
     "execution_count": 333,
     "metadata": {},
     "output_type": "execute_result"
    }
   ],
   "source": [
    "math.pi, math.e    # returns the mathematical constants pi and euler's number e"
   ]
  },
  {
   "cell_type": "code",
   "execution_count": 334,
   "metadata": {},
   "outputs": [
    {
     "data": {
      "text/plain": [
       "1.0"
      ]
     },
     "execution_count": 334,
     "metadata": {},
     "output_type": "execute_result"
    }
   ],
   "source": [
    "math.sin(math.pi/2)"
   ]
  },
  {
   "cell_type": "markdown",
   "metadata": {},
   "source": [
    "After importing the ```random``` module, you can perform random-number generation ..."
   ]
  },
  {
   "cell_type": "code",
   "execution_count": 335,
   "metadata": {},
   "outputs": [
    {
     "data": {
      "text/plain": [
       "0.7900283273216812"
      ]
     },
     "execution_count": 335,
     "metadata": {},
     "output_type": "execute_result"
    }
   ],
   "source": [
    "import random\n",
    "random.random()"
   ]
  },
  {
   "cell_type": "markdown",
   "metadata": {},
   "source": [
    "... and random selections (here, from a Python *list* coded in square brackets - an object type to be indroduced later in this course module):"
   ]
  },
  {
   "cell_type": "code",
   "execution_count": 336,
   "metadata": {},
   "outputs": [
    {
     "data": {
      "text/plain": [
       "1"
      ]
     },
     "execution_count": 336,
     "metadata": {},
     "output_type": "execute_result"
    }
   ],
   "source": [
    "random.choice([1,2,3,4]) # choice([L]) chooses a random element from L"
   ]
  },
  {
   "cell_type": "markdown",
   "metadata": {},
   "source": [
    "Go ahead and use the following code cell to try some of the functions and modules in the examples and/or links above (but be aware that some in the links listed functions request more advanced object types, that we haven't discussed yet)."
   ]
  },
  {
   "cell_type": "code",
   "execution_count": 337,
   "metadata": {},
   "outputs": [
    {
     "data": {
      "text/plain": [
       "4"
      ]
     },
     "execution_count": 337,
     "metadata": {},
     "output_type": "execute_result"
    }
   ],
   "source": [
    "math.ceil(3.14)      # ceil(x) returns the smallest integer >= x."
   ]
  },
  {
   "cell_type": "markdown",
   "metadata": {},
   "source": [
    "And of course, you can do all of discussed and listed numerical operations with variables that have been assigned with a numerical values."
   ]
  },
  {
   "cell_type": "code",
   "execution_count": 338,
   "metadata": {},
   "outputs": [
    {
     "name": "stdout",
     "output_type": "stream",
     "text": [
      "-0.7071067811865475\n"
     ]
    }
   ],
   "source": [
    "a = math.pi\n",
    "b = math.sin(math.pi*5/4)\n",
    "print(b)"
   ]
  },
  {
   "cell_type": "markdown",
   "metadata": {},
   "source": [
    "Using variable of numeric object type with expressions, the following has to be kept in mind for Python:\n",
    "\n",
    "* Variables are created when they are first assigned values.\n",
    "* Variables are replaced with their values when used in expressions.\n",
    "* Variables must be assigned before they can be used in expressions.\n",
    "* Variables refer to objects and are never declared ahead of time.\n",
    "\n",
    "Now, you have gained the most important knowledge to use and process variables of numeric object type in Python. For even more complex numerical operations, especially involving data tables, one has to refer to separate, external Python packages. We will discuss modules in general and external Python packages in specific during a later course module. "
   ]
  },
  {
   "cell_type": "markdown",
   "metadata": {},
   "source": [
    "## Python HELP ?!\n",
    "\n",
    "If you ever wonder what a function's function is without starting any literature or internet search, you may always consult the very useful built-in function ```help()```, through which you can request the manual entry for any function:"
   ]
  },
  {
   "cell_type": "code",
   "execution_count": 339,
   "metadata": {},
   "outputs": [
    {
     "name": "stdout",
     "output_type": "stream",
     "text": [
      "Help on built-in function abs in module builtins:\n",
      "\n",
      "abs(x, /)\n",
      "    Return the absolute value of the argument.\n",
      "\n"
     ]
    }
   ],
   "source": [
    "help(abs)"
   ]
  },
  {
   "cell_type": "markdown",
   "metadata": {},
   "source": [
    "The returned text delivers information about syntax and semantics of the function. This work also for functions of imported modules:"
   ]
  },
  {
   "cell_type": "code",
   "execution_count": 340,
   "metadata": {},
   "outputs": [
    {
     "name": "stdout",
     "output_type": "stream",
     "text": [
      "Help on built-in function ceil in module math:\n",
      "\n",
      "ceil(x, /)\n",
      "    Return the ceiling of x as an Integral.\n",
      "    \n",
      "    This is the smallest integer >= x.\n",
      "\n"
     ]
    }
   ],
   "source": [
    "help(math.ceil)"
   ]
  },
  {
   "cell_type": "markdown",
   "metadata": {},
   "source": [
    "---\n",
    "<a id='boolean'></a>\n",
    "# B. Boolean Types: Truth Values, Comparisons & Tests\n",
    "\n",
    "Python's Boolean type and its operators are a bit different from their counterparts in languages like C. In Python, the Boolean type, ```bool```, is numeric in nature because its two values, ```True``` and ```False```, are basically custom versions of 1 and 0. Also Boolean values ```True``` or ```False``` are treated as numeric *constants* in Python (see the Table 1) and their Boolean object type (```bool```) is actually a subtype (subclass) of integers (```int```). "
   ]
  },
  {
   "cell_type": "code",
   "execution_count": 341,
   "metadata": {},
   "outputs": [
    {
     "data": {
      "text/plain": [
       "bool"
      ]
     },
     "execution_count": 341,
     "metadata": {},
     "output_type": "execute_result"
    }
   ],
   "source": [
    "type(True)"
   ]
  },
  {
   "cell_type": "markdown",
   "metadata": {},
   "source": [
    "Let's look at some examples to understand how Boolean types and their operators function in Python.\n",
    "\n",
    "### Boolean Truth Values\n",
    "In Python all objects have an inherent *Boolean* true or false value. \n",
    "We can define:\n",
    "\n",
    "* Any nonzero number or nonempty object is true.\n",
    "* Zero numbers, empty objects, and a special object ```None``` are considered false.\n",
    "\n",
    "The built-in function ```bool()```, which tests the Boolean value of an argument, is available to request this inherent value for any variable. For example:"
   ]
  },
  {
   "cell_type": "code",
   "execution_count": 342,
   "metadata": {},
   "outputs": [
    {
     "data": {
      "text/plain": [
       "(False, False, True)"
      ]
     },
     "execution_count": 342,
     "metadata": {},
     "output_type": "execute_result"
    }
   ],
   "source": [
    "a = 0\n",
    "b = None\n",
    "c = 10.0\n",
    "bool(a), bool(b), bool(c)"
   ]
  },
  {
   "cell_type": "markdown",
   "metadata": {},
   "source": [
    "Because of Python's customization of the Boolean type, the output of Boolean expressions typed at the interactive prompt prints as the words ```True``` and ```False``` instead of the older and less obvious ```1``` and ```0```. Most programmers had been assigning ```True``` and ```False``` to ```1``` and ```0``` anyway. The ```bool``` type simply makes this standard. It's implementation can lead to curious results, though. Because ```True``` is just the integer ```1``` with a custom display format, ```True + 4``` yields integer ```5``` in Python!"
   ]
  },
  {
   "cell_type": "code",
   "execution_count": 343,
   "metadata": {},
   "outputs": [
    {
     "data": {
      "text/plain": [
       "5"
      ]
     },
     "execution_count": 343,
     "metadata": {},
     "output_type": "execute_result"
    }
   ],
   "source": [
    "True + 4"
   ]
  },
  {
   "cell_type": "markdown",
   "metadata": {},
   "source": [
    "By the way, very much like the Boolean values ```True``` and ```False```, also the value ```None``` is a built-in constant. However the  ```None``` value is special, as it basically sets a variable to an empty value (much like a ```NULL``` pointer in C) and it has it's very separate and unique object type:"
   ]
  },
  {
   "cell_type": "code",
   "execution_count": 344,
   "metadata": {},
   "outputs": [
    {
     "data": {
      "text/plain": [
       "(NoneType, bool)"
      ]
     },
     "execution_count": 344,
     "metadata": {},
     "output_type": "execute_result"
    }
   ],
   "source": [
    "type(None), type(True)"
   ]
  },
  {
   "cell_type": "markdown",
   "metadata": {},
   "source": [
    "See the top of this Python documentation page for explanations of the built-in constants: https://docs.python.org/3/library/constants.html"
   ]
  },
  {
   "cell_type": "markdown",
   "metadata": {},
   "source": [
    "### Comparisons & Equality Tests\n",
    "Also comparisons and equality tests return ```True``` or ```False```. Range comparisons can be performed using the expression operators ```<```, ```>```, ```>=```, ```<=```; and equality tests using the expression operators ```==```, ```!=```. For example:"
   ]
  },
  {
   "cell_type": "code",
   "execution_count": 345,
   "metadata": {},
   "outputs": [
    {
     "data": {
      "text/plain": [
       "(True, False, True)"
      ]
     },
     "execution_count": 345,
     "metadata": {},
     "output_type": "execute_result"
    }
   ],
   "source": [
    "a < c, a==c, b!=c"
   ]
  },
  {
   "cell_type": "markdown",
   "metadata": {},
   "source": [
    "Notice how mixed types are allowed in numeric expressions (only). In the first test above, Python compares an integer and a floating-point number with each other as well as a number with the NoneType. "
   ]
  },
  {
   "cell_type": "markdown",
   "metadata": {},
   "source": [
    "### Boolean Tests\n",
    "Boolean tests use the logical operators ```and``` and ```or``` and they return a true or false operand object. Such Boolean operators combine the results of other tests in richer ways to produce new truth values. For that, revise also the operator precedence ([Table 6.16 of the Python documentation](https://docs.python.org/3/reference/expressions.html)).\n",
    "More formally, there are three Boolean expression operators in Python, which are typed out as workds in Python (in contrast to other languages):\n",
    "\n",
    "* ```X and Y``` Is true if both ```X``` and ```Y``` are true\n",
    "* ```X or Y``` Is true if either ```X``` or ```Y``` is true\n",
    "* ```not X``` Is true if ```X``` is false (the expression returns ```True``` or ```False```)\n",
    "\n",
    "Here, ```X``` and ```Y``` may be any truth value, or any expression that returns a truth value (e.g., an equality test, range comparison, and so on).\n",
    "\n",
    "Keep in mind, that the Boolean ```and``` and ```or``` operators return a true or false object, not the values ```True``` or ```False```. Let's look at a few examples to see how this works. Compare the following comparison:"
   ]
  },
  {
   "cell_type": "code",
   "execution_count": 346,
   "metadata": {},
   "outputs": [
    {
     "data": {
      "text/plain": [
       "(True, False)"
      ]
     },
     "execution_count": 346,
     "metadata": {},
     "output_type": "execute_result"
    }
   ],
   "source": [
    "1 < 2, 3 < 1"
   ]
  },
  {
   "cell_type": "markdown",
   "metadata": {},
   "source": [
    "... with the output of the following Boolean tests:"
   ]
  },
  {
   "cell_type": "code",
   "execution_count": 347,
   "metadata": {},
   "outputs": [
    {
     "data": {
      "text/plain": [
       "(1, 3)"
      ]
     },
     "execution_count": 347,
     "metadata": {},
     "output_type": "execute_result"
    }
   ],
   "source": [
    "1 or 2, 3 or 1"
   ]
  },
  {
   "cell_type": "code",
   "execution_count": 348,
   "metadata": {},
   "outputs": [
    {
     "data": {
      "text/plain": [
       "3"
      ]
     },
     "execution_count": 348,
     "metadata": {},
     "output_type": "execute_result"
    }
   ],
   "source": [
    "None or 3"
   ]
  },
  {
   "cell_type": "code",
   "execution_count": 349,
   "metadata": {},
   "outputs": [
    {
     "data": {
      "text/plain": [
       "0"
      ]
     },
     "execution_count": 349,
     "metadata": {},
     "output_type": "execute_result"
    }
   ],
   "source": [
    "0 and 3"
   ]
  },
  {
   "cell_type": "markdown",
   "metadata": {},
   "source": [
    "You can see, that ```and``` and ```or``` operators always return an object. Either the object on the *left* side of the operator or the object on the *right*. If we test their results, using the built-in function ```bool()``` they will be as expected (remember, every object is inherently true or false), but we won't get back a simple ```True``` or ```False```.\n",
    "\n",
    "Furthermore, Boolean ```or``` tests are done in a so called *short-circuit evaluations*. This means the interpreter evaluates the operand objects from left to right. Once it finds the first true operand, it terminates (short-circuits) the evaluation of the rest of the expression. After the first true operand was found, the values of further operands in the expression won't be able to change the outcome of an ```or``` test: ```true``` or anything is always true.\n",
    "\n",
    "Similarily, the Python ```and``` operands stop as soon as the result is known. However, in this case Python evaluates the operands from left to right and stops if the left operand is a ```false``` object because it determines the result: false ```and``` anything is always false.\n",
    "\n",
    "The concept of *short-circuit evaluations* has to be known, to predict the exact output of a Boolean test. Below some examples to study:"
   ]
  },
  {
   "cell_type": "code",
   "execution_count": 350,
   "metadata": {},
   "outputs": [
    {
     "data": {
      "text/plain": [
       "True"
      ]
     },
     "execution_count": 350,
     "metadata": {},
     "output_type": "execute_result"
    }
   ],
   "source": [
    "True or 20  # Evaluation stops after first True object: result is True"
   ]
  },
  {
   "cell_type": "code",
   "execution_count": 351,
   "metadata": {},
   "outputs": [
    {
     "data": {
      "text/plain": [
       "10"
      ]
     },
     "execution_count": 351,
     "metadata": {},
     "output_type": "execute_result"
    }
   ],
   "source": [
    "10 or 20    # Evaluation stops after first non-zero object: result is 10"
   ]
  },
  {
   "cell_type": "code",
   "execution_count": 352,
   "metadata": {},
   "outputs": [
    {
     "data": {
      "text/plain": [
       "False"
      ]
     },
     "execution_count": 352,
     "metadata": {},
     "output_type": "execute_result"
    }
   ],
   "source": [
    "False and 20 # Evaluation stops after first False: result is False"
   ]
  },
  {
   "cell_type": "code",
   "execution_count": 353,
   "metadata": {},
   "outputs": [
    {
     "data": {
      "text/plain": [
       "False"
      ]
     },
     "execution_count": 353,
     "metadata": {},
     "output_type": "execute_result"
    }
   ],
   "source": [
    "10 and False # Evaluation stops after first False: result is False"
   ]
  },
  {
   "cell_type": "code",
   "execution_count": 354,
   "metadata": {},
   "outputs": [
    {
     "data": {
      "text/plain": [
       "20"
      ]
     },
     "execution_count": 354,
     "metadata": {},
     "output_type": "execute_result"
    }
   ],
   "source": [
    "10 and 20   # Evaluation continues until last object: results is 20\n",
    "            # (no zero or false object)"
   ]
  },
  {
   "cell_type": "code",
   "execution_count": 355,
   "metadata": {},
   "outputs": [
    {
     "data": {
      "text/plain": [
       "30"
      ]
     },
     "execution_count": 355,
     "metadata": {},
     "output_type": "execute_result"
    }
   ],
   "source": [
    "10 and 20 and 30  # Evaluation continues until last object: results is 30"
   ]
  },
  {
   "cell_type": "markdown",
   "metadata": {},
   "source": [
    " \n",
    "\n",
    "### Chained Comparisons\n",
    "\n",
    "In addition to that, Python allows us to chain multiple comparisons together. Chained compariosns are sort of shorthand for larger Boolean expressions. This allows to perform range tests. For instance, the expression ```(a < b < c)``` tests wheter ```b``` is between ```a``` and ```c```; it is equivalent to the Boolean test ```(a < b and b < c)```. But the former is easier on the eyes (and the keyboard).\n",
    "For example:"
   ]
  },
  {
   "cell_type": "code",
   "execution_count": 356,
   "metadata": {},
   "outputs": [],
   "source": [
    "a = 20\n",
    "b = 40\n",
    "c = 60"
   ]
  },
  {
   "cell_type": "markdown",
   "metadata": {},
   "source": [
    "Now compare:"
   ]
  },
  {
   "cell_type": "code",
   "execution_count": 357,
   "metadata": {},
   "outputs": [
    {
     "data": {
      "text/plain": [
       "True"
      ]
     },
     "execution_count": 357,
     "metadata": {},
     "output_type": "execute_result"
    }
   ],
   "source": [
    "a < b < c"
   ]
  },
  {
   "cell_type": "markdown",
   "metadata": {},
   "source": [
    "with:"
   ]
  },
  {
   "cell_type": "code",
   "execution_count": 358,
   "metadata": {},
   "outputs": [
    {
     "data": {
      "text/plain": [
       "True"
      ]
     },
     "execution_count": 358,
     "metadata": {},
     "output_type": "execute_result"
    }
   ],
   "source": [
    "a < b and b < c"
   ]
  },
  {
   "cell_type": "markdown",
   "metadata": {},
   "source": [
    "You can build even longer chains or add comparisons into the chained tests. "
   ]
  },
  {
   "cell_type": "code",
   "execution_count": 359,
   "metadata": {},
   "outputs": [
    {
     "data": {
      "text/plain": [
       "True"
      ]
     },
     "execution_count": 359,
     "metadata": {},
     "output_type": "execute_result"
    }
   ],
   "source": [
    "1 < 2 < 3 < 4.0 < 5"
   ]
  },
  {
   "cell_type": "markdown",
   "metadata": {},
   "source": [
    "But the resulting expressions can become nonintuitive, unless you evaluate them the way Python does. The following, for example, is false just because 1 is not equal to 2:"
   ]
  },
  {
   "cell_type": "code",
   "execution_count": 360,
   "metadata": {},
   "outputs": [
    {
     "data": {
      "text/plain": [
       "False"
      ]
     },
     "execution_count": 360,
     "metadata": {},
     "output_type": "execute_result"
    }
   ],
   "source": [
    "1 == 2 < 3    # Same as 1 == 2 and 2 < 3 (not same as False < 3)"
   ]
  },
  {
   "cell_type": "markdown",
   "metadata": {},
   "source": [
    "In this example, Python does not compare the ```1 == 2``` expression's ```False``` result to 3. This would technically mean the same as ```0 < 3```, which would be ```True```."
   ]
  },
  {
   "cell_type": "markdown",
   "metadata": {},
   "source": [
    "### Identity Operators\n",
    "\n",
    "Lastly, identity operators compare the memory locations of two objects. There are two identity operators: ```is``` and ```is not```.\n",
    "\n",
    "* ```is``` evaluates to true if the variables on either side of the operator point to the same object and false otherwise.\n",
    "* ```is not``` evaluates to false if the variables on either side of the operator point to the same object and true otherwise.\n",
    "\n",
    "For example, remember from the last notebook what we have learned about how Variable names are referenced to objects in Python? From that, it becomes obvious the following identity test has to be true:"
   ]
  },
  {
   "cell_type": "code",
   "execution_count": 361,
   "metadata": {},
   "outputs": [
    {
     "data": {
      "text/plain": [
       "True"
      ]
     },
     "execution_count": 361,
     "metadata": {},
     "output_type": "execute_result"
    }
   ],
   "source": [
    "a = 3\n",
    "b = a\n",
    "a is b"
   ]
  },
  {
   "cell_type": "markdown",
   "metadata": {},
   "source": [
    "And with identity tests, we can also show, that the Boolean \"number\" ```True``` and the integer number ```1``` are of the same value (both are basically an integer number ```1```), but not of the same object:"
   ]
  },
  {
   "cell_type": "code",
   "execution_count": 362,
   "metadata": {},
   "outputs": [
    {
     "data": {
      "text/plain": [
       "True"
      ]
     },
     "execution_count": 362,
     "metadata": {},
     "output_type": "execute_result"
    }
   ],
   "source": [
    "True == 1    # Same value"
   ]
  },
  {
   "cell_type": "code",
   "execution_count": 363,
   "metadata": {},
   "outputs": [
    {
     "name": "stderr",
     "output_type": "stream",
     "text": [
      "<>:1: SyntaxWarning: \"is\" with a literal. Did you mean \"==\"?\n",
      "<>:1: SyntaxWarning: \"is\" with a literal. Did you mean \"==\"?\n",
      "<ipython-input-363-6e82371b8779>:1: SyntaxWarning: \"is\" with a literal. Did you mean \"==\"?\n",
      "  True is 1    # But a different object\n"
     ]
    },
    {
     "data": {
      "text/plain": [
       "False"
      ]
     },
     "execution_count": 363,
     "metadata": {},
     "output_type": "execute_result"
    }
   ],
   "source": [
    "True is 1    # But a different object"
   ]
  },
  {
   "cell_type": "markdown",
   "metadata": {},
   "source": [
    "### Boolean Types: Summary\n",
    "So let's summarize briefly, what we have discussed about Boolean types and operators:\n",
    "\n",
    "* Any nonzero number or nonempty object is true.\n",
    "* Zero numbers, empty objects, and a special object ```None``` are considered false.\n",
    "* Comparisons and equality tests are applied recursively to data structures.\n",
    "* Comparisons, equality tests and identity operators return ```True``` or ```False``` (which are custom versions of 1 and 0)\n",
    "* Boolean ```and``` and ```or``` operators return a true or false operand object.\n",
    "* Boolean operators stop evaluating (\"short circuit\") as soon as a result is known.\n",
    "\n",
    "Refer back to this website to find a comprehensive list of expression operators, including those for comparisons and equality test as well as logical operators and identity operators: https://www.tutorialspoint.com/python/python_basic_operators.htm"
   ]
  },
  {
   "cell_type": "markdown",
   "metadata": {},
   "source": [
    "---\n",
    "<a id='strings'></a>\n",
    "# C. Strings in Python\n",
    "\n"
   ]
  },
  {
   "cell_type": "markdown",
   "metadata": {},
   "source": [
    "Strings are used to record both, textual information (your name, for instance) as well as arbritrary collection of bytes (such as image file's contents). They are our first example, of what in Python we call a ***sequence*** - **a positionally ordered collection of other objects**. Sequences maintain a **left-to-right order** among the items they contain: their items are stored and fetched by their relative positions. Strictly speaking, strings are sequences of one-character strings; other, more general sequence types include *lists* and *tuples*, coverd later (Lutz, 2013). But let's first begin with the syntax for generating strings.\n",
    "\n",
    "### String Literals\n",
    "\n",
    "Python strings are easy to use and several syntax forms can be used to generate them. For example, we can assign the a string \"```knight's```\" to a variable ```S``` in different ways:"
   ]
  },
  {
   "cell_type": "code",
   "execution_count": 364,
   "metadata": {},
   "outputs": [
    {
     "name": "stdout",
     "output_type": "stream",
     "text": [
      "knight\"s knight's knights \n",
      "knight's\n"
     ]
    }
   ],
   "source": [
    "S1 = 'knight\"s'       # single quotes\n",
    "S2 = \"knight's\"       # double quotes\n",
    "S3 = '''knights'''    # triple quotes\n",
    "S4 = '\\nknight\\'s'    # escape sequence\n",
    "print(S1 , S2 , S3 , S4, )"
   ]
  },
  {
   "cell_type": "markdown",
   "metadata": {},
   "source": [
    "Single and double-quote characters are interchangeable and they can be enclosed in either. You can also embed one in the other and vice versa, as seen in the examples above. Triple quotes are an alternative to code entire *block strings*. That is a syntactic convenience for coding mulitiline text data.\n",
    "\n",
    "Escape sequences allow embedding of special characters in string cannot easily be typed on a keyborad. In the string literal, one Backslash ```\\``` precedes a character. The character pair is then replaced by a single character to be stored in the string:\n",
    "\n",
    "* ```\\n``` stores a newline\n",
    "* ```\\t``` stores a horizontal tab\n",
    "* ```\\v``` stores a vertical tab\n",
    "* ```\\\\```,```\\'```,```\\''``` for special caracters like Backslash, single quotes or double quotes \n",
    "\n",
    "The ```\\\\``` stores one ```\\``` in the string. While the function print replaces the escape characters (see code cell above). However, the interactive echo of the interpreter keeps showing the special characters as escapes:"
   ]
  },
  {
   "cell_type": "code",
   "execution_count": 365,
   "metadata": {},
   "outputs": [
    {
     "data": {
      "text/plain": [
       "\"\\nknight's\""
      ]
     },
     "execution_count": 365,
     "metadata": {},
     "output_type": "execute_result"
    }
   ],
   "source": [
    "S4"
   ]
  },
  {
   "cell_type": "markdown",
   "metadata": {},
   "source": [
    "### String Properties\n",
    "Because strings are sequences, they support operations that assume a positional ordering among its items. For example, one can request the length of a string with the built-in function ```len()```.  And one can select and print out certain items of a string, or in other words, fetch its components with *indexing* expressions."
   ]
  },
  {
   "cell_type": "code",
   "execution_count": 366,
   "metadata": {},
   "outputs": [
    {
     "data": {
      "text/plain": [
       "8"
      ]
     },
     "execution_count": 366,
     "metadata": {},
     "output_type": "execute_result"
    }
   ],
   "source": [
    "len(S1)   # len returns ength of a string sequence"
   ]
  },
  {
   "cell_type": "code",
   "execution_count": 367,
   "metadata": {},
   "outputs": [
    {
     "data": {
      "text/plain": [
       "'k'"
      ]
     },
     "execution_count": 367,
     "metadata": {},
     "output_type": "execute_result"
    }
   ],
   "source": [
    "S1[0]     # returns the first item from the left"
   ]
  },
  {
   "cell_type": "code",
   "execution_count": 368,
   "metadata": {},
   "outputs": [
    {
     "data": {
      "text/plain": [
       "'n'"
      ]
     },
     "execution_count": 368,
     "metadata": {},
     "output_type": "execute_result"
    }
   ],
   "source": [
    "S1[1]     # returns the second item from the left"
   ]
  },
  {
   "cell_type": "markdown",
   "metadata": {},
   "source": [
    "In Python, indexing is coded as offsets from the front. The first item is at index 0, the second at index 1 and so on. In addition to that, strings allow the following typcial sequence operations.\n",
    "\n",
    "* slicing: general form of indexing - extract an entire section (slice) of a string in a single step\n",
    "* concatenating: joining two strings into a new string\n",
    "* repeating: making a new string by repeating another\n",
    "\n",
    "Here some examples:"
   ]
  },
  {
   "cell_type": "code",
   "execution_count": 369,
   "metadata": {},
   "outputs": [
    {
     "data": {
      "text/plain": [
       "'nig'"
      ]
     },
     "execution_count": 369,
     "metadata": {},
     "output_type": "execute_result"
    }
   ],
   "source": [
    "S1[1:4]    # slicing an index"
   ]
  },
  {
   "cell_type": "code",
   "execution_count": 370,
   "metadata": {},
   "outputs": [
    {
     "data": {
      "text/plain": [
       "\"knight'sknights\""
      ]
     },
     "execution_count": 370,
     "metadata": {},
     "output_type": "execute_result"
    }
   ],
   "source": [
    "S2 + S3    # concatenating an index"
   ]
  },
  {
   "cell_type": "code",
   "execution_count": 371,
   "metadata": {},
   "outputs": [
    {
     "data": {
      "text/plain": [
       "'knightsknightsknights'"
      ]
     },
     "execution_count": 371,
     "metadata": {},
     "output_type": "execute_result"
    }
   ],
   "source": [
    "S3*3       # Repetition"
   ]
  },
  {
   "cell_type": "markdown",
   "metadata": {},
   "source": [
    "Index operations will be discussed in more detail in the upcoming reading material.\n",
    "\n",
    "Another property of strings in Python is *immutability*. In the previous notebook you have learned about the concepts of mutability and immutability. Now, strings being immutable means they cannot be changed in place after they are created: any operations performed on strings cannot overwrite the values of a string object. But you can always build a new one and assign it to the same name. \n",
    "\n",
    "To illustrate that, let's look at two examples. Immutabilitity means, that you cannot change a single item of a string like this:"
   ]
  },
  {
   "cell_type": "code",
   "execution_count": 372,
   "metadata": {},
   "outputs": [],
   "source": [
    "# S1[1]='y'  #un-comment this line to get the error!"
   ]
  },
  {
   "cell_type": "markdown",
   "metadata": {},
   "source": [
    "Instead, we get a ```TypeError```, stating that string objects do not support item assignment! But we can run expressions to make new objects and reference them to the same name:"
   ]
  },
  {
   "cell_type": "code",
   "execution_count": 373,
   "metadata": {},
   "outputs": [
    {
     "name": "stdout",
     "output_type": "stream",
     "text": [
      "yknight\"s\n"
     ]
    }
   ],
   "source": [
    "S1 = 'y' + S1\n",
    "print(S1)"
   ]
  },
  {
   "cell_type": "markdown",
   "metadata": {},
   "source": [
    "In this case, the old object and its reference are then deleted. In fact, Python cleans up old objects as you go. You will learn more about that in the upcoming reading material."
   ]
  },
  {
   "cell_type": "markdown",
   "metadata": {},
   "source": [
    "### Formatted output of strings using ```print()```\n",
    "\n",
    "You have already used ```print()``` to quickly print variable to the screen. The function, however, can be fed with syntax that formats the output of strings and numbers. For that, two different flavors are possible. \n",
    "\n",
    "The original technique available since Python's beginning, which is based on the C language and is used widely:\n",
    "\n",
    "* String formatting expressions: ```'...%s...' % (values)```\n",
    "\n",
    "A newer technique added since Python 2.6:\n",
    "\n",
    "* String formatting method calls: ```'...{}...'.format(values)```\n",
    "\n",
    "The second method is syntactically a bit more complex, expecially since it uses object oriented syntax, which we will discuss at a later point in the course. However, it has a clear advantage, as type codes are optional and different object types handled automatically. \n",
    "\n",
    "Both flavors can be used without (as interactive echo of the interpreter) and with the ```print()``` function. Below you can find a list of type codes useful for the second option (string formatting expressions). The list is not complete, but contains all codes relevant for this course.\n",
    "\n",
    "Table 2: *Selected string Formatting Type Codes.*\n",
    "\n",
    "| Code           | Meaning / Object Type      \n",
    "| :-: | :- |\n",
    "| ```%s```          | String   \n",
    "| ```%c```          | Character (int or str)   \n",
    "| ```%d```          | Decimal (base-10 integer)\n",
    "| ```%i```          | Integer\n",
    "| ```%e```          | Floating-point with exponent, lower case\n",
    "| ```%E```          | Same as ```e``` but uses upper case ```E```\n",
    "| ```%f```          | Floating-point decimal   \n",
    "| ```%```           | Literal % (coded as %%) \n",
    "\n",
    "In the following examples, both formatting techniques are adapted. Try to alter them and learn how they work:"
   ]
  },
  {
   "cell_type": "code",
   "execution_count": 374,
   "metadata": {},
   "outputs": [
    {
     "name": "stdout",
     "output_type": "stream",
     "text": [
      "The knight's robe is green!\n",
      "The knight's robe is green!\n"
     ]
    }
   ],
   "source": [
    "print(\"The %s robe is green!\" % S2)          # formatting expression\n",
    "print('The {} robe is green!'.format(S2))    # formatting method calls"
   ]
  },
  {
   "cell_type": "code",
   "execution_count": 375,
   "metadata": {},
   "outputs": [
    {
     "name": "stdout",
     "output_type": "stream",
     "text": [
      "The knight's has 2 knifes in his hand.\n",
      "The knight's has 2 knifes in his hand.\n"
     ]
    }
   ],
   "source": [
    "knifes = 2\n",
    "print(\"The %s has %i knifes in his hand.\" % (S2,knifes))\n",
    "print(\"The {} has {} knifes in his hand.\".format(S2,knifes))"
   ]
  },
  {
   "cell_type": "markdown",
   "metadata": {},
   "source": [
    "Precision of floating points can be controlled for the second formatting method by entering parameter into the curvy brackets, for example in the following way if you want to print two digits after the comma. Also the positions of the variable replacements can be switched: "
   ]
  },
  {
   "cell_type": "code",
   "execution_count": 376,
   "metadata": {},
   "outputs": [
    {
     "name": "stdout",
     "output_type": "stream",
     "text": [
      "The 2.222 cents in the knight's pockets were stolen.\n",
      "The kni cents in the 2.22 pockets were stolen.\n"
     ]
    }
   ],
   "source": [
    "money = 2.222222\n",
    "print(\"The {1:.3f} cents in the {0} pockets were stolen.\".format(S2,money))\n",
    "print(\"The {0:.3} cents in the {1:0.3} pockets were stolen.\".format(S2,money))"
   ]
  },
  {
   "cell_type": "markdown",
   "metadata": {},
   "source": [
    "If you like to get into the details of the very flexible string formatting using method calls, check the following pages:\n",
    "* https://www.digitalocean.com/community/tutorials/how-to-use-string-formatters-in-python-3 \n",
    "* https://pyformat.info/"
   ]
  },
  {
   "cell_type": "markdown",
   "metadata": {},
   "source": [
    "### Type Specific Operations and Methods\n",
    "\n",
    "Lastly, I would like to provide an overview of type specific operations for strings in Python.\n",
    "\n",
    "Table 3: *String Type Specific Operations (after Lutz, 2013, Table 7-1).*\n",
    "\n",
    "| Operation                                     | Interpretation      \n",
    "| :-----------                                   | :----------- |\n",
    "| ```S1 + S2```                                 | Concatenate   \n",
    "| ```S1 * 3```                                  | Repeat    \n",
    "| ```S[i]```                                    | Indexing   \n",
    "| ```S[i:j]```                                  | Slicing \n",
    "| ```len(S)```                                  | Length \n",
    "| ```\"The sum of 1 + 2 is %i\" % (1+2)```        | String formatting expression \n",
    "| ```\"The sum of 1 + 2 is {0}\".format(1+2)```   | String formatting method calls\n",
    "| ```.find('pa')```                            | String methods: search \n",
    "| ```.strip()```                               | Remove all leading and trailing whitespace\n",
    "| ```.rstrip()```                              | Remove trailing whitespace\n",
    "| ```.replace('pa','xx')```                    | Replacement\n",
    "| ```.split(',')```                            | Split on delimiter\n",
    "| ```.splitlines()```                          | split string at all ‘\\n’ and return a list of the lines\n",
    "| ```.lower()```                               | Case conversion (to lower case)\n",
    "| ```.upper()```                               | Case conversion (to upper case)\n",
    "| ```.endswith(spam')```                       | End test\n",
    "\n",
    "The first seven entries have been addressed in this notebook. All remaining entries are so called methods. Methods are specific functions that are applied with the following syntax: ```stringname.methodname(arguments)```. The methods in the table are specifically designed to handle strings. These methods may appear to alter the content of strings. However, they are actually not changing the original strings but create new strings as results - because strings are immutable.\n",
    "\n",
    "Investigate and practice the functionality of these methods. You can use the examples below, the Python ```help()``` function or search them in the Python documentation: https://docs.python.org/3/library/stdtypes.html (scroll down to  the section \"String Methods\"). Alternatively, study the following external Jupyter Notebook, which discusses the most important string methods: https://www.digitalocean.com/community/tutorials/an-introduction-to-string-functions-in-python-3"
   ]
  },
  {
   "cell_type": "code",
   "execution_count": 377,
   "metadata": {},
   "outputs": [],
   "source": [
    "S = 'Hello World ! '# define a string S"
   ]
  },
  {
   "cell_type": "code",
   "execution_count": 378,
   "metadata": {},
   "outputs": [
    {
     "data": {
      "text/plain": [
       "6"
      ]
     },
     "execution_count": 378,
     "metadata": {},
     "output_type": "execute_result"
    }
   ],
   "source": [
    "S.find('World')    # find the substring 'World'"
   ]
  },
  {
   "cell_type": "code",
   "execution_count": 379,
   "metadata": {},
   "outputs": [
    {
     "data": {
      "text/plain": [
       "'Hello Class ! '"
      ]
     },
     "execution_count": 379,
     "metadata": {},
     "output_type": "execute_result"
    }
   ],
   "source": [
    "S.replace('World','Class')        # replace the substring 'World' with 'Class'"
   ]
  },
  {
   "cell_type": "code",
   "execution_count": 380,
   "metadata": {},
   "outputs": [
    {
     "data": {
      "text/plain": [
       "('Hello World !', 'hello world ! ', 'HELLO WORLD ! ')"
      ]
     },
     "execution_count": 380,
     "metadata": {},
     "output_type": "execute_result"
    }
   ],
   "source": [
    "S.rstrip(), S.lower(), S.upper()  # check what happened to the spaces and the letters"
   ]
  },
  {
   "cell_type": "code",
   "execution_count": 381,
   "metadata": {},
   "outputs": [
    {
     "data": {
      "text/plain": [
       "['Hello', 'World', '!', '']"
      ]
     },
     "execution_count": 381,
     "metadata": {},
     "output_type": "execute_result"
    }
   ],
   "source": [
    "S.split(' ')       # splits the string at a given delimiter (here space)"
   ]
  },
  {
   "cell_type": "code",
   "execution_count": 382,
   "metadata": {},
   "outputs": [
    {
     "data": {
      "text/plain": [
       "'Hello World ! '"
      ]
     },
     "execution_count": 382,
     "metadata": {},
     "output_type": "execute_result"
    }
   ],
   "source": [
    "S                  # even after the performed operations, the immutable string S remains unchanged"
   ]
  },
  {
   "cell_type": "code",
   "execution_count": 383,
   "metadata": {},
   "outputs": [
    {
     "name": "stdout",
     "output_type": "stream",
     "text": [
      "Help on method_descriptor:\n",
      "\n",
      "find(...)\n",
      "    S.find(sub[, start[, end]]) -> int\n",
      "    \n",
      "    Return the lowest index in S where substring sub is found,\n",
      "    such that sub is contained within S[start:end].  Optional\n",
      "    arguments start and end are interpreted as in slice notation.\n",
      "    \n",
      "    Return -1 on failure.\n",
      "\n"
     ]
    }
   ],
   "source": [
    "help(str.find)     # request help for a method"
   ]
  },
  {
   "cell_type": "markdown",
   "metadata": {},
   "source": [
    "Use the code cells below, to practice the examples."
   ]
  },
  {
   "cell_type": "code",
   "execution_count": 384,
   "metadata": {},
   "outputs": [],
   "source": [
    "# add your code here\n",
    "\n"
   ]
  },
  {
   "cell_type": "code",
   "execution_count": 385,
   "metadata": {},
   "outputs": [],
   "source": [
    "# add your code here\n",
    "\n"
   ]
  },
  {
   "cell_type": "code",
   "execution_count": 386,
   "metadata": {},
   "outputs": [],
   "source": [
    "# add your code here\n",
    "\n"
   ]
  },
  {
   "cell_type": "code",
   "execution_count": 387,
   "metadata": {},
   "outputs": [],
   "source": [
    "# add your code here\n",
    "\n"
   ]
  },
  {
   "cell_type": "markdown",
   "metadata": {},
   "source": [
    "---\n",
    "<a id='lists'></a>\n",
    "# D. Lists and Sequences\n"
   ]
  },
  {
   "cell_type": "markdown",
   "metadata": {},
   "source": [
    "# D.1 Let's start with some data\n",
    "\n",
    "We saw a bit about variables and their values in the last lesson, and we continue here with some variables related to [Observation stations from the Finnland Meteorological Institute (FMI)](http://en.ilmatieteenlaitos.fi/observation-stations). For each station, a number of pieces of information are given, including the name of the station, an FMI station ID number (FMISID), its latitude, its longitude, and the station type. We can store this information and some additional information for a given station in Python as follows:"
   ]
  },
  {
   "cell_type": "code",
   "execution_count": 388,
   "metadata": {},
   "outputs": [],
   "source": [
    "stationName = 'Helsinki Kaivopuisto'"
   ]
  },
  {
   "cell_type": "code",
   "execution_count": 389,
   "metadata": {},
   "outputs": [],
   "source": [
    "stationID = 132310"
   ]
  },
  {
   "cell_type": "code",
   "execution_count": 390,
   "metadata": {},
   "outputs": [],
   "source": [
    "stationLat = 60.15"
   ]
  },
  {
   "cell_type": "code",
   "execution_count": 391,
   "metadata": {},
   "outputs": [],
   "source": [
    "stationLong = 24.96"
   ]
  },
  {
   "cell_type": "code",
   "execution_count": 392,
   "metadata": {},
   "outputs": [],
   "source": [
    "stationType = 'Mareographs'"
   ]
  },
  {
   "cell_type": "markdown",
   "metadata": {},
   "source": [
    "Here we have 5 values assigned to variables related to a single observation station. Each variable has a unique name and they can store different types of data: numbers and strings."
   ]
  },
  {
   "cell_type": "markdown",
   "metadata": {},
   "source": [
    "### Reminder: Data types and their compatibility\n",
    "\n",
    "We can explore the different types of data stored in variables using the `type()` function."
   ]
  },
  {
   "cell_type": "code",
   "execution_count": 393,
   "metadata": {},
   "outputs": [
    {
     "data": {
      "text/plain": [
       "str"
      ]
     },
     "execution_count": 393,
     "metadata": {},
     "output_type": "execute_result"
    }
   ],
   "source": [
    "type(stationName)"
   ]
  },
  {
   "cell_type": "code",
   "execution_count": 394,
   "metadata": {},
   "outputs": [
    {
     "data": {
      "text/plain": [
       "int"
      ]
     },
     "execution_count": 394,
     "metadata": {},
     "output_type": "execute_result"
    }
   ],
   "source": [
    "type(stationID)"
   ]
  },
  {
   "cell_type": "code",
   "execution_count": 395,
   "metadata": {},
   "outputs": [
    {
     "data": {
      "text/plain": [
       "float"
      ]
     },
     "execution_count": 395,
     "metadata": {},
     "output_type": "execute_result"
    }
   ],
   "source": [
    "type(stationLat)"
   ]
  },
  {
   "cell_type": "markdown",
   "metadata": {},
   "source": [
    "As expected, we see that the `stationName` is a character string, the `stationID` is an integer, and the `stationLat` is a floating point number."
   ]
  },
  {
   "cell_type": "markdown",
   "metadata": {},
   "source": [
    "<div class=\"alert alert-info\">\n",
    "\n",
    "**Note**\n",
    "\n",
    "We haven't mentioned it explicitly yet, but the variable names in this lesson use another popular variable format called *camelCase*.\n",
    "In camelCase the words in the variable name are not separated by underscores or any other character, but rather the first letter is capitalized for all words in the name other than the first one.\n",
    "\n",
    "</div>"
   ]
  },
  {
   "cell_type": "markdown",
   "metadata": {},
   "source": [
    "<div class=\"alert alert-info\">\n",
    "\n",
    "**Note**\n",
    "\n",
    "Remember, the data types are important because some are not compatible with one another.\n",
    "\n",
    "</div>"
   ]
  },
  {
   "cell_type": "code",
   "execution_count": 396,
   "metadata": {},
   "outputs": [],
   "source": [
    "# stationName + stationID  # uncomment to get Error"
   ]
  },
  {
   "cell_type": "markdown",
   "metadata": {},
   "source": [
    "Here we get a `TypeError` because Python does not know to combine a string of characters (`stationName`) with an integer value (`stationID`)."
   ]
  },
  {
   "cell_type": "markdown",
   "metadata": {},
   "source": [
    "### Converting data from one type to another\n",
    "\n",
    "It is not the case that things like the `stationName` and `stationID` cannot be combined at all, but in order to combine a character string with a number we need to perform a data type conversion to make them compatible. For example, we can could convert the `stationID` integer value into a character string using the `str()` function."
   ]
  },
  {
   "cell_type": "code",
   "execution_count": 397,
   "metadata": {},
   "outputs": [],
   "source": [
    "stationIDStr = str(stationID)"
   ]
  },
  {
   "cell_type": "code",
   "execution_count": 398,
   "metadata": {},
   "outputs": [
    {
     "data": {
      "text/plain": [
       "str"
      ]
     },
     "execution_count": 398,
     "metadata": {},
     "output_type": "execute_result"
    }
   ],
   "source": [
    "type(stationIDStr)"
   ]
  },
  {
   "cell_type": "code",
   "execution_count": 399,
   "metadata": {},
   "outputs": [
    {
     "name": "stdout",
     "output_type": "stream",
     "text": [
      "132310\n"
     ]
    }
   ],
   "source": [
    "print(stationIDStr)"
   ]
  },
  {
   "cell_type": "code",
   "execution_count": 400,
   "metadata": {},
   "outputs": [
    {
     "name": "stdout",
     "output_type": "stream",
     "text": [
      "['1', '3', '2', '3', '1', '0']\n"
     ]
    }
   ],
   "source": [
    "stationIDlist = list(stationIDStr)\n",
    "print(stationIDlist)"
   ]
  },
  {
   "cell_type": "markdown",
   "metadata": {},
   "source": [
    "As you can see, `str()` converts a numerical value into a character string with the same numbers as before."
   ]
  },
  {
   "cell_type": "markdown",
   "metadata": {},
   "source": [
    "<div class=\"alert alert-info\">\n",
    "\n",
    "**Note**\n",
    "\n",
    "Similar to using `str()` to convert numbers to character strings, `int()` can be used to convert strings or floating point numbers to integers and `float()` can be used to convert strings or integers to floating point numbers.\n",
    "\n",
    "</div>"
   ]
  },
  {
   "cell_type": "markdown",
   "metadata": {},
   "source": [
    "### Combining text and numbers\n",
    "\n",
    "Although most mathematical operations operate on numerical values, a common way to combine character strings is using the addition operator `+`."
   ]
  },
  {
   "cell_type": "code",
   "execution_count": 401,
   "metadata": {},
   "outputs": [],
   "source": [
    "stationNameAndID = stationName + \": \" + str(stationID)"
   ]
  },
  {
   "cell_type": "code",
   "execution_count": 402,
   "metadata": {},
   "outputs": [
    {
     "name": "stdout",
     "output_type": "stream",
     "text": [
      "Helsinki Kaivopuisto: 132310\n"
     ]
    }
   ],
   "source": [
    "print(stationNameAndID)"
   ]
  },
  {
   "cell_type": "markdown",
   "metadata": {},
   "source": [
    "Note that here we are converting `stationID` to a character string using the `str()` function within the assignment to the variable `stationNameAndID`. Alternatively, we could have simply added `stationName` and `stationIDStr`."
   ]
  },
  {
   "cell_type": "markdown",
   "metadata": {},
   "source": [
    "# D.2 Lists and Indices\n",
    "\n",
    "Above we have seen a bit of data related to one of several FMI observation stations in the Helsinki area. Rather than having individual variables for each of those stations, we can store many related values in a *collection*. The simplest type of collection in Python is a **list**. And similar to strings, lists are also sequences. However, while strings are not mutable, lists are. Hence, the content of lists is accessible through indicees and can be altered and managed through them. Nowe, let's use lists for storing the FMI station data."
   ]
  },
  {
   "cell_type": "markdown",
   "metadata": {},
   "source": [
    "### Creating a list\n",
    "\n",
    "Let’s first create a list of selected stationName values."
   ]
  },
  {
   "cell_type": "code",
   "execution_count": 403,
   "metadata": {},
   "outputs": [],
   "source": [
    "stationNames = ['Helsinki Harmaja', 'Helsinki Kaisaniemi', 'Helsinki Kaivopuisto', 'Helsinki Kumpula']"
   ]
  },
  {
   "cell_type": "code",
   "execution_count": 404,
   "metadata": {},
   "outputs": [
    {
     "name": "stdout",
     "output_type": "stream",
     "text": [
      "['Helsinki Harmaja', 'Helsinki Kaisaniemi', 'Helsinki Kaivopuisto', 'Helsinki Kumpula']\n"
     ]
    }
   ],
   "source": [
    "print(stationNames)"
   ]
  },
  {
   "cell_type": "code",
   "execution_count": 405,
   "metadata": {},
   "outputs": [
    {
     "data": {
      "text/plain": [
       "list"
      ]
     },
     "execution_count": 405,
     "metadata": {},
     "output_type": "execute_result"
    }
   ],
   "source": [
    "type(stationNames)"
   ]
  },
  {
   "cell_type": "markdown",
   "metadata": {},
   "source": [
    "Here we have a list of 4 `stationName` values in a list called `stationNames`. As you can see, the `type()` function recognizes this as a list. Lists can be created using the square brackets (`[` and `]`), with commas separating the values in the list."
   ]
  },
  {
   "cell_type": "markdown",
   "metadata": {},
   "source": [
    "<div class=\"alert alert-info\">\n",
    "\n",
    "**Note**\n",
    "\n",
    "Similar to using `str()`, `int()` and `float()`, the function `list` can be used to convert strings, integers, floating point numbers or other data types into a list.\n",
    "\n",
    "</div>"
   ]
  },
  {
   "cell_type": "markdown",
   "metadata": {},
   "source": [
    "### Index values\n",
    "\n",
    "To access an individual value in the list we need to use an **index value**. An index value is a number that refers to a given position in the list. Let’s check out the first value in our list as an example:"
   ]
  },
  {
   "cell_type": "code",
   "execution_count": 406,
   "metadata": {},
   "outputs": [
    {
     "name": "stdout",
     "output_type": "stream",
     "text": [
      "Helsinki Kaisaniemi\n"
     ]
    }
   ],
   "source": [
    "print(stationNames[1])"
   ]
  },
  {
   "cell_type": "markdown",
   "metadata": {},
   "source": [
    "Wait, what? This is the second value in the list we’ve created, what is wrong? As it turns out, Python (and many other programming languages) start values stored in collections with the index value 0. Thus, to get the value for the first item in the list, we must use index 0."
   ]
  },
  {
   "cell_type": "code",
   "execution_count": 407,
   "metadata": {},
   "outputs": [
    {
     "name": "stdout",
     "output_type": "stream",
     "text": [
      "Helsinki Harmaja\n"
     ]
    }
   ],
   "source": [
    "print(stationNames[0])"
   ]
  },
  {
   "cell_type": "markdown",
   "metadata": {},
   "source": [
    "OK, that makes sense, but it may take some getting used to..."
   ]
  },
  {
   "cell_type": "markdown",
   "metadata": {},
   "source": [
    "### A useful analog - Bill the vending machine\n",
    "\n",
    "As it turns out, index values are extremely useful, very commonly used in many programming languages, yet often a point of confusion for new programmers. Thus, we need to have a trick for remembering what an index value is and how they are used. For this, we need to be introduced to Bill.\n",
    "\n",
    "<img src=\"./Image_BillTheVendingMachine.png\" alt=\"Illustrating indexing: Bill the vending machine.\" title=\"Bill the vending machine\" width=\"600\" />\n",
    "\n",
    "Figure 1: *Bill, the vending machine.*\n",
    "\n",
    "\n",
    "As you can see, Bill is a vending machine that contains 6 items. Like Python lists, the list of items available from Bill starts at 0 and increases in increments of 1.\n",
    "\n",
    "The way Bill works is that you insert your money, then select the location of the item you wish to receive. In an analogy to Python, we could say Bill is simply a list of food items and the buttons you push to get them are the index values. For example, if you would like to buy a taco from Bill, you would push button `3`. An equivalent operation in Python could simply be\n",
    "\n",
    "```python\n",
    "print(Bill[3])\n",
    "Taco\n",
    "```"
   ]
  },
  {
   "cell_type": "markdown",
   "metadata": {},
   "source": [
    "### Number of items in a list\n",
    "\n",
    "We can find the length of a list using the `len()` function."
   ]
  },
  {
   "cell_type": "code",
   "execution_count": 408,
   "metadata": {},
   "outputs": [
    {
     "data": {
      "text/plain": [
       "4"
      ]
     },
     "execution_count": 408,
     "metadata": {},
     "output_type": "execute_result"
    }
   ],
   "source": [
    "len(stationNames)"
   ]
  },
  {
   "cell_type": "markdown",
   "metadata": {},
   "source": [
    "Just as expected, there are 4 values in our list and `len(stationNames)` returns a value of `4`."
   ]
  },
  {
   "cell_type": "markdown",
   "metadata": {},
   "source": [
    "### Index value tips\n",
    "\n",
    "If we know the length of the list, we can now use it to find the value of the last item in the list, right?"
   ]
  },
  {
   "cell_type": "code",
   "execution_count": 409,
   "metadata": {},
   "outputs": [],
   "source": [
    "# print(stationNames[4]) # uncomment the print statement to test this"
   ]
  },
  {
   "cell_type": "markdown",
   "metadata": {},
   "source": [
    "What, an `IndexError`?!? That’s right, since our list starts with index 0 and has 4 values, the index of the last item in the list is `len(SampleIDs) - 1`. That isn’t ideal, but fortunately there’s a nice trick in Python to find the last item in a list."
   ]
  },
  {
   "cell_type": "code",
   "execution_count": 410,
   "metadata": {},
   "outputs": [
    {
     "name": "stdout",
     "output_type": "stream",
     "text": [
      "['Helsinki Harmaja', 'Helsinki Kaisaniemi', 'Helsinki Kaivopuisto', 'Helsinki Kumpula']\n"
     ]
    }
   ],
   "source": [
    "print(stationNames)"
   ]
  },
  {
   "cell_type": "code",
   "execution_count": 411,
   "metadata": {},
   "outputs": [
    {
     "name": "stdout",
     "output_type": "stream",
     "text": [
      "Helsinki Kumpula\n"
     ]
    }
   ],
   "source": [
    "print(stationNames[-1])"
   ]
  },
  {
   "cell_type": "code",
   "execution_count": 412,
   "metadata": {},
   "outputs": [
    {
     "name": "stdout",
     "output_type": "stream",
     "text": [
      "Helsinki Harmaja\n"
     ]
    }
   ],
   "source": [
    "print(stationNames[-4])"
   ]
  },
  {
   "cell_type": "markdown",
   "metadata": {},
   "source": [
    "Yes, in Python you can go backwards through lists by using negative index values. Index `-1` gives the last value in the list and index `-len(SampleIDs)` would give the first. Of course, you still need to keep the index values within their ranges."
   ]
  },
  {
   "cell_type": "code",
   "execution_count": 413,
   "metadata": {},
   "outputs": [],
   "source": [
    "# print(stationNames[-5])  # uncomment the print statement to test this"
   ]
  },
  {
   "cell_type": "markdown",
   "metadata": {},
   "source": [
    "### Modifying list values\n",
    "\n",
    "Another nice feature of lists is that they are *mutable*, meaning that the values in a list that has been defined can be modified. Consider a list of the observation station types corresponding to the station names in the `stationNames` list."
   ]
  },
  {
   "cell_type": "code",
   "execution_count": 414,
   "metadata": {},
   "outputs": [
    {
     "name": "stdout",
     "output_type": "stream",
     "text": [
      "['Weather stations', 'Weather stations', 'Weather stations', 'Weather stations']\n"
     ]
    }
   ],
   "source": [
    "stationTypes = ['Weather stations', 'Weather stations', 'Weather stations', 'Weather stations']\n",
    "print(stationTypes)"
   ]
  },
  {
   "cell_type": "markdown",
   "metadata": {},
   "source": [
    "Now as we saw before, the station type for Helsinki Kaivopuisto should be ‘Mareographs’, not ‘Weather stations’. Fortunately, this is an easy fix. We simply replace the value at the corresponding location in the list with the correct one."
   ]
  },
  {
   "cell_type": "code",
   "execution_count": 415,
   "metadata": {},
   "outputs": [
    {
     "name": "stdout",
     "output_type": "stream",
     "text": [
      "['Weather stations', 'Weather stations', 'Mareographs', 'Weather stations']\n"
     ]
    }
   ],
   "source": [
    "stationTypes[2] = 'Mareographs'\n",
    "print(stationTypes)"
   ]
  },
  {
   "cell_type": "markdown",
   "metadata": {},
   "source": [
    "### Data types in lists\n",
    "\n",
    "Lists can also store more than one type of data. Let’s consider that in addition to having a list of each station name, FMISID, latitude, etc. we would like to have a list of all of the values for station ‘Helsinki Kaivopuisto’."
   ]
  },
  {
   "cell_type": "code",
   "execution_count": 416,
   "metadata": {},
   "outputs": [
    {
     "name": "stdout",
     "output_type": "stream",
     "text": [
      "['Helsinki Kaivopuisto', 132310, 60.15, 24.96, 'Mareographs']\n"
     ]
    }
   ],
   "source": [
    "stationHelKaivo = [stationName, stationID, stationLat, stationLong, stationType]\n",
    "print(stationHelKaivo)"
   ]
  },
  {
   "cell_type": "markdown",
   "metadata": {},
   "source": [
    "Here we have one list with 3 different types of data in it. We can confirm this using the `type()` function."
   ]
  },
  {
   "cell_type": "code",
   "execution_count": 417,
   "metadata": {},
   "outputs": [
    {
     "data": {
      "text/plain": [
       "list"
      ]
     },
     "execution_count": 417,
     "metadata": {},
     "output_type": "execute_result"
    }
   ],
   "source": [
    "type(stationHelKaivo)"
   ]
  },
  {
   "cell_type": "code",
   "execution_count": 418,
   "metadata": {},
   "outputs": [
    {
     "data": {
      "text/plain": [
       "str"
      ]
     },
     "execution_count": 418,
     "metadata": {},
     "output_type": "execute_result"
    }
   ],
   "source": [
    "type(stationHelKaivo[0])    # The station name"
   ]
  },
  {
   "cell_type": "code",
   "execution_count": 419,
   "metadata": {},
   "outputs": [
    {
     "data": {
      "text/plain": [
       "int"
      ]
     },
     "execution_count": 419,
     "metadata": {},
     "output_type": "execute_result"
    }
   ],
   "source": [
    "type(stationHelKaivo[1])    # The FMISID"
   ]
  },
  {
   "cell_type": "code",
   "execution_count": 420,
   "metadata": {},
   "outputs": [
    {
     "data": {
      "text/plain": [
       "float"
      ]
     },
     "execution_count": 420,
     "metadata": {},
     "output_type": "execute_result"
    }
   ],
   "source": [
    "type(stationHelKaivo[2])    # The station latitude"
   ]
  },
  {
   "cell_type": "markdown",
   "metadata": {},
   "source": [
    "### Adding and removing values from lists\n",
    "\n",
    "Finally, we can add and remove values from lists to change their lengths. Let’s consider that we no longer want to include the first value in the `stationNames` list."
   ]
  },
  {
   "cell_type": "code",
   "execution_count": 421,
   "metadata": {},
   "outputs": [
    {
     "name": "stdout",
     "output_type": "stream",
     "text": [
      "['Helsinki Harmaja', 'Helsinki Kaisaniemi', 'Helsinki Kaivopuisto', 'Helsinki Kumpula']\n"
     ]
    }
   ],
   "source": [
    "print(stationNames)"
   ]
  },
  {
   "cell_type": "code",
   "execution_count": 422,
   "metadata": {},
   "outputs": [],
   "source": [
    "del stationNames[0]"
   ]
  },
  {
   "cell_type": "code",
   "execution_count": 423,
   "metadata": {},
   "outputs": [
    {
     "name": "stdout",
     "output_type": "stream",
     "text": [
      "['Helsinki Kaisaniemi', 'Helsinki Kaivopuisto', 'Helsinki Kumpula']\n"
     ]
    }
   ],
   "source": [
    "print(stationNames)"
   ]
  },
  {
   "cell_type": "markdown",
   "metadata": {},
   "source": [
    "`del` allows values in lists to be removed. It can also be used to delete values from memory in Python. If we would instead like to add a few samples to the stationNames list, we can do so as follows."
   ]
  },
  {
   "cell_type": "code",
   "execution_count": 424,
   "metadata": {},
   "outputs": [],
   "source": [
    "stationNames.append('Helsinki Lighthouse')\n",
    "stationNames.append('Helsinki Malmi airfield')"
   ]
  },
  {
   "cell_type": "code",
   "execution_count": 425,
   "metadata": {},
   "outputs": [
    {
     "name": "stdout",
     "output_type": "stream",
     "text": [
      "['Helsinki Kaisaniemi', 'Helsinki Kaivopuisto', 'Helsinki Kumpula', 'Helsinki Lighthouse', 'Helsinki Malmi airfield']\n"
     ]
    }
   ],
   "source": [
    "print(stationNames)"
   ]
  },
  {
   "cell_type": "markdown",
   "metadata": {},
   "source": [
    "As you can see, we add values one at a time using `stationNames.append()`. `list.append()` is called a method in Python, which is a function that works for a given data type (a list in this case). We’ll see a bit more about these below."
   ]
  },
  {
   "cell_type": "markdown",
   "metadata": {},
   "source": [
    "### The concept of objects\n",
    "\n",
    "Python is one of a number of computer programming languages that are called ‘object-oriented languages’, and we will focus on this topic later in the semester. It may take quite some time to understand what this means, but in simple words, we can consider variables as ‘objects’ that contain both:\n",
    "\n",
    "- data known as **attributes**, and \n",
    "- a specific set of functions known as **methods**. \n",
    "\n",
    "The concept of ‘objects’ might be much easier to understand from the example, below."
   ]
  },
  {
   "cell_type": "markdown",
   "metadata": {},
   "source": [
    "### A (bad) example of methods\n",
    "\n",
    "Let’s consider our list `stationNames`. As we know, we already have data in the list `stationNames`, and we can modify that data using built-in methods such as `stationNames.append()`. In this case, the method `append()` is something that exists for lists, but not for other data types. It is intuitive that you might like to add (or append) things to a list, but perhaps it does not make sense to append to other data types."
   ]
  },
  {
   "cell_type": "code",
   "execution_count": 426,
   "metadata": {},
   "outputs": [],
   "source": [
    "stationNameLength  = len(stationNames)"
   ]
  },
  {
   "cell_type": "code",
   "execution_count": 427,
   "metadata": {},
   "outputs": [
    {
     "name": "stdout",
     "output_type": "stream",
     "text": [
      "5\n"
     ]
    }
   ],
   "source": [
    "print(stationNameLength)"
   ]
  },
  {
   "cell_type": "code",
   "execution_count": 428,
   "metadata": {},
   "outputs": [
    {
     "data": {
      "text/plain": [
       "int"
      ]
     },
     "execution_count": 428,
     "metadata": {},
     "output_type": "execute_result"
    }
   ],
   "source": [
    "type(stationNameLength)"
   ]
  },
  {
   "cell_type": "code",
   "execution_count": 430,
   "metadata": {},
   "outputs": [],
   "source": [
    "# stationNameLength.append(1)  # uncomment to test"
   ]
  },
  {
   "cell_type": "markdown",
   "metadata": {},
   "source": [
    "Here we get an `AttributeError` because there is no method built in to the `int` data type to append to `int` data. While `append()` makes sense for `list` data, it is not sensible for `int` data, which is the reason no such method exists for `int` data."
   ]
  },
  {
   "cell_type": "markdown",
   "metadata": {},
   "source": [
    "### Some other useful list methods\n",
    "\n",
    "With lists we can do a number of useful things, such as count the number of times a value occurs in a list or where it occurs."
   ]
  },
  {
   "cell_type": "code",
   "execution_count": 431,
   "metadata": {},
   "outputs": [
    {
     "data": {
      "text/plain": [
       "1"
      ]
     },
     "execution_count": 431,
     "metadata": {},
     "output_type": "execute_result"
    }
   ],
   "source": [
    "stationNames.count('Helsinki Kumpula')    \n",
    "# The count method counts the number of occurences of a value"
   ]
  },
  {
   "cell_type": "code",
   "execution_count": 432,
   "metadata": {},
   "outputs": [
    {
     "data": {
      "text/plain": [
       "2"
      ]
     },
     "execution_count": 432,
     "metadata": {},
     "output_type": "execute_result"
    }
   ],
   "source": [
    "stationNames.index('Helsinki Kumpula')\n",
    " # The index method gives the index value of an item in a list"
   ]
  },
  {
   "cell_type": "markdown",
   "metadata": {},
   "source": [
    "The good news here is that our selected station name is only in the list once. Should we need to modify it for some reason, we also now know where it is in the list (index `2`)."
   ]
  },
  {
   "cell_type": "markdown",
   "metadata": {},
   "source": [
    "### Reversing a list\n",
    "\n",
    "There are two other common methods for lists that we need to see. First, there is the `.reverse()` method, used to reverse the order of items in a list."
   ]
  },
  {
   "cell_type": "code",
   "execution_count": 433,
   "metadata": {},
   "outputs": [],
   "source": [
    "stationNames.reverse()"
   ]
  },
  {
   "cell_type": "code",
   "execution_count": 434,
   "metadata": {},
   "outputs": [
    {
     "name": "stdout",
     "output_type": "stream",
     "text": [
      "['Helsinki Malmi airfield', 'Helsinki Lighthouse', 'Helsinki Kumpula', 'Helsinki Kaivopuisto', 'Helsinki Kaisaniemi']\n"
     ]
    }
   ],
   "source": [
    "print(stationNames)"
   ]
  },
  {
   "cell_type": "markdown",
   "metadata": {},
   "source": [
    "Yay, it works!"
   ]
  },
  {
   "cell_type": "markdown",
   "metadata": {},
   "source": [
    "<div class=\"alert alert-warning\">\n",
    "\n",
    "**Caution**\n",
    "\n",
    "A common mistake when sorting lists is to do something like `stationNames = stationNames.reverse()`. **Do not do this!** Lists are mutable and the method `.reverse()` is mutating the list. Also, when reversing lists with `.reverse()` the `None` value is returned (this is why there is no screen ouput when running `stationNames.reverse()`). If you then assign the output of `stationNames.reverse()` to `stationNames` you will reverse the list, but then overwrite its contents with the returned value `None`. This means you’ve deleted the list contents (!).\n",
    "\n",
    "</div>"
   ]
  },
  {
   "cell_type": "code",
   "execution_count": null,
   "metadata": {},
   "outputs": [],
   "source": [
    "print(stationNames.reverse())"
   ]
  },
  {
   "cell_type": "markdown",
   "metadata": {},
   "source": [
    "In addition to the info in the warning box above, be aware that copying a list variable to a new variable name first might not save you of this mistake. It won't, because if you copy a list to a new variable name, you do not copy the object, just the reference to the object. See the example below think about the result:"
   ]
  },
  {
   "cell_type": "code",
   "execution_count": null,
   "metadata": {},
   "outputs": [],
   "source": [
    "print(stationNames)"
   ]
  },
  {
   "cell_type": "code",
   "execution_count": null,
   "metadata": {},
   "outputs": [],
   "source": [
    "stationNames_copy = stationNames\n",
    "stationNames_copy.reverse()\n",
    "\n",
    "print(stationNames)\n",
    "print(stationNames_copy)"
   ]
  },
  {
   "cell_type": "markdown",
   "metadata": {},
   "source": [
    "Reversing the copy `stationNames_copy` of the list `stationNames`, reverses the object that both variable names refer to. Hence, both names return a reversed list. To make an actual duplicated copy of a variable, you have to generate a new object, not just a new variable name. This is specifically important for list, which have many methods that mutate the list object. To achieve that, you have to make a so-called explicit copy of the list, which works the following way:\n",
    "\n",
    "`newlist = oldlist[:]`.\n",
    "\n",
    "Now try this with the list `stationNames`, below."
   ]
  },
  {
   "cell_type": "code",
   "execution_count": null,
   "metadata": {},
   "outputs": [],
   "source": [
    "stationNames_copy2 = stationNames[:]\n",
    "stationNames_copy2.reverse()\n",
    "\n",
    "print(stationNames)\n",
    "print(stationNames_copy2)"
   ]
  },
  {
   "cell_type": "markdown",
   "metadata": {},
   "source": [
    "Now both list objects are sorted in reverse."
   ]
  },
  {
   "cell_type": "markdown",
   "metadata": {},
   "source": [
    "### Sorting a list\n",
    "\n",
    "The `.sort()` method works the same way."
   ]
  },
  {
   "cell_type": "code",
   "execution_count": null,
   "metadata": {},
   "outputs": [],
   "source": [
    "stationNames.sort()   # Notice no output here..."
   ]
  },
  {
   "cell_type": "code",
   "execution_count": null,
   "metadata": {},
   "outputs": [],
   "source": [
    "stationNames"
   ]
  },
  {
   "cell_type": "markdown",
   "metadata": {},
   "source": [
    "<div class=\"alert alert-info\">\n",
    "\n",
    "**Note**\n",
    "\n",
    "As you may have noticed, `Helsinki Malmi airfield` comes before `Helsinki lighthouse` in the sorted list. This is because alphabetical sorting in Python places capital letters before lowercase letters.\n",
    "\n",
    "</div>"
   ]
  },
  {
   "cell_type": "markdown",
   "metadata": {},
   "source": [
    "### Summary of important list methods\n",
    "Below a list of important list methods. Take the time to try these methods and practice their functionality.\n",
    "\n",
    "Table 1: *Important List Methods*\n",
    "\n",
    "| Method       | Description |\n",
    "|--------      |-------------|\n",
    "| `.append(x)`    | Add item x at the end of the list\n",
    "| `.remove(x)`    | Remove first item that is equal to x, from the list\n",
    "| `.count(x)`     | Return the number of items that is equal to x\n",
    "| `.index(x)`     | Return index of first item that is equal to x\n",
    "| `.reverse()`    | Reverse the order of items in a list\n",
    "| `.sort()`       | Sort items in a list in ascending order\n",
    "| `.pop([i])`     | Remove and return item at position i (last item if i is not provided)\n",
    "| `.insert(i, x)` | Insert item x at position i\n",
    "| `.zip()`        | Separates and joins lists of lists\n",
    "\n",
    "More examples and methods can be studied in this tutorial on list methods: https://www.digitalocean.com/community/tutorials/how-to-use-list-methods-in-python-3.\n",
    "\n",
    "In addition, you can perform any sequence operations that you have learned with strings, also with lists. A great summary of available list (sequence) operations and methods can be found here:\n",
    "https://www.tutorialspoint.com/python/python_lists.htm."
   ]
  },
  {
   "cell_type": "markdown",
   "metadata": {},
   "source": [
    "### Lists of lists\n",
    "A list can not just contain and mix numbers and strings, they can also contain lists themselves. For example, we could generate a list `databaseFIM`, which contains all the FMI information at once. Let's first complement the station ID numbers for all stations in the list and then build the database:"
   ]
  },
  {
   "cell_type": "code",
   "execution_count": null,
   "metadata": {},
   "outputs": [],
   "source": [
    "stationLats  = [ 60.18, 60.15, 60.20, 60.25, 59.95 ];\n",
    "stationLongs = [ 24.94, 24.96, 24.96, 25.05, 24.93 ];           \n",
    "stationIDs   = [100971, 132310, 101004, 101009, 101003];\n",
    "databaseFIM  = [stationNames, stationIDs, stationTypes, stationLats, stationLongs ];"
   ]
  },
  {
   "cell_type": "markdown",
   "metadata": {},
   "source": [
    "However, simply printing such a nested list won't provide a very illustrative insight, since the lists in the list will just be print after each other:"
   ]
  },
  {
   "cell_type": "code",
   "execution_count": null,
   "metadata": {},
   "outputs": [],
   "source": [
    "print(databaseFIM)"
   ]
  },
  {
   "cell_type": "markdown",
   "metadata": {},
   "source": [
    "For that, list comprehensions are a very useful coding strategy."
   ]
  },
  {
   "cell_type": "markdown",
   "metadata": {
    "tags": []
   },
   "source": [
    "### List comprehensions\n",
    "\n",
    "List comprehensions allow item by item operation of a sequence. In addition, list Comprehension build a new list by running an expression on each item in a sequence, one at a time, from left to right.\n",
    "\n",
    "<img src=\"./Image_ListComprehension.png\" alt=\"Concept of List Comprehensions.\" title=\"List Comprehensions\" width=\"400\" />\n",
    "\n",
    "Figure 2: *Concept of List Comprehensions.*\n",
    "\n",
    "A list, or any other iterable object, provides an input sequence (in the example: `num`). Each items within the sequence is assigned to a variable (in the example: `x`). For that, the in keyword is used in a for loop, to iterate over the sequence. \n",
    "\n",
    "An additional optional predicate (in the example: `x>0`) can be used to set a conditions under which the  variables will proceed to be processed by the output expression (in the example: `x**2`). \n",
    "\n",
    "\n",
    "Begining with a simple version of this concept (without any condition statement), our FIM database can be print row by row:"
   ]
  },
  {
   "cell_type": "code",
   "execution_count": null,
   "metadata": {},
   "outputs": [],
   "source": [
    " [ datarow for datarow in databaseFIM ]"
   ]
  },
  {
   "cell_type": "markdown",
   "metadata": {},
   "source": [
    "To access one element of the nested list, indice references are attached together:"
   ]
  },
  {
   "cell_type": "code",
   "execution_count": null,
   "metadata": {},
   "outputs": [],
   "source": [
    "databaseFIM[1][1]"
   ]
  },
  {
   "cell_type": "code",
   "execution_count": null,
   "metadata": {},
   "outputs": [],
   "source": [
    "# note that we cannot get a colum from the database through indexing & slicing\n",
    "databaseFIM[:][1]\n",
    "# this command gives you the second list in \"list of lists\", \n",
    "# (does not work as we might expect from experience with Matlab matrixes)"
   ]
  },
  {
   "cell_type": "markdown",
   "metadata": {},
   "source": [
    "At this point, it is important to understand that the previous expression does not directly access the second item in the second row. It actually selects the second list in the variable and then the second item in that list.\n",
    "\n",
    "Knowing that, a column of the database (the entry of one selected station) is returned the following way:"
   ]
  },
  {
   "cell_type": "code",
   "execution_count": null,
   "metadata": {},
   "outputs": [],
   "source": [
    "[datarow[1] for datarow in databaseFIM]"
   ]
  },
  {
   "cell_type": "markdown",
   "metadata": {},
   "source": [
    "Now, one might say, the database should have been structured the other way around (colums and rows inverted). And that might be a valid statement, depending on what are the further tasks to solve. **The way lists are nested, should be chosen wisely by the programmer.**\n"
   ]
  },
  {
   "cell_type": "markdown",
   "metadata": {},
   "source": [
    "### Learn and practice: list comprehensions on number ranges"
   ]
  },
  {
   "cell_type": "markdown",
   "metadata": {},
   "source": [
    "Browse the internet for the build-in function `range()`, study its functionality and learn how to use it to create the list from 0 to 10. Put your code below.\n"
   ]
  },
  {
   "cell_type": "code",
   "execution_count": 437,
   "metadata": {},
   "outputs": [],
   "source": [
    "# example for creating a list or numbers with fuction range():\n"
   ]
  },
  {
   "cell_type": "markdown",
   "metadata": {},
   "source": [
    "Now, write a list comprehension that returns only the even numbers from this list (containing numbers 0 to 10). "
   ]
  },
  {
   "cell_type": "code",
   "execution_count": 436,
   "metadata": {
    "tags": []
   },
   "outputs": [],
   "source": [
    "# put your solution here"
   ]
  },
  {
   "cell_type": "markdown",
   "metadata": {},
   "source": [
    "### Test your learning: Printing a nested list like a matrix\n",
    "In the following example nested lists are used to build a 3x3 matrix. Then list comprehension is applied to print the matrix as well as selected items, rows and columns."
   ]
  },
  {
   "cell_type": "code",
   "execution_count": 440,
   "metadata": {},
   "outputs": [
    {
     "data": {
      "text/plain": [
       "[[1, 2, 3], [4, 5, 6], [7, 8, 9]]"
      ]
     },
     "execution_count": 440,
     "metadata": {},
     "output_type": "execute_result"
    }
   ],
   "source": [
    "num = [[1, 2, 3], [4, 5, 6], [7, 8, 9]]\n",
    "num"
   ]
  },
  {
   "cell_type": "markdown",
   "metadata": {},
   "source": [
    "The variable `num` is now a list of lists and it could be treated like a matrix. The sublist `num[0]` is a list (and so are `num[1]` and `num[2]`). To view the entire matrix:"
   ]
  },
  {
   "cell_type": "code",
   "execution_count": 441,
   "metadata": {},
   "outputs": [
    {
     "name": "stdout",
     "output_type": "stream",
     "text": [
      "[1, 2, 3]\n",
      "[4, 5, 6]\n",
      "[7, 8, 9]\n"
     ]
    },
    {
     "data": {
      "text/plain": [
       "[None, None, None]"
      ]
     },
     "execution_count": 441,
     "metadata": {},
     "output_type": "execute_result"
    }
   ],
   "source": [
    "[print(x) for x in num ]"
   ]
  },
  {
   "cell_type": "markdown",
   "metadata": {},
   "source": [
    "Also single matrix elements can be accessed:"
   ]
  },
  {
   "cell_type": "code",
   "execution_count": 442,
   "metadata": {},
   "outputs": [
    {
     "data": {
      "text/plain": [
       "5"
      ]
     },
     "execution_count": 442,
     "metadata": {},
     "output_type": "execute_result"
    }
   ],
   "source": [
    "num[1][1]"
   ]
  },
  {
   "cell_type": "markdown",
   "metadata": {},
   "source": [
    "To retrieve the second row, type:"
   ]
  },
  {
   "cell_type": "code",
   "execution_count": 443,
   "metadata": {},
   "outputs": [
    {
     "data": {
      "text/plain": [
       "[4, 5, 6]"
      ]
     },
     "execution_count": 443,
     "metadata": {},
     "output_type": "execute_result"
    }
   ],
   "source": [
    "[x for x in num[1] ]"
   ]
  },
  {
   "cell_type": "markdown",
   "metadata": {},
   "source": [
    "How can you retrieve the second column? Try to code this in the following cell."
   ]
  },
  {
   "cell_type": "code",
   "execution_count": null,
   "metadata": {},
   "outputs": [],
   "source": [
    "# please fill out according to example above for databaseFIM\n",
    "\n"
   ]
  },
  {
   "cell_type": "markdown",
   "metadata": {},
   "source": [
    "If you like to further reflect list comprehensions, this page provides some useful examples to study them: https://www.digitalocean.com/community/tutorials/understanding-list-comprehensions-in-python-3"
   ]
  },
  {
   "cell_type": "code",
   "execution_count": null,
   "metadata": {},
   "outputs": [],
   "source": []
  },
  {
   "cell_type": "code",
   "execution_count": null,
   "metadata": {},
   "outputs": [],
   "source": []
  }
 ],
 "metadata": {
  "kernelspec": {
   "display_name": "Python 3",
   "language": "python",
   "name": "python3"
  },
  "language_info": {
   "codemirror_mode": {
    "name": "ipython",
    "version": 3
   },
   "file_extension": ".py",
   "mimetype": "text/x-python",
   "name": "python",
   "nbconvert_exporter": "python",
   "pygments_lexer": "ipython3",
   "version": "3.8.8"
  }
 },
 "nbformat": 4,
 "nbformat_minor": 4
}
