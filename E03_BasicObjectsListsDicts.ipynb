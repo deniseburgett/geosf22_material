{
 "cells": [
  {
   "cell_type": "markdown",
   "metadata": {},
   "source": [
    "Geo Data Science with Python,\n",
    "Prof. Susanna Werth, VT Geosciences\n",
    "\n",
    "---\n",
    "### Exercise 3\n",
    "\n",
    "# Basic Object Types, Lists and Dictionaries\n",
    "\n",
    "### Content & Grading\n",
    "\n",
    "You will receive the following points for this exercise:\n",
    "\n",
    "- A. <a href='#basic'> Basic Object Types </a> - 20 Points\n",
    "- B. <a href='#list'> Lists </a> - 30 Points\n",
    "- C. <a href='#dict'> Dictionaries </a> - 30 Points\n",
    "- D. <a href='#opt'> Optional Studies </a> - 20 Extra Credit Points \n",
    "\n",
    "Total: 80 + 20\n",
    "\n",
    "---"
   ]
  },
  {
   "cell_type": "markdown",
   "metadata": {},
   "source": [
    "### Name and Collaborator\n",
    "Add your name and the name of any collaborator in the code cell below."
   ]
  },
  {
   "cell_type": "code",
   "execution_count": 2,
   "metadata": {},
   "outputs": [],
   "source": [
    "Name = ''\n",
    "Collaborators = ['']"
   ]
  },
  {
   "cell_type": "markdown",
   "metadata": {},
   "source": [
    "---"
   ]
  },
  {
   "cell_type": "markdown",
   "metadata": {},
   "source": [
    "<a id='basic'></a>\n",
    "# A. Basic Object Types"
   ]
  },
  {
   "cell_type": "markdown",
   "metadata": {},
   "source": [
    "--- \n",
    "### Task A.1: Built-in Operations\n",
    "\n",
    "Search the folowing websites listing basic expression operators (https://www.tutorialspoint.com/python/python_basic_operators.htm)\n",
    "and built-in functions in Python (https://docs.python.org/3/library/functions.html)\n",
    "\n",
    "Answer the following questions in the markdown cell below:\n",
    "\n",
    "1. Which single-symbol built-in Python **expression** operator returns the floor value of a division of two numbers? \n",
    "2. Which built-in Python **function** returns `True` if any element of the iterable is true? \n"
   ]
  },
  {
   "cell_type": "markdown",
   "metadata": {},
   "source": [
    "\"ENTER YOUR ANSWER HERE\""
   ]
  },
  {
   "cell_type": "markdown",
   "metadata": {},
   "source": [
    "---\n",
    "### Task A.2: Boolean Tests\n",
    "\n",
    "Assign the variable c, d and e with number or string values, so that all Tests 1-4 in the second next code cell return True."
   ]
  },
  {
   "cell_type": "code",
   "execution_count": null,
   "metadata": {},
   "outputs": [],
   "source": [
    "\n",
    "### ENTER YOUR CODE HERE\n"
   ]
  },
  {
   "cell_type": "code",
   "execution_count": null,
   "metadata": {},
   "outputs": [],
   "source": [
    "# TESTS:\n",
    "Test1 = bool(d)\n",
    "Test2 = c > e and (type(e) == int)\n",
    "Test3 = (c or e) == 1\n",
    "Test4 = (not e) and d == 'hi'\n",
    "\n",
    "print(Test1, Test2, Test3, Test4)"
   ]
  },
  {
   "cell_type": "code",
   "execution_count": null,
   "metadata": {},
   "outputs": [],
   "source": [
    "# ASSERT TESTS: these tests tell you if your  \n",
    "#               results are fulfilling the task.\n",
    "# (assert will return an AssertionError,\n",
    "#  if assert expression response is False, \n",
    "#  otherwise remain silent)\n",
    "assert Test1 == True\n",
    "assert Test2 == True\n",
    "assert Test3 == True\n",
    "assert Test4 == True\n",
    "assert type(c) == int or float or str\n",
    "assert type(d) == int or float or str\n",
    "assert type(e) == int or float or str"
   ]
  },
  {
   "cell_type": "markdown",
   "metadata": {},
   "source": [
    "---\n",
    "### Task A.3 Sequences\n",
    "\n",
    "Assign a sentence to a string variable `strSentence`. Then write code, that changes the string to a list `listSentence`, which contains every word of the sentence, but has added `%` in front and at the end of every single word.\n",
    "\n",
    "**Example:**\n",
    "\n",
    "The string \n",
    "\n",
    "`\"Fall is Awesome in Blacksburg\"` \n",
    "\n",
    "would become a new list:\n",
    "\n",
    "`['%Fall%','%is%', '%awesome%', '%in%', '%Blacksburg%']`\n",
    "\n",
    "Investigate the string method `split()` to find out how this might be useful."
   ]
  },
  {
   "cell_type": "code",
   "execution_count": null,
   "metadata": {},
   "outputs": [],
   "source": [
    "\n",
    "### ADD YOUR CODE HERE\n"
   ]
  },
  {
   "cell_type": "markdown",
   "metadata": {},
   "source": [
    "---\n",
    "### Task A.4 Mutability\n",
    "\n",
    "What does it mean if an object is mutable? What about immutable? Name at least two mutable and two immutable objects in Python. "
   ]
  },
  {
   "cell_type": "markdown",
   "metadata": {},
   "source": [
    "\"ENTER YOUR ANSWER HERE\""
   ]
  },
  {
   "cell_type": "markdown",
   "metadata": {
    "tags": []
   },
   "source": [
    "---\n",
    "<a id='list'></a>\n",
    "# B. Write your Own List Comprehensions\n",
    "\n",
    "This tasks includes writing several list comprehensions and other operations:\n",
    "\n",
    "1. Write a list comprehension that selects numbers from 1 and 100 that are divisible by 7 and assigns the result to a list `sevenList`. Use the built-in function `range()`. Search the function in the internet, if you do not know how to use it (simply search for *range Python* in the internet).\n",
    "\n",
    "\n",
    "2. Assign a list `lackList = [‘cackle’, ‘mack’, ‘kraggle’]` and write a list comprehension that returns the index of the letter k from the list. Assign the result to a variable `foundK`. Apply the function `find()`.\n",
    "\n",
    "\n",
    "3. Append a fourth string to the list `lackList` using the method `append()`. Then use list comprehensions to return the first letter of each word to a new list `firstLetList`.\n",
    "\n",
    "\n",
    "4. Write a list comprehension, that generates a list of numbers between 1 and 1000 in steps of 100 and then returns the square of each value. (Hint: `range()`).\n",
    "\n",
    "\n",
    "5. Develop code that transfers a list `L` containing integer numbers into a second list L2 containing the only the even numbers from L. (Hint: Modulus Operator)\n",
    "\n",
    "\n",
    "Enter the code for these task items in the five cells below. Use exactly the requested variable names, if you want to test your results with the ASSERT tests below."
   ]
  },
  {
   "cell_type": "code",
   "execution_count": null,
   "metadata": {},
   "outputs": [],
   "source": [
    "\n",
    "### YOUR CODE & COMMENTS HERE - 1.\n"
   ]
  },
  {
   "cell_type": "code",
   "execution_count": null,
   "metadata": {},
   "outputs": [],
   "source": [
    "\n",
    "### YOUR CODE & COMMENTS HERE - 2.\n"
   ]
  },
  {
   "cell_type": "code",
   "execution_count": null,
   "metadata": {},
   "outputs": [],
   "source": [
    "\n",
    "### YOUR CODE & COMMENTS HERE - 3.\n"
   ]
  },
  {
   "cell_type": "code",
   "execution_count": null,
   "metadata": {},
   "outputs": [],
   "source": [
    "\n",
    "### YOUR CODE & COMMENTS HERE - 4.\n"
   ]
  },
  {
   "cell_type": "code",
   "execution_count": null,
   "metadata": {},
   "outputs": [],
   "source": [
    "\n",
    "### YOUR CODE & COMMENTS HERE - 5.\n"
   ]
  },
  {
   "cell_type": "code",
   "execution_count": null,
   "metadata": {},
   "outputs": [],
   "source": [
    "# ASSERT tests of your results for 1-3\n",
    "assert type(sevenList)     == list\n",
    "assert len(sevenList)      == 14\n",
    "assert type(lackList)      == list\n",
    "assert lackList[0] == 'cackle'\n",
    "assert lackList[1] == 'mack'  \n",
    "assert lackList[2] == 'kraggle'\n",
    "assert len(lackList)       == 4\n",
    "assert type(lackList[3])  == str\n",
    "assert bool(firstLetList[3]) == True"
   ]
  },
  {
   "cell_type": "markdown",
   "metadata": {},
   "source": [
    "---\n",
    "<a id='dict'></a>\n",
    "# C. Dictionaries\n",
    "\n",
    "### Task C.1: Working with Dictionaries\n",
    "\n",
    "Create a dictionary object, `dict_DaysInMonth`, that maps a month's name (the dictionary key) to the respective number of days in that month (the value) for January, February, ..., December, assuming it’s not a leap-year. "
   ]
  },
  {
   "cell_type": "code",
   "execution_count": null,
   "metadata": {},
   "outputs": [],
   "source": [
    "\n",
    "# YOUR CODE HERE\n"
   ]
  },
  {
   "cell_type": "markdown",
   "metadata": {},
   "source": [
    "How can you list only the values from `dict_DaysInMonth`? Assign the values of the dictionary to a variable `DaysInMonth`."
   ]
  },
  {
   "cell_type": "code",
   "execution_count": null,
   "metadata": {},
   "outputs": [],
   "source": [
    "\n",
    "# YOUR CODE HERE\n"
   ]
  },
  {
   "cell_type": "code",
   "execution_count": null,
   "metadata": {},
   "outputs": [],
   "source": [
    "# ASSERT tests - Check the result of your code\n",
    "\n",
    "len(dict_DaysInMonth) == 12\n",
    "\n",
    "# note the dictionary comprehensions in the following tests\n",
    "len([d for d in list(DaysInMonth) if d == 31]) == 7\n",
    "len([d for d in list(DaysInMonth) if d == 30]) == 4\n",
    "\n",
    "assert type(dict_DaysInMonth) == dict\n",
    "assert type(DaysInMonth)      == type({'z':1}.values())"
   ]
  },
  {
   "cell_type": "markdown",
   "metadata": {},
   "source": [
    "---\n",
    "### Task C.2: Store Data in Dictionaries \n",
    "\n",
    "\n",
    "For this task, you should write the data base of the Finnland Meteorological Institue into a dictionary, that contains table header and content in one data structure.\n",
    "\n",
    "| StatName | ID | Lat | Long |\n",
    "|:-:|:-:|:-:|:-:|\n",
    "| Helsinki Kaisaniemi     | 100971 | 60.18 | 24.94 |\n",
    "| Helsinki Kaivopuisto    | 132310 | 60.15 | 24.96 |\n",
    "| Helsinki Kumpula        | 101004 | 60.20 | 24.96 |\n",
    "| Helsinki Malmi airfield | 101009 | 60.25 | 25.05 |\n",
    "| Helsinki lighthouse     | 101003 | 59.95 | 24.93 |\n",
    "\n",
    "The dictionary should be named `FIMdata` and it should be **a dictionary of 5 dictionaries**, with each of these 5 dictionaries containing a row of the data table above. Use the station ID's as key of the outer dictionary (instead of the names). Then use the remaining header lines as keys of the inner dictionaries and the remaing columns as values of the inner dictionaries. Make sure to use the same key names as in the table header given above. Use appropriate object types for the content numbers and strings."
   ]
  },
  {
   "cell_type": "code",
   "execution_count": null,
   "metadata": {},
   "outputs": [],
   "source": [
    "\n",
    "### YOUR CODE HERE\n"
   ]
  },
  {
   "cell_type": "code",
   "execution_count": null,
   "metadata": {},
   "outputs": [],
   "source": [
    "# Check the content of your dataset.\n",
    "\n",
    "assert type(FIMdata) == dict\n",
    "assert FIMdata[100971]['StatName'] == 'Helsinki Kaisaniemi'\n",
    "assert FIMdata[101009]['Lat'] == 60.25\n",
    "assert [e for e in FIMdata] == [100971, 132310, 101004, 101009, 101003]\n",
    "assert len(FIMdata) == 5\n",
    "assert len(FIMdata[100971]) == 3"
   ]
  },
  {
   "cell_type": "markdown",
   "metadata": {},
   "source": [
    "--- \n",
    "### Task C.3\n",
    "\n",
    "Now do the following using methods and operators available for dicitonaries\n",
    "\n",
    "1. Delete only the station with the ID `132310` from the dictionary (for the station `'Helsinki Kaivopuisto')`. Study and use the operator `del` (see reading book L05_reading_Dictionaries.ipynb).\n",
    "\n",
    "2. Delete another entry (but not the last one) with the method `.pop()`. Do an internet search to learn the method.\n",
    "\n",
    "3. Update the name of the station `Helsinki lighthouse` to a shorter name: `lighthouse`. Study and use the method `update()` for this task.\n",
    "\n",
    "4. Write a list comprehension that extracts only station ID’s and names from your data set. Store the results in the variables FIMIDs and FIMStatNames.\n",
    "\n",
    "5. Write a list comprehension that extracts all the data for a `lighthouse` station from the dictionary. Store the results in the variable FIMlighthouse.\n"
   ]
  },
  {
   "cell_type": "code",
   "execution_count": null,
   "metadata": {},
   "outputs": [],
   "source": [
    "\n",
    "### YOUR CODE HERE - 1.\n"
   ]
  },
  {
   "cell_type": "code",
   "execution_count": null,
   "metadata": {},
   "outputs": [],
   "source": [
    "\n",
    "### YOUR CODE HERE - 2.\n"
   ]
  },
  {
   "cell_type": "code",
   "execution_count": null,
   "metadata": {},
   "outputs": [],
   "source": [
    "\n",
    "### YOUR CODE HERE - 3.\n"
   ]
  },
  {
   "cell_type": "code",
   "execution_count": null,
   "metadata": {},
   "outputs": [],
   "source": [
    "\n",
    "### YOUR CODE HERE - 4.\n"
   ]
  },
  {
   "cell_type": "code",
   "execution_count": null,
   "metadata": {},
   "outputs": [],
   "source": [
    "\n",
    "### YOUR CODE HERE - 5.\n"
   ]
  },
  {
   "cell_type": "markdown",
   "metadata": {},
   "source": [
    "---\n",
    "If you are satisfied with your notebook, save it and push it to your homework repository. Or collect some extra credits beforehand!"
   ]
  },
  {
   "cell_type": "markdown",
   "metadata": {},
   "source": [
    "---\n",
    "<a id='opt'></a>\n",
    "# D. Optional: Deepen Understanding of List Comprehensions\n",
    "\n",
    "For this task, you have given a list of people data in the following cell. Execute the data cell. Then study the code in the cell further below. It contains a lot of code examples, how to handle lists. Learn, how to interact with the data structure. Try and experiment with the example code in the empty code cells below.\n",
    "\n",
    "Especially focus on how various list comprehension queries can be merged to retrieve a specific entry, whithout actually looking at the data. For example: What is the name of the oldest person? The code examples provide you a step by step derivation of a comples list comprehension to receive the answer to that."
   ]
  },
  {
   "cell_type": "code",
   "execution_count": null,
   "metadata": {},
   "outputs": [],
   "source": [
    "# Data Set: People\n",
    "\n",
    "# Creating a list that defines a person: Name, age, points\n",
    "person = [\"Tom Howard\", 54, 6.0]\n",
    "\n",
    "# Creating a list of lists to define a team:\n",
    "people = [\n",
    "    [\"Tom Howard\",          54,  6.0],\n",
    "    [\"Jane Grimm\",          19,  5.9],\n",
    "    [\"Sam Brown\",           25,  6.2],\n",
    "    [\"Sarah Joan Spade\",    26, 5.25],\n",
    "    [\"Blaine Jones\",        62,  5.8],\n",
    "    [\"Devin Callahan\",      32, 5.92],\n",
    "]"
   ]
  },
  {
   "cell_type": "code",
   "execution_count": null,
   "metadata": {},
   "outputs": [],
   "source": [
    "# Retrieving all people's ages\n",
    "[p[1] for p in people] "
   ]
  },
  {
   "cell_type": "code",
   "execution_count": null,
   "metadata": {},
   "outputs": [],
   "source": [
    "\"\"\"Study the following code examples: How to interact with lists.\"\"\"\n",
    "\n",
    "#Indexing: accessing certain list entries\n",
    "people[0]   # first entry\n",
    "people[-2]  # second last entry\n",
    "\n",
    "# Slicing\n",
    "people[0:2]  # first two people\n",
    "\n",
    "# How many people on the team\n",
    "len(people)\n",
    "\n",
    "# print out all list elements\n",
    "for p in people: print(p)\n",
    "    \n",
    "# Access all names\n",
    "[p[0] for p in people]\n",
    "\n",
    "# Gives all last names \n",
    "[p[0].split()[-1] for p in people]\n",
    "# (find help for function split listed under:\n",
    "#  Online help > string (type in search bar) > function split \n",
    "\n",
    "# Gives all ages\n",
    "[p[1] for p in people]\n",
    "\n",
    "# Gives average age\n",
    "sum([p[1] for p in people])/float(len(people))\n",
    "\n",
    "# Gives total height\n",
    "sum(p[2] for p in people)\n",
    "\n",
    "\n",
    "# What is the name of the oldest person?\n",
    "# First, find the max age\n",
    "ages =[p[1] for p in people] \n",
    "max(ages)\n",
    "# Now, which item is max? - 62\n",
    "ages.index(62)\n",
    "# Who is that - person 4\n",
    "people[4][0]\n",
    "# Combine all steps before to find the oldest person\n",
    "people[[p[1] for p in people].index(max([p[1] for p in people]))][0]\n",
    "\n",
    "\n",
    "# delete list elements\n",
    "del people[5]\n",
    "\n",
    "# add list elements\n",
    "people.append([\"Your Name\",      23, 5.92])\n",
    "\n",
    "# Find out what the method pop does!\n",
    "people.pop()\n",
    "people.pop(2)\n",
    "\n",
    "# Find out what methods sort and reverse do exactly\n",
    "# go to 'Online help' > search for list > find methods\n",
    "people.sort()\n",
    "people.reverse()\n"
   ]
  },
  {
   "cell_type": "markdown",
   "metadata": {},
   "source": [
    "Try the examples by copying & pasting them into the code cells below. Study their output. You may also add more code cells, if you like. This practise will help with the expertise in the following tasks."
   ]
  },
  {
   "cell_type": "code",
   "execution_count": null,
   "metadata": {},
   "outputs": [],
   "source": [
    "### Try the examples in this code cell. (This will not be graded.)\n",
    "\n"
   ]
  },
  {
   "cell_type": "code",
   "execution_count": null,
   "metadata": {},
   "outputs": [],
   "source": [
    "### Try the examples in this code cell. (This will not be graded.)\n",
    "\n"
   ]
  },
  {
   "cell_type": "code",
   "execution_count": null,
   "metadata": {},
   "outputs": [],
   "source": [
    "### Try the examples in this code cell. (This will not be graded.)\n",
    "\n"
   ]
  },
  {
   "cell_type": "markdown",
   "metadata": {},
   "source": [
    "### Task D.1\n",
    "\n",
    "After studying the examples for list comprehensions as well as string methods, answer the following: which of the operations or functions above are mutating the list? Copy & paste all examples you can find into the markdown cell below."
   ]
  },
  {
   "cell_type": "markdown",
   "metadata": {},
   "source": [
    "ENTER YOUR ANSWER HERE"
   ]
  },
  {
   "cell_type": "markdown",
   "metadata": {},
   "source": [
    "### Task D.2\n",
    "\n",
    "Write a 1-line long list comprehension that returns the name of the person with the lowest points and assigns it to the variable `NameLowestPoints`. You have to retrieve the result by executing a **code chain of list comprehensions and functions** on the list people, not through simple assignment (similar to the example above for the oldest person). \n",
    "\n",
    "The code should work on any other list with the same data structure. For that a second example is provided below."
   ]
  },
  {
   "cell_type": "code",
   "execution_count": null,
   "metadata": {},
   "outputs": [],
   "source": [
    "# Example 1\n",
    "people = [\n",
    "    [\"Tom Howard\",          54,  6.0],\n",
    "    [\"Jane Grimm\",          19,  5.9],\n",
    "    [\"Sam Brown\",           25,  6.2],\n",
    "    [\"Sarah Joan Spade\",    26, 5.25],\n",
    "    [\"Blaine Jones\",        62,  5.8],\n",
    "    [\"Devin Callahan\",      32, 5.92],\n",
    "]\n",
    "\n",
    "# Example 2\n",
    "famousGeographers = [\n",
    "    [\"Eratosthenes\",            -276,  80],\n",
    "    [\"Al Idrisi\",               1100,  65],\n",
    "    [\"Alexander von Humboldt\",  1769,  68],\n",
    "    [\"Immanuel Kant\",           1724,  80],\n",
    "    [\"Carl Ritter\",             1779,  80],\n",
    "    [\"Arnaldo Faustini\",        1872,  72],\n",
    "]"
   ]
  },
  {
   "cell_type": "code",
   "execution_count": null,
   "metadata": {},
   "outputs": [],
   "source": []
  }
 ],
 "metadata": {
  "kernelspec": {
   "display_name": "Python 3",
   "language": "python",
   "name": "python3"
  },
  "language_info": {
   "codemirror_mode": {
    "name": "ipython",
    "version": 3
   },
   "file_extension": ".py",
   "mimetype": "text/x-python",
   "name": "python",
   "nbconvert_exporter": "python",
   "pygments_lexer": "ipython3",
   "version": "3.8.5"
  }
 },
 "nbformat": 4,
 "nbformat_minor": 5
}
