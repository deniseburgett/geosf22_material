{
 "cells": [
  {
   "cell_type": "markdown",
   "metadata": {},
   "source": [
    "Geo Data Science with Python,\n",
    "Prof. Susanna Werth, VT Geosciences\n",
    "\n",
    "---\n",
    "### Reading - Lecture 8\n",
    "\n",
    "# Functions, Scopes & Exceptions\n",
    "\n",
    "This lesson discusses the syntax of Python **Functions** and introduces the concept of **Scopes** and **Exceptions** in Python.\n",
    "\n",
    "### Content\n",
    "\n",
    "- A. <a href='#fct'> Functions </a>\n",
    "- B. <a href='#scope'> Scopes and Namespaces</a>\n",
    "- C. <a href='#except'> Exception Handling </a>\n",
    "\n",
    "### Sources\n",
    "\n",
    "The part on functions is inspired by Lessons 4 of the [Geo-Python 2018](https://geo-python.github.io/site/2018/lessons/L4/overview.html), which is licensed under a Creative Commons Attribution-ShareAlike 4.0 International licence. Content on Scopes and Exception Handling were inspired by Lutz (2013).\n",
    "\n",
    "---\n"
   ]
  },
  {
   "cell_type": "markdown",
   "metadata": {},
   "source": [
    "<a id='fct'></a>\n",
    "\n",
    "# A. Functions\n",
    "\n",
    "## A.1 What is a function?\n",
    "\n",
    "A function is a block of organized, reusable code that can make your scripts more effective, easier to read, and simple to manage.\n",
    "You can think functions as little self-contained programs that can perform a specific task which you can use repeatedly in your code. **Functions are housing smaller algorithms, which are used repeatedly in a program.** One of the basic principles in good programming is \"do not to repeat yourself\".\n",
    "In other words, you should avoid having duplicate lines of code in your scripts.\n",
    "Functions are a good way to avoid such situations and they can save you a lot of time and effort as you don't need to tell the computer repeatedly what to do every time it does a common task, such as converting temperatures from Fahrenheit to Celsius.\n",
    "During the course we have already used some functions such as the `print()` command which is actually a built-in function in Python. \n",
    "\n",
    "Also, in the coding assignments, you have already complemented functions. We had these prepared, so you and we can repeatedly test your code for different input. Now, we will discuss how you can code and use any kind of functions all by yourself."
   ]
  },
  {
   "cell_type": "markdown",
   "metadata": {},
   "source": [
    "### Anatomy of a function\n",
    "\n",
    "Let's consider the task from an earlier lesson when we converted temperatures from Fahrenheit to Celsius. Just this time let's code it the other way around: from Celsius to Fahrenheit.\n",
    "Such an operation is a fairly common task when dealing with temperature data.\n",
    "Thus we might need to repeat such calculations quite frequently when analysing or comparing weather or climate data between the US and Europe, for example.\n",
    "\n",
    "#### Our first function (aww...)\n",
    "\n",
    "Let's define our first function called `celsiusToFahr`."
   ]
  },
  {
   "cell_type": "code",
   "execution_count": null,
   "metadata": {},
   "outputs": [],
   "source": [
    "def celsiusToFahr(tempCelsius):\n",
    "    return 9/5 * tempCelsius + 32"
   ]
  },
  {
   "cell_type": "markdown",
   "metadata": {},
   "source": [
    "![Anatomy of a function.](./Image_Function_anatomy.png)\n",
    "\n",
    "The function definition opens with the keyword **`def`** followed by the name of the function and a list of parameter names in parentheses.\n",
    "The body of the function — the statements that are executed when it runs — is indented below the definition line. In the example above, the body consist only of one line, but it can be many more.\n",
    "\n",
    "The function excepts values from outside, which are assigned to the corresponding **parameter variables** so that we can use them inside the function (e.g., the variable `tempCelsius` in this function example).\n",
    "Inside the function, we use a **`return`** statement to define the value that should be given back when the function is used, or called)."
   ]
  },
  {
   "cell_type": "markdown",
   "metadata": {},
   "source": [
    "### Calling functions\n",
    "\n",
    "#### Using our new function\n",
    "\n",
    "Now let's try using our function.\n",
    "Calling our self-defined function is no different from calling any other function such as `print()`.\n",
    "You need to call it with its name and send your value to the required parameter(s) inside the parentheses."
   ]
  },
  {
   "cell_type": "code",
   "execution_count": null,
   "metadata": {},
   "outputs": [],
   "source": [
    "freezingPoint =  celsiusToFahr(0)"
   ]
  },
  {
   "cell_type": "code",
   "execution_count": null,
   "metadata": {},
   "outputs": [],
   "source": [
    "print('The freezing point of water in Fahrenheit is:', freezingPoint)"
   ]
  },
  {
   "cell_type": "code",
   "execution_count": null,
   "metadata": {},
   "outputs": [],
   "source": [
    "print('The boiling point of water in Fahrenheit is:', celsiusToFahr(100))"
   ]
  },
  {
   "cell_type": "markdown",
   "metadata": {},
   "source": [
    "As you can see, the function `celsiusToFahr()` allows you to calculate the Fahrenheit value for any given temperature in Celsius. You just have to pass the Celsius value as parameter to the function, then it returns the Fahrenheit value. In the example above, the function is processed for a value of 0 degree Celcius and the return value of the function is assigned to a new variable `freezingPoint`, using just one line of code. \n",
    "\n",
    "This comes in very handy, especially if more complexe functions are used repeatedly in a program. Instead of copying the same code over and over into the program, you just have to add this one line, whenever it is needed. And if your function has a bug, you have to correct the bug in only one version of the coded algorithm, the one defined in the function."
   ]
  },
  {
   "cell_type": "markdown",
   "metadata": {},
   "source": [
    "#### Let's make another function\n",
    "\n",
    "Now that we know how to create a function to convert Celsius to Fahrenheit, let’s create another function called `kelvinsToCelsius`."
   ]
  },
  {
   "cell_type": "code",
   "execution_count": null,
   "metadata": {},
   "outputs": [],
   "source": [
    "def kelvinsToCelsius(tempKelvins):\n",
    "    return tempKelvins - 273.15"
   ]
  },
  {
   "cell_type": "markdown",
   "metadata": {},
   "source": [
    "#### Using our second function\n",
    "\n",
    "Let's use it in the same way as the earlier one."
   ]
  },
  {
   "cell_type": "code",
   "execution_count": null,
   "metadata": {},
   "outputs": [],
   "source": [
    "absoluteZero = kelvinsToCelsius(tempKelvins=0)"
   ]
  },
  {
   "cell_type": "code",
   "execution_count": null,
   "metadata": {},
   "outputs": [],
   "source": [
    "print('Absolute zero in Celsius is:', absoluteZero)"
   ]
  },
  {
   "cell_type": "markdown",
   "metadata": {},
   "source": [
    "### Anonymous functions\n",
    "> next slide"
   ]
  },
  {
   "cell_type": "code",
   "execution_count": null,
   "metadata": {},
   "outputs": [],
   "source": [
    "x = lambda a,b: a*b"
   ]
  },
  {
   "cell_type": "code",
   "execution_count": null,
   "metadata": {},
   "outputs": [],
   "source": [
    "print(x(3,4))"
   ]
  },
  {
   "cell_type": "markdown",
   "metadata": {},
   "source": [
    "### *polymorphism* of functions & type compatibility\n",
    "\n",
    "Arguments, return values and variables are not directly declared in functions. And the function arguments are initially type less, which can make a single function applicable to variety of object types (**polymorphism**). See the following example, how we can multiply numbers & repeat sequences with the same function:"
   ]
  },
  {
   "cell_type": "code",
   "execution_count": null,
   "metadata": {},
   "outputs": [],
   "source": [
    "def multipl(a,b):\n",
    "    return a*b"
   ]
  },
  {
   "cell_type": "code",
   "execution_count": null,
   "metadata": {},
   "outputs": [],
   "source": [
    "multipl(2,4)"
   ]
  },
  {
   "cell_type": "code",
   "execution_count": null,
   "metadata": {},
   "outputs": [],
   "source": [
    "multipl('n',4)  #or try: times([1,2,3],2)"
   ]
  },
  {
   "cell_type": "markdown",
   "metadata": {},
   "source": [
    "However, now let's see what happens if we change the function definition from multiplication to summation:"
   ]
  },
  {
   "cell_type": "code",
   "execution_count": null,
   "metadata": {},
   "outputs": [],
   "source": [
    "def multipl(a,b):\n",
    "    return a+b"
   ]
  },
  {
   "cell_type": "markdown",
   "metadata": {},
   "source": [
    "If you test this function below, by uncommenting the line and executing it, you will receive a TypeError. That means, while functions can be polymorph, we still have to consider the type compatibility of expressions inside them."
   ]
  },
  {
   "cell_type": "code",
   "execution_count": null,
   "metadata": {},
   "outputs": [],
   "source": [
    "# multipl('n',4)  "
   ]
  },
  {
   "cell_type": "markdown",
   "metadata": {},
   "source": [
    "### \"Check your Understanding\"\n",
    "\n",
    "Let's see how things are going so far with functions. The Python cell below, please:\n",
    "\n",
    "- Create a new function called `hello` that:\n",
    "    - receives 2 parameter: `name` of a person and their `age`\n",
    "    - returns a string greeting the person and informs about the age in 10 years.\n",
    "- Call the function with appropriate input variables\n",
    "- Assign function output to a variable called `output`.\n",
    "- Printing `output` to screen\n",
    "\n",
    "You should produce something like the following:\n",
    "\n",
    "```python\n",
    "print(output)\n",
    "'Hello Dave! In 10 years you will be 38.'\n",
    "```\n",
    "\n",
    "You can find the solution to this task at the end of this notebook. But try it first on your own before peaking. That will give you the best learning outcome for yourself."
   ]
  },
  {
   "cell_type": "code",
   "execution_count": null,
   "metadata": {},
   "outputs": [],
   "source": [
    "# Add your function here!\n",
    "\n",
    "\n",
    "\n",
    "\n",
    "\n",
    "\n"
   ]
  },
  {
   "cell_type": "markdown",
   "metadata": {},
   "source": [
    "### Functions within a function (Yo dawg...)\n",
    "\n",
    "Above we had defined two different function converting temperature units:"
   ]
  },
  {
   "cell_type": "code",
   "execution_count": null,
   "metadata": {},
   "outputs": [],
   "source": [
    "def celsiusToFahr(tempCelsius):\n",
    "    return 9/5 * tempCelsius + 32\n",
    "\n",
    "def kelvinsToCelsius(tempKelvins):\n",
    "    return tempKelvins - 273.15"
   ]
  },
  {
   "cell_type": "markdown",
   "metadata": {},
   "source": [
    "Now, what if we want to convert Kelvins to Fahrenheit?\n",
    "We could write out a new formula for it, but we don’t need to.\n",
    "Instead, we can do the conversion using the two functions we have already created and call those from a new function:"
   ]
  },
  {
   "cell_type": "code",
   "execution_count": null,
   "metadata": {},
   "outputs": [],
   "source": [
    "def kelvinsToFahrenheit(tempKelvins):\n",
    "    tempCelsius = kelvinsToCelsius(tempKelvins)\n",
    "    tempFahr = celsiusToFahr(tempCelsius)\n",
    "    return tempFahr"
   ]
  },
  {
   "cell_type": "markdown",
   "metadata": {},
   "source": [
    "Now let's use the new function:"
   ]
  },
  {
   "cell_type": "code",
   "execution_count": null,
   "metadata": {},
   "outputs": [],
   "source": [
    "absoluteZeroInF = kelvinsToFahrenheit(tempKelvins=0)"
   ]
  },
  {
   "cell_type": "code",
   "execution_count": null,
   "metadata": {},
   "outputs": [],
   "source": [
    "print('Absolute zero in Fahrenheit is:', absoluteZeroInF)"
   ]
  },
  {
   "cell_type": "markdown",
   "metadata": {},
   "source": [
    "### Functions with default values\n",
    "\n",
    "A function can also be defined with a default value for a parameter. This might be useful if some parameter are given standard values that should only be changed in some occations, e.g. during code testing, etc.\n",
    "An default value has to be coded inside the `def` statement. Let's define an alternative version of the function `kelvinsToCelsius`, which prints a feedback string, when it is called. The caller may or may not change this feedback string, depending if he passes an parameter (argument) for that."
   ]
  },
  {
   "cell_type": "code",
   "execution_count": null,
   "metadata": {},
   "outputs": [],
   "source": [
    "def kelvinsToCelsius_alt(tempKelvins,feedback='Calculating Kelvins to Celsius'):\n",
    "    print(feedback)\n",
    "    return tempKelvins - 273.15"
   ]
  },
  {
   "cell_type": "code",
   "execution_count": null,
   "metadata": {},
   "outputs": [],
   "source": [
    "kelvinsToCelsius_alt(0)"
   ]
  },
  {
   "cell_type": "markdown",
   "metadata": {},
   "source": [
    "We can also change the default value, if we pass a parameter for it instead, like this:"
   ]
  },
  {
   "cell_type": "code",
   "execution_count": null,
   "metadata": {},
   "outputs": [],
   "source": [
    "kelvinsToCelsius_alt(0,'I like to print something else!')"
   ]
  },
  {
   "cell_type": "markdown",
   "metadata": {},
   "source": [
    "### Function Docstring\n",
    "\n",
    "In Python, it is good coding practice to always add a description to your function in a so called 'docstring'. It is added in single or triple (for multiple line strings) quotation marks right below the **def** statement:"
   ]
  },
  {
   "cell_type": "code",
   "execution_count": 1,
   "metadata": {},
   "outputs": [],
   "source": [
    "def kelvinsToCelsius_alt(tempKelvins,feedback='Calculating Kelvins to Celsius'):\n",
    "    '''This function converts temperature values in units of Kelvin to units of Celsius\n",
    "          Arguments: tempKelvins: float, feedback='Calculating Kelvins to Celsius': str \n",
    "          Output:    float'''\n",
    "    print(feedback)\n",
    "    return tempKelvins - 273.15"
   ]
  },
  {
   "cell_type": "markdown",
   "metadata": {},
   "source": [
    "This docstring is not only visible from the function code, but can also be requested via the built-in `help()` function, like this:"
   ]
  },
  {
   "cell_type": "code",
   "execution_count": 2,
   "metadata": {},
   "outputs": [
    {
     "name": "stdout",
     "output_type": "stream",
     "text": [
      "Help on function kelvinsToCelsius_alt in module __main__:\n",
      "\n",
      "kelvinsToCelsius_alt(tempKelvins, feedback='Calculating Kelvins to Celsius')\n",
      "    This function converts temperature values in units of Kelvin to units of Celsius\n",
      "    Arguments: tempKelvins: float, feedback='Calculating Kelvins to Celsius': str \n",
      "    Output:    float\n",
      "\n"
     ]
    }
   ],
   "source": [
    "help(kelvinsToCelsius_alt)"
   ]
  },
  {
   "cell_type": "markdown",
   "metadata": {},
   "source": [
    "### Where are functions defined?\n",
    "\n",
    "Once we have defined functions, we can use them anywhere. In the main code, in another function, inside conditional statements or inside loops! But, now you may ask, where do we actually define functions. \n",
    "Of course, in a sequence of code, you have to define a function before using it. So in a Jupyter Notebook, a function has to be entered in code lines that come before it is used the first time. And if the function is defined in a cell above, that cell has to be executed, before running the cell where the function is used the first time. This is just the same as for the assignment of a variable, if you want to use a variable in a calculation, it has to be assigned beforehand. \n",
    "\n",
    "In Python scripts, which are stored in separate files ending with `.py`, functions are also defined somehwere at the top."
   ]
  },
  {
   "cell_type": "markdown",
   "metadata": {},
   "source": [
    "### Functions inside Functions"
   ]
  },
  {
   "cell_type": "markdown",
   "metadata": {},
   "source": [
    "You can also call functions from within other functions, as long as they are defined before using the function!"
   ]
  },
  {
   "cell_type": "code",
   "execution_count": 11,
   "metadata": {},
   "outputs": [],
   "source": [
    "def printAll(result, feedback):\n",
    "    print('Your Results: ' + str(result) )\n",
    "    print('Your Feedback: ' + feedback ) \n",
    "          \n",
    "\n",
    "def kelvinsToCelsius_alt(tempKelvins,feedback='Calculating Kelvins to Celsius'):\n",
    "    '''This function converts temperature values in units of Kelvin to units of Celsius\n",
    "          Arguments: tempKelvins: float, feedback='Calculating Kelvins to Celsius': str \n",
    "          Output:    float'''\n",
    "    tempC = tempKelvins - 273.15\n",
    "    printAll(tempC,feedback)\n",
    "    return tempC"
   ]
  },
  {
   "cell_type": "code",
   "execution_count": 13,
   "metadata": {},
   "outputs": [
    {
     "name": "stdout",
     "output_type": "stream",
     "text": [
      "Your Results: -273.15\n",
      "Your Feedback: Calculating Kelvins to Celsius\n"
     ]
    }
   ],
   "source": [
    "tempC = kelvinsToCelsius_alt(0)"
   ]
  },
  {
   "cell_type": "markdown",
   "metadata": {},
   "source": [
    "### Summary"
   ]
  },
  {
   "cell_type": "markdown",
   "metadata": {},
   "source": [
    "<div class=\"alert alert-warning\">\n",
    "\n",
    "**Format of Functions**\n",
    "\n",
    "Definition of functions in Python is performed in the following way.\n",
    "\n",
    "```python\n",
    "def functionName(arg1, arg2, arg3=‘default’, ...):\n",
    "\t'docstring with details about functionality'\n",
    "\tstatements\n",
    "\treturn variable\n",
    "```\n",
    "\n",
    "Calling of a respective functions in Python is done the following:\n",
    "\n",
    "```python\n",
    "varResult = functionName(arg1, arg2):\n",
    "```\n",
    "\n",
    "The `def` statement initiates the definition of a function. It creates a function object and assigns it to a name, in our example this is the name `functionName`. Similar as for variables, the function name is referenced to the function object (and it can be renamed!). Statements inside a function executed and evaluated only when the function is called. \n",
    "\n",
    "The **passing of parameter (arguments) is optional** and it can contain any number of arguments. Arguments are passed within parenthesis and assigned by position (i.e., when being called). Arguments can receive a default value, if the passing of their value is supposed to be optional during function calling. In the function above, the third argument is set to a default string value 'default'.\n",
    "\n",
    "A function may, but does not have to be, concluded with a return, which sends a result object back to the caller. In the example above this result is saved in a variable of the name `varResult`.\n",
    "If a function has no return statement or no return value, it returns a `None` object.\n",
    "\n",
    "</div>"
   ]
  },
  {
   "cell_type": "markdown",
   "metadata": {},
   "source": [
    "Very well! Now you know most about how to write functions. Visit the Digital Ocean page on the topic, if you need more examples: https://www.digitalocean.com/community/tutorials/how-to-define-functions-in-python-3.\n",
    "\n",
    "Now we will consider where variables defined inside and outside functions will be valid For that we have to discuss Namespaces and Scopes in Python. "
   ]
  },
  {
   "cell_type": "markdown",
   "metadata": {},
   "source": [
    "---\n",
    "<a id='scope'></a>\n",
    "\n",
    "# B. Scopes and Namespaces\n",
    "\n",
    "\n",
    "## B.1. Scopes\n",
    "\n",
    "When using variables within a program, it is important to keep **variable scope** in mind. A variable’s scope refers to the particular places it is accessible within the code of a given program. This is to say that not all variables are accessible from all parts of a given program — some variables will be global (e.g., having a global scope) and some will be local (e.g., having a local scope).\n",
    "\n",
    "Global variables exist outside of functions. Local variables exist within functions. Let's look at an example (from [Digital Ocean](https://www.digitalocean.com/community/tutorials/how-to-use-variables-in-python-3#global-and-local-variables)):"
   ]
  },
  {
   "cell_type": "code",
   "execution_count": null,
   "metadata": {},
   "outputs": [],
   "source": [
    "str1 = 'old' #Global variable: with global scope\n",
    "\n",
    "def my_function():   # accessing local namespace\n",
    "    str1 = 'new' #local variable, with local scope\n",
    "    str2 = 'new2' #Assign local variable\n",
    "\n",
    "    print(str1) #Print local variable num1\n",
    "    print(str2) #Print local variable num2\n",
    "\n",
    "#Call my_function()\n",
    "my_function() # within function: accessing local namespace\n",
    "\n",
    "#Print global variable num1\n",
    "print(str1)   # accessing global namespace\n"
   ]
  },
  {
   "cell_type": "markdown",
   "metadata": {},
   "source": [
    "At the top of the code a variable `str1` is assigned the value \"old\". This variable has a global scope in the program (here the notebook).\n",
    "Inside the function `my_function`, another variable `str1` is assigned with the value \"new\". This variable has a local scope and is only existing within the function's namespace, hence, you can access it only (e.g. through the print function) from that same namespace, hence, inside the function. \n",
    "When the variable `str1` is print out after the execution of the function in the last line of code, the global namespace is active and we can only access `str1` with a global scope. \n",
    "\n",
    "### The `global` Statement\n",
    "However, it is possible to assign global variables within a function by using Python’s global statement:"
   ]
  },
  {
   "cell_type": "code",
   "execution_count": null,
   "metadata": {},
   "outputs": [],
   "source": [
    "def new_shark():\n",
    "    global shark   #making shark variable global (has global scope)\n",
    "    shark = \"Sammy\"\n",
    "\n",
    "new_shark()\n",
    "\n",
    "print(shark) # accessing global namespace"
   ]
  },
  {
   "cell_type": "markdown",
   "metadata": {},
   "source": [
    "Even though the variable `shark` was assigned locally within the `new_shark()` function, it is accessible outside of the function because of the `global` statement used before the assignment of the variable within the function. Due to that `global` statement, when we call `print(shark)` outside of the function we don’t receive an error. Though you *can* assign a global variable within a function, you likely will not need to do this often, and should err on the side of readable code.\n",
    "\n",
    "Something else to keep in mind is that if you reference a variable within a function, without also assigning it a value, that variable is implicitly global. In order to have a local variable, you must assign a value to it within the body of the function.\n",
    "\n",
    "When working with variables, it is important to decide whether it is more appropriate to use a global or local variable. Usually it is best to keep variables local, but when you are using the same variable throughout several functions, you may want to initialize a global variable. If you are working with the variable only within one function or one class, you’ll probably want to use a local variable instead. "
   ]
  },
  {
   "cell_type": "markdown",
   "metadata": {},
   "source": [
    "### The `nonlocal` Statement\n",
    "There is also a `nonlocal` statement, which is only relevant for enclosed functions. See an example below:"
   ]
  },
  {
   "cell_type": "code",
   "execution_count": 2,
   "metadata": {},
   "outputs": [
    {
     "name": "stdout",
     "output_type": "stream",
     "text": [
      "Hugo\n",
      "Hugo\n"
     ]
    }
   ],
   "source": [
    "def outer():\n",
    "    def new_whale():\n",
    "        nonlocal whale\n",
    "        whale = \"Hugo\"\n",
    "        print(whale)\n",
    "    whale = \"old\"\n",
    "    new_whale()\n",
    "    print(whale) \n",
    "    \n",
    "outer()\n"
   ]
  },
  {
   "cell_type": "markdown",
   "metadata": {},
   "source": [
    "The statement `nonlocal` moves the variable into a namespace of a larger scope, by one level."
   ]
  },
  {
   "cell_type": "markdown",
   "metadata": {},
   "source": [
    "## B. 2 Namespaces\n",
    "\n",
    "As defined in Lutz (2013), a *namespace* is a place where variables live. Each function has it's own namespace. Each namespace has a specific scope (e.g. local or global). To get to know the content of your current namespace (in this Jupyter Notebook, or on a terminal/command window in your current python instance), you can run the function `dir()`."
   ]
  },
  {
   "cell_type": "code",
   "execution_count": null,
   "metadata": {},
   "outputs": [],
   "source": [
    "dir()"
   ]
  },
  {
   "cell_type": "markdown",
   "metadata": {},
   "source": [
    "You should recognize some of the names above, they are the variables that were assigned above. Some other names with trailing and/or leading underscores are attributes of the current namespace. It is not neccessary to understand the meaning of all of those names, but the concept of scopes and namespaces is very important to programming Python."
   ]
  },
  {
   "cell_type": "markdown",
   "metadata": {},
   "source": [
    "To get to know the namespace of a specific pthon package, you can also pass the package as parameter to the dir() function:"
   ]
  },
  {
   "cell_type": "code",
   "execution_count": null,
   "metadata": {},
   "outputs": [],
   "source": [
    "# import math; dir(math)   # uncomment and test the code"
   ]
  },
  {
   "cell_type": "markdown",
   "metadata": {},
   "source": [
    "<div class=\"alert alert-info\">\n",
    "\n",
    "**Note**\n",
    "\n",
    "`dir()` is a powerful built-in function in Python, which returns list of the attributes and methods of any object (e.g., functions, modules, strings, lists, dictionaries etc.) In professional terms, the function `dir()` provides you with the **namespace** of an object.\n",
    "If you run the function without passing any argument, you will receive names in the current namespace, hence, all previously assigned variables, other built-in attributes).\n",
    "Passing the name of a function to `dir()`, allows you to look up the namespace of that function.\n",
    "\n",
    "</div>"
   ]
  },
  {
   "cell_type": "markdown",
   "metadata": {},
   "source": [
    "---\n",
    "<a id='except'></a>\n",
    "# C. Exception Handling\n",
    "\n",
    "Python provides two very important features to handle any unexpected error in your Python programs and to add debugging capabilities in them:\n",
    "\n",
    "* Assertions\n",
    "* Exception Handling\n",
    "\n",
    "**Assertions** were mentioned and used in previous notebook assignments. They are sanity-checks that you can turn on or turn off when you are testing a program. If you like to know more about assertions go to the following Python page of [tutorialspoint](https://www.tutorialspoint.com/python/assertions_in_python.htm). \n",
    "\n",
    "An **exception** is an event, which occurs during the execution of a program that disrupts the normal flow of the program's instructions. In general, when a Python script encounters a situation that it cannot cope with, it raises an exception. For example, if you try to execute a list method on an integer variable, you receive an `AttributeError`:"
   ]
  },
  {
   "cell_type": "code",
   "execution_count": null,
   "metadata": {},
   "outputs": [],
   "source": [
    "a = 10\n",
    "a.sort()"
   ]
  },
  {
   "cell_type": "markdown",
   "metadata": {},
   "source": [
    "The error indicates that something is wrong with the code and that the code cannot be executed by interpreter. Exceptions, like the `AttributeError` are raised when interpreter detects errors during execution. Other examples are `TypeError`, `IndexError` or the very generic `SyntaxError`:"
   ]
  },
  {
   "cell_type": "code",
   "execution_count": null,
   "metadata": {},
   "outputs": [],
   "source": [
    "print 'Hello World!'"
   ]
  },
  {
   "cell_type": "markdown",
   "metadata": {},
   "source": [
    "An exception is a Python object that represents an error. \n",
    "\n",
    "| Name | Reason for the exception being raised |\n",
    "| :-: | :- |\n",
    "Exception | A built-in base class for all exceptions.\n",
    "AttributeError | Attempt to access an undefined object attribute\n",
    "IOError | Attempt to open a nonexistent file\n",
    "IndexError | Request for a nonexistent index of a sequence, e.g., list\n",
    "KeyError | Request for a nonexistent dictionary key\n",
    "NameError | Attempt to access an undeclared variable\n",
    "SyntaxError | Code is ill-formed\n",
    "TypeError | Pass function an argument with wrong type object \n",
    "ValueError | Pass function an argument with correct type object but with an inappropriate value\n",
    "ZeroDivionError | division (/) or modulo(%) by a numeric zero\n",
    "\n",
    "\n",
    "Here is a more comprehensive list of standard Exceptions available in Python: [Standard Exceptions](https://www.tutorialspoint.com/python/standard_exceptions.htm).\n",
    "\n",
    "While these exceptions are very informative for debugging your code, you might want to catch some possible exceptions, by handling their occurance and to allow your program to continue. When a Python script or Python code in a Jupyter Notebook cell raises an exception, it must either handle the exception immediately otherwise it terminates and quits. Exception handling is specifically useful to ensure the correct execution of functions, which is why the topic is added here. Exceptions can also be used to handle errors in loops, e.g. if user input error or file reading errors have to be handled (e.g. a non-existing file)."
   ]
  },
  {
   "cell_type": "markdown",
   "metadata": {},
   "source": [
    "<div class=\"alert alert-warning\">\n",
    "    \n",
    "**Format of Exceptions**\n",
    "\n",
    "Here is simple syntax of a try....except...else...finally block:\n",
    "\n",
    "``` Python\n",
    "try:                               # Exception handler\n",
    "   you 'try' to do something here  # May trigger except\n",
    "except Exception1                  # Exception catcher\n",
    "   in case there is an Exception1, do something here\n",
    "[except Exception2 [, Exception3 [, ExceptionN]]:\n",
    "   in case there is any Exception from the list do something here ]\n",
    "[except:\n",
    "   for any other Exception do something here ]  # all other exceptions\n",
    "\n",
    "# then nothing, else or finally\n",
    "[else:\n",
    "   in case is no exception do something here]\n",
    "[finally:\n",
    "   no matter what, always do something here]\n",
    "```\n",
    "\n",
    "A single try statement can have multiple except statements. This is useful when the try block contains statements that may throw different types of exceptions. But at most one except clause will be executed. Or, you can also use the same except statement to handle multiple exceptions at once. Or you can use an except statement without a name, to catch all other exceptions. The try statement can be followed by an else or a finally clause, both are optional. **You cannot use else clause as well along with a finally clause.** An else block has to be positioned after all the except clauses. An else clause will be executed if the try clause doesn't raise an exception. Finally clauses are called clean-up or termination clauses, because they must be executed under all circumstances, i.e. a \"finally\" clause is always executed regardless if an exception occurred in a try block or not. \n",
    "\n",
    "</div>"
   ]
  },
  {
   "cell_type": "markdown",
   "metadata": {},
   "source": [
    "### C.1. Examples for Exception Handling\n",
    "\n",
    "#### Simple example\n",
    "\n",
    "The simplest way to handle exceptions is with a \"try-except\" block: "
   ]
  },
  {
   "cell_type": "code",
   "execution_count": null,
   "metadata": {},
   "outputs": [],
   "source": [
    "(x,y) = (5,0)\n",
    "try:\n",
    "    z = x/y\n",
    "except ZeroDivisionError:\n",
    "    print(\"Can not divide by zero\")"
   ]
  },
  {
   "cell_type": "markdown",
   "metadata": {},
   "source": [
    "#### Handling non-existing files\n",
    "\n",
    "The following code tries to read a file of the name *testfile.txt*, which does not exist in this folder. See what happens:"
   ]
  },
  {
   "cell_type": "code",
   "execution_count": null,
   "metadata": {},
   "outputs": [],
   "source": [
    "try:\n",
    "    fh = open(\"testfile.txt\", \"r\")\n",
    "    print(\"File could be opened, now writing data ...\")\n",
    "except IOError:\n",
    "    print(\"Error: can\\'t find file or read data\")\n",
    "else:\n",
    "    print(\"Written content in the file successfully\")"
   ]
  },
  {
   "cell_type": "markdown",
   "metadata": {},
   "source": [
    "The example tries to open a file where you do not have write permission, so it raises the  exception `IOerror`. Alternatively, a `try/finally` block can be used like this."
   ]
  },
  {
   "cell_type": "code",
   "execution_count": 5,
   "metadata": {},
   "outputs": [
    {
     "name": "stdout",
     "output_type": "stream",
     "text": [
      "Error: can't find file or read data\n",
      "The file was either never opened or closed!\n"
     ]
    }
   ],
   "source": [
    "try:\n",
    "    tfile = open(\"capitals.txt\", \"r\")\n",
    "    print(\"File could be opened, now reading data ...\")\n",
    "    tfile.close()\n",
    "except IOError:\n",
    "    print(\"Error: can\\'t find file or read data\")\n",
    "finally:\n",
    "    print(\"The file was either never opened or closed!\")"
   ]
  },
  {
   "cell_type": "markdown",
   "metadata": {},
   "source": [
    "Now, go to the JupyterHub filebrowser and create a new textfile with the name *testfile.txt*. You can leave it empty. Again execute the cells above and study how the output changes."
   ]
  },
  {
   "cell_type": "markdown",
   "metadata": {},
   "source": [
    "#### Handling wrong user input in a loop\n",
    "\n",
    "Execute the code below. Make a few letter entries into the prompt, before actually entering an integer number. What happened? How does this work?"
   ]
  },
  {
   "cell_type": "code",
   "execution_count": null,
   "metadata": {},
   "outputs": [],
   "source": [
    "while True:\n",
    "    try:\n",
    "        n = input(\"Please enter an integer: \")\n",
    "        n = int(n)\n",
    "        break\n",
    "    except ValueError:\n",
    "        print(\"No valid integer! Please try again ...\")\n",
    "print(\"Great, you successfully entered an integer!\")"
   ]
  },
  {
   "cell_type": "markdown",
   "metadata": {},
   "source": [
    "#### Embed an assertion into an exception handler\n",
    "\n",
    "The assert statement below would raise an `AssertionError` that interrutpts your code, except if it is handled:"
   ]
  },
  {
   "cell_type": "code",
   "execution_count": null,
   "metadata": {},
   "outputs": [],
   "source": [
    "try:\n",
    "    assert 1==2\n",
    "except:\n",
    "    print(\"Exception caught\")"
   ]
  },
  {
   "cell_type": "markdown",
   "metadata": {},
   "source": [
    "#### Raising an Exception to Interrupt a function\n",
    "You can raise exceptions in several ways by using the raise statement. The general syntax for the raise statement is as follows.\n",
    "\n",
    "```python\n",
    "raise [Exception]\n",
    "```\n",
    "\n",
    "Here, Exception is the type of exception (for example, NameError). Specifying the Exception is optional. If the Exception is not specified, the last exception is raised. Standard exceptions that can be raised are detailed at: https://docs.python.org/3/library/exceptions.html."
   ]
  },
  {
   "cell_type": "code",
   "execution_count": 6,
   "metadata": {},
   "outputs": [
    {
     "name": "stdout",
     "output_type": "stream",
     "text": [
      "Level is too low, stop the function\n"
     ]
    }
   ],
   "source": [
    "def fctLevel(level):\n",
    "    if level < 10:\n",
    "        raise TypeError\n",
    "        print('something')\n",
    "        # The code below to this would not be executed\n",
    "        # if we raise the exception\n",
    "try:\n",
    "    fctLevel(5)\n",
    "except TypeError:\n",
    "    print('Level is too low, stop the function')"
   ]
  },
  {
   "cell_type": "markdown",
   "metadata": {},
   "source": [
    "Alternatively, the exception handling could be coded into the function:"
   ]
  },
  {
   "cell_type": "code",
   "execution_count": null,
   "metadata": {},
   "outputs": [],
   "source": [
    "def fctLevel(level):\n",
    "    try: \n",
    "        if level < 10:\n",
    "            raise TypeError\n",
    "            print('something')\n",
    "            # The code below to this would not be executed\n",
    "            # if we raise the exception        \n",
    "    except TypeError:\n",
    "        print('Level is too low, stop the function')\n",
    "    \n",
    "fctLevel(5)"
   ]
  },
  {
   "cell_type": "markdown",
   "metadata": {},
   "source": [
    "More details on exceptions can be found here: https://www.python-course.eu/exception_handling.php."
   ]
  },
  {
   "cell_type": "markdown",
   "metadata": {},
   "source": [
    "### C.2. Exception Handling for the Function celsiusToFahr\n",
    "\n",
    "Given the two last examples for handling exceptions related to functions. Write code that does the same for the function `celsiusToFahr`: Handle the case that the user inputs a not-supported value for the `convertTo` parameter, e.g. a string. If the user runs this function using a variable value other than `float` or `int`, the code should return a respective error message to the user and interrupt the function.\n",
    "\n",
    "Also here, you have two options. You can code the exception handling inside the function, or when calling the funciton. Try to code either or both options. You can find the solutions at the end of this notebook. "
   ]
  },
  {
   "cell_type": "code",
   "execution_count": null,
   "metadata": {},
   "outputs": [],
   "source": [
    "# Extended celsiusToFahr\n",
    "\n",
    "\n",
    "\n"
   ]
  },
  {
   "cell_type": "markdown",
   "metadata": {},
   "source": [
    "---\n",
    "# Solutions\n",
    "\n",
    "#### Solution for Check your Understanding"
   ]
  },
  {
   "cell_type": "code",
   "execution_count": null,
   "metadata": {},
   "outputs": [],
   "source": [
    "# Check your Understanding\n",
    "def hello(name, age):\n",
    "    return 'Hello ' + name + '. In 10 years you will be ' + str(age) + '!'\n",
    "\n",
    "output = hello(name='Dave', age=38)\n",
    "print(output)"
   ]
  },
  {
   "cell_type": "markdown",
   "metadata": {},
   "source": [
    "#### Exception Handling for celsiusToFahr: Outside the function"
   ]
  },
  {
   "cell_type": "code",
   "execution_count": 36,
   "metadata": {},
   "outputs": [
    {
     "name": "stdout",
     "output_type": "stream",
     "text": [
      "Temperature conversion only valid for input arguments of type int or fload!\n"
     ]
    }
   ],
   "source": [
    "# Exception Handling for celsiusToFahr \n",
    "def celsiusToFahr(tempCelsius):\n",
    "    return 9/5 * tempCelsius + 32\n",
    "\n",
    "\n",
    "tempC = '0'\n",
    "#tempC = 0\n",
    "\n",
    "try:\n",
    "    if (type(tempC) == int or type(tempC) == float):\n",
    "        celsiusToFahr(tempC)\n",
    "    else:\n",
    "        raise TypeError\n",
    "        \n",
    "except:\n",
    "    print(\"Temperature conversion only valid for input arguments of type int or fload!\" )\n"
   ]
  },
  {
   "cell_type": "markdown",
   "metadata": {},
   "source": [
    "#### Exception Handling for celsiusToFahr: Inside a function"
   ]
  },
  {
   "cell_type": "code",
   "execution_count": 22,
   "metadata": {},
   "outputs": [],
   "source": [
    "# Exception Handling for celsiusToFahr\n",
    "\n",
    "def celsiusToFahr_withExcept(tempCelsius):\n",
    "    try:       \n",
    "        if type(tempC) == int or type(tempC) == float:\n",
    "            tempK = 9/5 * tempCelsius + 32\n",
    "        else:\n",
    "            raise TypeError\n",
    "\n",
    "        # Return the result\n",
    "        return tempK\n",
    "\n",
    "    except:\n",
    "        print(\"Temperature conversion only valid for input arguments of type int or fload!\" )"
   ]
  },
  {
   "cell_type": "code",
   "execution_count": 28,
   "metadata": {},
   "outputs": [
    {
     "name": "stdout",
     "output_type": "stream",
     "text": [
      "Temperature conversion only valid for input arguments of type int or fload!\n"
     ]
    }
   ],
   "source": [
    "tempC = 0\n",
    "\n",
    "celsiusToFahr_withExcept(tempC)\n",
    "celsiusToFahr_withExcept('tempC')"
   ]
  },
  {
   "cell_type": "code",
   "execution_count": null,
   "metadata": {},
   "outputs": [],
   "source": []
  }
 ],
 "metadata": {
  "kernelspec": {
   "display_name": "Python 3",
   "language": "python",
   "name": "python3"
  },
  "language_info": {
   "codemirror_mode": {
    "name": "ipython",
    "version": 3
   },
   "file_extension": ".py",
   "mimetype": "text/x-python",
   "name": "python",
   "nbconvert_exporter": "python",
   "pygments_lexer": "ipython3",
   "version": "3.8.8"
  }
 },
 "nbformat": 4,
 "nbformat_minor": 4
}
